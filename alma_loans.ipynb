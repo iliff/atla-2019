{
 "cells": [
  {
   "cell_type": "code",
   "execution_count": 1,
   "metadata": {},
   "outputs": [],
   "source": [
    "import pandas as pd\n",
    "from bokeh.plotting import figure, show\n",
    "from bokeh.io import output_notebook\n",
    "from bokeh.models import ColumnDataSource\n",
    "from bokeh.palettes import Spectral7\n",
    "from bokeh.models.tools import HoverTool"
   ]
  },
  {
   "cell_type": "code",
   "execution_count": 2,
   "metadata": {},
   "outputs": [
    {
     "data": {
      "text/html": [
       "\n",
       "    <div class=\"bk-root\">\n",
       "        <a href=\"https://bokeh.pydata.org\" target=\"_blank\" class=\"bk-logo bk-logo-small bk-logo-notebook\"></a>\n",
       "        <span id=\"b9c6f7de-a4e0-4381-b765-01db35c78027\">Loading BokehJS ...</span>\n",
       "    </div>"
      ]
     },
     "metadata": {},
     "output_type": "display_data"
    },
    {
     "data": {
      "application/javascript": [
       "\n",
       "(function(root) {\n",
       "  function now() {\n",
       "    return new Date();\n",
       "  }\n",
       "\n",
       "  var force = true;\n",
       "\n",
       "  if (typeof (root._bokeh_onload_callbacks) === \"undefined\" || force === true) {\n",
       "    root._bokeh_onload_callbacks = [];\n",
       "    root._bokeh_is_loading = undefined;\n",
       "  }\n",
       "\n",
       "  var JS_MIME_TYPE = 'application/javascript';\n",
       "  var HTML_MIME_TYPE = 'text/html';\n",
       "  var EXEC_MIME_TYPE = 'application/vnd.bokehjs_exec.v0+json';\n",
       "  var CLASS_NAME = 'output_bokeh rendered_html';\n",
       "\n",
       "  /**\n",
       "   * Render data to the DOM node\n",
       "   */\n",
       "  function render(props, node) {\n",
       "    var script = document.createElement(\"script\");\n",
       "    node.appendChild(script);\n",
       "  }\n",
       "\n",
       "  /**\n",
       "   * Handle when an output is cleared or removed\n",
       "   */\n",
       "  function handleClearOutput(event, handle) {\n",
       "    var cell = handle.cell;\n",
       "\n",
       "    var id = cell.output_area._bokeh_element_id;\n",
       "    var server_id = cell.output_area._bokeh_server_id;\n",
       "    // Clean up Bokeh references\n",
       "    if (id != null && id in Bokeh.index) {\n",
       "      Bokeh.index[id].model.document.clear();\n",
       "      delete Bokeh.index[id];\n",
       "    }\n",
       "\n",
       "    if (server_id !== undefined) {\n",
       "      // Clean up Bokeh references\n",
       "      var cmd = \"from bokeh.io.state import curstate; print(curstate().uuid_to_server['\" + server_id + \"'].get_sessions()[0].document.roots[0]._id)\";\n",
       "      cell.notebook.kernel.execute(cmd, {\n",
       "        iopub: {\n",
       "          output: function(msg) {\n",
       "            var id = msg.content.text.trim();\n",
       "            if (id in Bokeh.index) {\n",
       "              Bokeh.index[id].model.document.clear();\n",
       "              delete Bokeh.index[id];\n",
       "            }\n",
       "          }\n",
       "        }\n",
       "      });\n",
       "      // Destroy server and session\n",
       "      var cmd = \"import bokeh.io.notebook as ion; ion.destroy_server('\" + server_id + \"')\";\n",
       "      cell.notebook.kernel.execute(cmd);\n",
       "    }\n",
       "  }\n",
       "\n",
       "  /**\n",
       "   * Handle when a new output is added\n",
       "   */\n",
       "  function handleAddOutput(event, handle) {\n",
       "    var output_area = handle.output_area;\n",
       "    var output = handle.output;\n",
       "\n",
       "    // limit handleAddOutput to display_data with EXEC_MIME_TYPE content only\n",
       "    if ((output.output_type != \"display_data\") || (!output.data.hasOwnProperty(EXEC_MIME_TYPE))) {\n",
       "      return\n",
       "    }\n",
       "\n",
       "    var toinsert = output_area.element.find(\".\" + CLASS_NAME.split(' ')[0]);\n",
       "\n",
       "    if (output.metadata[EXEC_MIME_TYPE][\"id\"] !== undefined) {\n",
       "      toinsert[toinsert.length - 1].firstChild.textContent = output.data[JS_MIME_TYPE];\n",
       "      // store reference to embed id on output_area\n",
       "      output_area._bokeh_element_id = output.metadata[EXEC_MIME_TYPE][\"id\"];\n",
       "    }\n",
       "    if (output.metadata[EXEC_MIME_TYPE][\"server_id\"] !== undefined) {\n",
       "      var bk_div = document.createElement(\"div\");\n",
       "      bk_div.innerHTML = output.data[HTML_MIME_TYPE];\n",
       "      var script_attrs = bk_div.children[0].attributes;\n",
       "      for (var i = 0; i < script_attrs.length; i++) {\n",
       "        toinsert[toinsert.length - 1].firstChild.setAttribute(script_attrs[i].name, script_attrs[i].value);\n",
       "      }\n",
       "      // store reference to server id on output_area\n",
       "      output_area._bokeh_server_id = output.metadata[EXEC_MIME_TYPE][\"server_id\"];\n",
       "    }\n",
       "  }\n",
       "\n",
       "  function register_renderer(events, OutputArea) {\n",
       "\n",
       "    function append_mime(data, metadata, element) {\n",
       "      // create a DOM node to render to\n",
       "      var toinsert = this.create_output_subarea(\n",
       "        metadata,\n",
       "        CLASS_NAME,\n",
       "        EXEC_MIME_TYPE\n",
       "      );\n",
       "      this.keyboard_manager.register_events(toinsert);\n",
       "      // Render to node\n",
       "      var props = {data: data, metadata: metadata[EXEC_MIME_TYPE]};\n",
       "      render(props, toinsert[toinsert.length - 1]);\n",
       "      element.append(toinsert);\n",
       "      return toinsert\n",
       "    }\n",
       "\n",
       "    /* Handle when an output is cleared or removed */\n",
       "    events.on('clear_output.CodeCell', handleClearOutput);\n",
       "    events.on('delete.Cell', handleClearOutput);\n",
       "\n",
       "    /* Handle when a new output is added */\n",
       "    events.on('output_added.OutputArea', handleAddOutput);\n",
       "\n",
       "    /**\n",
       "     * Register the mime type and append_mime function with output_area\n",
       "     */\n",
       "    OutputArea.prototype.register_mime_type(EXEC_MIME_TYPE, append_mime, {\n",
       "      /* Is output safe? */\n",
       "      safe: true,\n",
       "      /* Index of renderer in `output_area.display_order` */\n",
       "      index: 0\n",
       "    });\n",
       "  }\n",
       "\n",
       "  // register the mime type if in Jupyter Notebook environment and previously unregistered\n",
       "  if (root.Jupyter !== undefined) {\n",
       "    var events = require('base/js/events');\n",
       "    var OutputArea = require('notebook/js/outputarea').OutputArea;\n",
       "\n",
       "    if (OutputArea.prototype.mime_types().indexOf(EXEC_MIME_TYPE) == -1) {\n",
       "      register_renderer(events, OutputArea);\n",
       "    }\n",
       "  }\n",
       "\n",
       "  \n",
       "  if (typeof (root._bokeh_timeout) === \"undefined\" || force === true) {\n",
       "    root._bokeh_timeout = Date.now() + 5000;\n",
       "    root._bokeh_failed_load = false;\n",
       "  }\n",
       "\n",
       "  var NB_LOAD_WARNING = {'data': {'text/html':\n",
       "     \"<div style='background-color: #fdd'>\\n\"+\n",
       "     \"<p>\\n\"+\n",
       "     \"BokehJS does not appear to have successfully loaded. If loading BokehJS from CDN, this \\n\"+\n",
       "     \"may be due to a slow or bad network connection. Possible fixes:\\n\"+\n",
       "     \"</p>\\n\"+\n",
       "     \"<ul>\\n\"+\n",
       "     \"<li>re-rerun `output_notebook()` to attempt to load from CDN again, or</li>\\n\"+\n",
       "     \"<li>use INLINE resources instead, as so:</li>\\n\"+\n",
       "     \"</ul>\\n\"+\n",
       "     \"<code>\\n\"+\n",
       "     \"from bokeh.resources import INLINE\\n\"+\n",
       "     \"output_notebook(resources=INLINE)\\n\"+\n",
       "     \"</code>\\n\"+\n",
       "     \"</div>\"}};\n",
       "\n",
       "  function display_loaded() {\n",
       "    var el = document.getElementById(\"b9c6f7de-a4e0-4381-b765-01db35c78027\");\n",
       "    if (el != null) {\n",
       "      el.textContent = \"BokehJS is loading...\";\n",
       "    }\n",
       "    if (root.Bokeh !== undefined) {\n",
       "      if (el != null) {\n",
       "        el.textContent = \"BokehJS \" + root.Bokeh.version + \" successfully loaded.\";\n",
       "      }\n",
       "    } else if (Date.now() < root._bokeh_timeout) {\n",
       "      setTimeout(display_loaded, 100)\n",
       "    }\n",
       "  }\n",
       "\n",
       "\n",
       "  function run_callbacks() {\n",
       "    try {\n",
       "      root._bokeh_onload_callbacks.forEach(function(callback) { callback() });\n",
       "    }\n",
       "    finally {\n",
       "      delete root._bokeh_onload_callbacks\n",
       "    }\n",
       "    console.info(\"Bokeh: all callbacks have finished\");\n",
       "  }\n",
       "\n",
       "  function load_libs(js_urls, callback) {\n",
       "    root._bokeh_onload_callbacks.push(callback);\n",
       "    if (root._bokeh_is_loading > 0) {\n",
       "      console.log(\"Bokeh: BokehJS is being loaded, scheduling callback at\", now());\n",
       "      return null;\n",
       "    }\n",
       "    if (js_urls == null || js_urls.length === 0) {\n",
       "      run_callbacks();\n",
       "      return null;\n",
       "    }\n",
       "    console.log(\"Bokeh: BokehJS not loaded, scheduling load and callback at\", now());\n",
       "    root._bokeh_is_loading = js_urls.length;\n",
       "    for (var i = 0; i < js_urls.length; i++) {\n",
       "      var url = js_urls[i];\n",
       "      var s = document.createElement('script');\n",
       "      s.src = url;\n",
       "      s.async = false;\n",
       "      s.onreadystatechange = s.onload = function() {\n",
       "        root._bokeh_is_loading--;\n",
       "        if (root._bokeh_is_loading === 0) {\n",
       "          console.log(\"Bokeh: all BokehJS libraries loaded\");\n",
       "          run_callbacks()\n",
       "        }\n",
       "      };\n",
       "      s.onerror = function() {\n",
       "        console.warn(\"failed to load library \" + url);\n",
       "      };\n",
       "      console.log(\"Bokeh: injecting script tag for BokehJS library: \", url);\n",
       "      document.getElementsByTagName(\"head\")[0].appendChild(s);\n",
       "    }\n",
       "  };var element = document.getElementById(\"b9c6f7de-a4e0-4381-b765-01db35c78027\");\n",
       "  if (element == null) {\n",
       "    console.log(\"Bokeh: ERROR: autoload.js configured with elementid 'b9c6f7de-a4e0-4381-b765-01db35c78027' but no matching script tag was found. \")\n",
       "    return false;\n",
       "  }\n",
       "\n",
       "  var js_urls = [\"https://cdn.pydata.org/bokeh/release/bokeh-0.13.0.min.js\", \"https://cdn.pydata.org/bokeh/release/bokeh-widgets-0.13.0.min.js\", \"https://cdn.pydata.org/bokeh/release/bokeh-tables-0.13.0.min.js\", \"https://cdn.pydata.org/bokeh/release/bokeh-gl-0.13.0.min.js\"];\n",
       "\n",
       "  var inline_js = [\n",
       "    function(Bokeh) {\n",
       "      Bokeh.set_log_level(\"info\");\n",
       "    },\n",
       "    \n",
       "    function(Bokeh) {\n",
       "      \n",
       "    },\n",
       "    function(Bokeh) {\n",
       "      console.log(\"Bokeh: injecting CSS: https://cdn.pydata.org/bokeh/release/bokeh-0.13.0.min.css\");\n",
       "      Bokeh.embed.inject_css(\"https://cdn.pydata.org/bokeh/release/bokeh-0.13.0.min.css\");\n",
       "      console.log(\"Bokeh: injecting CSS: https://cdn.pydata.org/bokeh/release/bokeh-widgets-0.13.0.min.css\");\n",
       "      Bokeh.embed.inject_css(\"https://cdn.pydata.org/bokeh/release/bokeh-widgets-0.13.0.min.css\");\n",
       "      console.log(\"Bokeh: injecting CSS: https://cdn.pydata.org/bokeh/release/bokeh-tables-0.13.0.min.css\");\n",
       "      Bokeh.embed.inject_css(\"https://cdn.pydata.org/bokeh/release/bokeh-tables-0.13.0.min.css\");\n",
       "    }\n",
       "  ];\n",
       "\n",
       "  function run_inline_js() {\n",
       "    \n",
       "    if ((root.Bokeh !== undefined) || (force === true)) {\n",
       "      for (var i = 0; i < inline_js.length; i++) {\n",
       "        inline_js[i].call(root, root.Bokeh);\n",
       "      }if (force === true) {\n",
       "        display_loaded();\n",
       "      }} else if (Date.now() < root._bokeh_timeout) {\n",
       "      setTimeout(run_inline_js, 100);\n",
       "    } else if (!root._bokeh_failed_load) {\n",
       "      console.log(\"Bokeh: BokehJS failed to load within specified timeout.\");\n",
       "      root._bokeh_failed_load = true;\n",
       "    } else if (force !== true) {\n",
       "      var cell = $(document.getElementById(\"b9c6f7de-a4e0-4381-b765-01db35c78027\")).parents('.cell').data().cell;\n",
       "      cell.output_area.append_execute_result(NB_LOAD_WARNING)\n",
       "    }\n",
       "\n",
       "  }\n",
       "\n",
       "  if (root._bokeh_is_loading === 0) {\n",
       "    console.log(\"Bokeh: BokehJS loaded, going straight to plotting\");\n",
       "    run_inline_js();\n",
       "  } else {\n",
       "    load_libs(js_urls, function() {\n",
       "      console.log(\"Bokeh: BokehJS plotting callback run at\", now());\n",
       "      run_inline_js();\n",
       "    });\n",
       "  }\n",
       "}(window));"
      ],
      "application/vnd.bokehjs_load.v0+json": "\n(function(root) {\n  function now() {\n    return new Date();\n  }\n\n  var force = true;\n\n  if (typeof (root._bokeh_onload_callbacks) === \"undefined\" || force === true) {\n    root._bokeh_onload_callbacks = [];\n    root._bokeh_is_loading = undefined;\n  }\n\n  \n\n  \n  if (typeof (root._bokeh_timeout) === \"undefined\" || force === true) {\n    root._bokeh_timeout = Date.now() + 5000;\n    root._bokeh_failed_load = false;\n  }\n\n  var NB_LOAD_WARNING = {'data': {'text/html':\n     \"<div style='background-color: #fdd'>\\n\"+\n     \"<p>\\n\"+\n     \"BokehJS does not appear to have successfully loaded. If loading BokehJS from CDN, this \\n\"+\n     \"may be due to a slow or bad network connection. Possible fixes:\\n\"+\n     \"</p>\\n\"+\n     \"<ul>\\n\"+\n     \"<li>re-rerun `output_notebook()` to attempt to load from CDN again, or</li>\\n\"+\n     \"<li>use INLINE resources instead, as so:</li>\\n\"+\n     \"</ul>\\n\"+\n     \"<code>\\n\"+\n     \"from bokeh.resources import INLINE\\n\"+\n     \"output_notebook(resources=INLINE)\\n\"+\n     \"</code>\\n\"+\n     \"</div>\"}};\n\n  function display_loaded() {\n    var el = document.getElementById(\"b9c6f7de-a4e0-4381-b765-01db35c78027\");\n    if (el != null) {\n      el.textContent = \"BokehJS is loading...\";\n    }\n    if (root.Bokeh !== undefined) {\n      if (el != null) {\n        el.textContent = \"BokehJS \" + root.Bokeh.version + \" successfully loaded.\";\n      }\n    } else if (Date.now() < root._bokeh_timeout) {\n      setTimeout(display_loaded, 100)\n    }\n  }\n\n\n  function run_callbacks() {\n    try {\n      root._bokeh_onload_callbacks.forEach(function(callback) { callback() });\n    }\n    finally {\n      delete root._bokeh_onload_callbacks\n    }\n    console.info(\"Bokeh: all callbacks have finished\");\n  }\n\n  function load_libs(js_urls, callback) {\n    root._bokeh_onload_callbacks.push(callback);\n    if (root._bokeh_is_loading > 0) {\n      console.log(\"Bokeh: BokehJS is being loaded, scheduling callback at\", now());\n      return null;\n    }\n    if (js_urls == null || js_urls.length === 0) {\n      run_callbacks();\n      return null;\n    }\n    console.log(\"Bokeh: BokehJS not loaded, scheduling load and callback at\", now());\n    root._bokeh_is_loading = js_urls.length;\n    for (var i = 0; i < js_urls.length; i++) {\n      var url = js_urls[i];\n      var s = document.createElement('script');\n      s.src = url;\n      s.async = false;\n      s.onreadystatechange = s.onload = function() {\n        root._bokeh_is_loading--;\n        if (root._bokeh_is_loading === 0) {\n          console.log(\"Bokeh: all BokehJS libraries loaded\");\n          run_callbacks()\n        }\n      };\n      s.onerror = function() {\n        console.warn(\"failed to load library \" + url);\n      };\n      console.log(\"Bokeh: injecting script tag for BokehJS library: \", url);\n      document.getElementsByTagName(\"head\")[0].appendChild(s);\n    }\n  };var element = document.getElementById(\"b9c6f7de-a4e0-4381-b765-01db35c78027\");\n  if (element == null) {\n    console.log(\"Bokeh: ERROR: autoload.js configured with elementid 'b9c6f7de-a4e0-4381-b765-01db35c78027' but no matching script tag was found. \")\n    return false;\n  }\n\n  var js_urls = [\"https://cdn.pydata.org/bokeh/release/bokeh-0.13.0.min.js\", \"https://cdn.pydata.org/bokeh/release/bokeh-widgets-0.13.0.min.js\", \"https://cdn.pydata.org/bokeh/release/bokeh-tables-0.13.0.min.js\", \"https://cdn.pydata.org/bokeh/release/bokeh-gl-0.13.0.min.js\"];\n\n  var inline_js = [\n    function(Bokeh) {\n      Bokeh.set_log_level(\"info\");\n    },\n    \n    function(Bokeh) {\n      \n    },\n    function(Bokeh) {\n      console.log(\"Bokeh: injecting CSS: https://cdn.pydata.org/bokeh/release/bokeh-0.13.0.min.css\");\n      Bokeh.embed.inject_css(\"https://cdn.pydata.org/bokeh/release/bokeh-0.13.0.min.css\");\n      console.log(\"Bokeh: injecting CSS: https://cdn.pydata.org/bokeh/release/bokeh-widgets-0.13.0.min.css\");\n      Bokeh.embed.inject_css(\"https://cdn.pydata.org/bokeh/release/bokeh-widgets-0.13.0.min.css\");\n      console.log(\"Bokeh: injecting CSS: https://cdn.pydata.org/bokeh/release/bokeh-tables-0.13.0.min.css\");\n      Bokeh.embed.inject_css(\"https://cdn.pydata.org/bokeh/release/bokeh-tables-0.13.0.min.css\");\n    }\n  ];\n\n  function run_inline_js() {\n    \n    if ((root.Bokeh !== undefined) || (force === true)) {\n      for (var i = 0; i < inline_js.length; i++) {\n        inline_js[i].call(root, root.Bokeh);\n      }if (force === true) {\n        display_loaded();\n      }} else if (Date.now() < root._bokeh_timeout) {\n      setTimeout(run_inline_js, 100);\n    } else if (!root._bokeh_failed_load) {\n      console.log(\"Bokeh: BokehJS failed to load within specified timeout.\");\n      root._bokeh_failed_load = true;\n    } else if (force !== true) {\n      var cell = $(document.getElementById(\"b9c6f7de-a4e0-4381-b765-01db35c78027\")).parents('.cell').data().cell;\n      cell.output_area.append_execute_result(NB_LOAD_WARNING)\n    }\n\n  }\n\n  if (root._bokeh_is_loading === 0) {\n    console.log(\"Bokeh: BokehJS loaded, going straight to plotting\");\n    run_inline_js();\n  } else {\n    load_libs(js_urls, function() {\n      console.log(\"Bokeh: BokehJS plotting callback run at\", now());\n      run_inline_js();\n    });\n  }\n}(window));"
     },
     "metadata": {},
     "output_type": "display_data"
    }
   ],
   "source": [
    "output_notebook()"
   ]
  },
  {
   "cell_type": "markdown",
   "metadata": {},
   "source": [
    "## Loans by date"
   ]
  },
  {
   "cell_type": "markdown",
   "metadata": {},
   "source": [
    "### Prepare data"
   ]
  },
  {
   "cell_type": "code",
   "execution_count": 22,
   "metadata": {},
   "outputs": [],
   "source": [
    "df = pd.read_csv('alma_loans_by_date.csv')  # read data to dataframe\n",
    "df['Loan Date'] = pd.to_datetime(df['Loan Date'])  # set column to datetime format\n",
    "df.set_index('Loan Date', inplace=True)  #  set index to 'Loan Date' in order to group by month\n",
    "g = df.groupby(pd.Grouper(freq=\"M\"))  # group by month\n",
    "new_df = g.sum()  # sum groupby object\n",
    "new_df.reset_index(inplace=True)  # reset index "
   ]
  },
  {
   "cell_type": "markdown",
   "metadata": {},
   "source": [
    "### Loans by month"
   ]
  },
  {
   "cell_type": "code",
   "execution_count": 19,
   "metadata": {},
   "outputs": [
    {
     "data": {
      "text/html": [
       "\n",
       "\n",
       "\n",
       "\n",
       "\n",
       "\n",
       "  <div class=\"bk-root\" id=\"aabb087d-2348-41cd-bc3c-44463d917f52\"></div>\n"
      ]
     },
     "metadata": {},
     "output_type": "display_data"
    },
    {
     "data": {
      "application/javascript": [
       "(function(root) {\n",
       "  function embed_document(root) {\n",
       "    \n",
       "  var docs_json = {\"6ba49e9a-b489-4c58-a705-78c44d3a795f\":{\"roots\":{\"references\":[{\"attributes\":{},\"id\":\"f1c29dd3-ea66-49cc-b94a-2a6f352d23b2\",\"type\":\"SaveTool\"},{\"attributes\":{},\"id\":\"f6b2cc1f-eec7-46ea-b986-f075d1aebfd7\",\"type\":\"ResetTool\"},{\"attributes\":{},\"id\":\"fb171a8a-9560-4c86-8644-62a481cc34f4\",\"type\":\"HelpTool\"},{\"attributes\":{},\"id\":\"21c156ca-9e3c-4940-8458-d183294bef82\",\"type\":\"WheelZoomTool\"},{\"attributes\":{},\"id\":\"87592c8c-e956-4953-9f76-6ae370696e36\",\"type\":\"DatetimeTickFormatter\"},{\"attributes\":{},\"id\":\"fb0f7ec8-d32b-43de-9906-f6c2fc0cbb4c\",\"type\":\"BasicTickFormatter\"},{\"attributes\":{\"base\":60,\"mantissas\":[1,2,5,10,15,20,30],\"max_interval\":1800000.0,\"min_interval\":1000.0,\"num_minor_ticks\":0},\"id\":\"a4a933c6-0b48-44a2-8f0a-f6a7ade1abcb\",\"type\":\"AdaptiveTicker\"},{\"attributes\":{\"base\":24,\"mantissas\":[1,2,4,6,8,12],\"max_interval\":43200000.0,\"min_interval\":3600000.0,\"num_minor_ticks\":0},\"id\":\"29c3be0e-1bec-4836-86d8-a43371956e00\",\"type\":\"AdaptiveTicker\"},{\"attributes\":{\"callback\":null},\"id\":\"4f6ba664-b4fa-4d6a-a4f0-1d812001bea4\",\"type\":\"DataRange1d\"},{\"attributes\":{\"days\":[1,2,3,4,5,6,7,8,9,10,11,12,13,14,15,16,17,18,19,20,21,22,23,24,25,26,27,28,29,30,31]},\"id\":\"c250a367-f1d4-48cc-b1d5-4add527ccdc2\",\"type\":\"DaysTicker\"},{\"attributes\":{\"days\":[1,4,7,10,13,16,19,22,25,28]},\"id\":\"2cfc0854-a5a3-4403-a36a-ff7785d0e686\",\"type\":\"DaysTicker\"},{\"attributes\":{\"days\":[1,8,15,22]},\"id\":\"9e59c1a3-9444-4843-a997-5e9629be7df4\",\"type\":\"DaysTicker\"},{\"attributes\":{\"below\":[{\"id\":\"a1497076-e19d-402a-a7aa-d8211f45fecb\",\"type\":\"DatetimeAxis\"}],\"left\":[{\"id\":\"3cab00b9-54e5-4393-94bb-04362f2b60b1\",\"type\":\"LinearAxis\"}],\"plot_height\":500,\"plot_width\":950,\"renderers\":[{\"id\":\"a1497076-e19d-402a-a7aa-d8211f45fecb\",\"type\":\"DatetimeAxis\"},{\"id\":\"0f4022ee-37d2-47f2-b100-dfe85f8d566e\",\"type\":\"Grid\"},{\"id\":\"3cab00b9-54e5-4393-94bb-04362f2b60b1\",\"type\":\"LinearAxis\"},{\"id\":\"d7bd541b-60a0-4560-852a-66642ecb3f51\",\"type\":\"Grid\"},{\"id\":\"7c0520fa-da62-4bc0-bfa2-1abb90df187b\",\"type\":\"BoxAnnotation\"},{\"id\":\"4b25f3b0-8cbb-48dd-be90-7d4bcfe251ba\",\"type\":\"Legend\"},{\"id\":\"c66ffd9c-047f-4430-8e04-aa0be11cf591\",\"type\":\"GlyphRenderer\"}],\"title\":{\"id\":\"3b618713-f69c-4e51-b0d2-4b9658e6ccc3\",\"type\":\"Title\"},\"toolbar\":{\"id\":\"dcabcfb7-6750-423b-bac8-009dcb670bc3\",\"type\":\"Toolbar\"},\"x_range\":{\"id\":\"4f6ba664-b4fa-4d6a-a4f0-1d812001bea4\",\"type\":\"DataRange1d\"},\"x_scale\":{\"id\":\"ce10d071-f7e7-4096-b545-936e61bbe601\",\"type\":\"LinearScale\"},\"y_range\":{\"id\":\"cb4c3eec-38f0-48e5-a701-0339dcd074d4\",\"type\":\"DataRange1d\"},\"y_scale\":{\"id\":\"ade8ab01-b97b-4096-a76d-a107251538d9\",\"type\":\"LinearScale\"}},\"id\":\"498d8a78-c888-4766-9b00-5044dcbd4ad7\",\"subtype\":\"Figure\",\"type\":\"Plot\"},{\"attributes\":{\"days\":[1,15]},\"id\":\"9514276a-1f4d-4842-9c4c-e8de7c92ffba\",\"type\":\"DaysTicker\"},{\"attributes\":{\"months\":[0,1,2,3,4,5,6,7,8,9,10,11]},\"id\":\"2425d1f2-4213-4e39-b07f-32663aacf8dd\",\"type\":\"MonthsTicker\"},{\"attributes\":{\"callback\":null,\"data\":{\"Loan Date\":{\"__ndarray__\":\"AACArulZdUIAAMAA5GN1QgAAAFPebXVCAACAP4Z3dUIAAMCRgIF1QgAAQH4oi3VCAACA0CKVdUIAAMAiHZ91QgAAwEMgqHVCAAAAlhqydUIAAICCwrt1QgAAwNS8xXVCAABAwWTPdUIAAIATX9l1QgAAwGVZ43VCAABAUgHtdUIAAICk+/Z1QgAAAJGjAHZCAABA450KdkIAAIA1mBR2QgAAgFabHXZCAADAqJUndkIAAECVPTF2QgAAgOc3O3ZCAAAA1N9EdkIAAEAm2k52QgAAgHjUWHZCAAAAZXxidkIAAEC3dmx2QgAAwKMednZCAAAA9hiAdkIAAEBIE4p2QgAAQGkWk3ZCAACAuxCddkIAAACouKZ2Qg==\",\"dtype\":\"float64\",\"shape\":[35]},\"Loans (In House + Not In House)\":[229,378,361,510,837,519,263,630,528,576,602,549,349,372,596,411,547,309,269,363,351,449,400,380,249,179,275,378,395,356,195,300,342,257,246],\"index\":[0,1,2,3,4,5,6,7,8,9,10,11,12,13,14,15,16,17,18,19,20,21,22,23,24,25,26,27,28,29,30,31,32,33,34]},\"selected\":{\"id\":\"a874ef84-d446-4a5b-bb6d-720094f1e389\",\"type\":\"Selection\"},\"selection_policy\":{\"id\":\"c1c81f79-e864-4828-88f1-92f454ae1b29\",\"type\":\"UnionRenderers\"}},\"id\":\"e88ef2b5-61f2-4586-a11d-e6e88b9922a3\",\"type\":\"ColumnDataSource\"},{\"attributes\":{\"months\":[0,2,4,6,8,10]},\"id\":\"4de3427a-7d4e-41de-bf08-8eb0e93d5ee5\",\"type\":\"MonthsTicker\"},{\"attributes\":{\"months\":[0,4,8]},\"id\":\"3fde79ad-1c9c-4974-9eb8-71360b740e7d\",\"type\":\"MonthsTicker\"},{\"attributes\":{\"months\":[0,6]},\"id\":\"a0314da0-748c-4958-84e6-3913e3598e70\",\"type\":\"MonthsTicker\"},{\"attributes\":{\"num_minor_ticks\":5,\"tickers\":[{\"id\":\"d2f6e716-85a4-48d0-85ed-1ac9a77c61ec\",\"type\":\"AdaptiveTicker\"},{\"id\":\"a4a933c6-0b48-44a2-8f0a-f6a7ade1abcb\",\"type\":\"AdaptiveTicker\"},{\"id\":\"29c3be0e-1bec-4836-86d8-a43371956e00\",\"type\":\"AdaptiveTicker\"},{\"id\":\"c250a367-f1d4-48cc-b1d5-4add527ccdc2\",\"type\":\"DaysTicker\"},{\"id\":\"2cfc0854-a5a3-4403-a36a-ff7785d0e686\",\"type\":\"DaysTicker\"},{\"id\":\"9e59c1a3-9444-4843-a997-5e9629be7df4\",\"type\":\"DaysTicker\"},{\"id\":\"9514276a-1f4d-4842-9c4c-e8de7c92ffba\",\"type\":\"DaysTicker\"},{\"id\":\"2425d1f2-4213-4e39-b07f-32663aacf8dd\",\"type\":\"MonthsTicker\"},{\"id\":\"4de3427a-7d4e-41de-bf08-8eb0e93d5ee5\",\"type\":\"MonthsTicker\"},{\"id\":\"3fde79ad-1c9c-4974-9eb8-71360b740e7d\",\"type\":\"MonthsTicker\"},{\"id\":\"a0314da0-748c-4958-84e6-3913e3598e70\",\"type\":\"MonthsTicker\"},{\"id\":\"33604dc8-9601-4b00-98d4-10699177a235\",\"type\":\"YearsTicker\"}]},\"id\":\"3af67096-9d42-4137-8330-ee0ffc8c2189\",\"type\":\"DatetimeTicker\"},{\"attributes\":{\"source\":{\"id\":\"e88ef2b5-61f2-4586-a11d-e6e88b9922a3\",\"type\":\"ColumnDataSource\"}},\"id\":\"0b96da65-c1e0-48fd-aac0-a7ad64460767\",\"type\":\"CDSView\"},{\"attributes\":{\"mantissas\":[1,2,5],\"max_interval\":500.0,\"num_minor_ticks\":0},\"id\":\"d2f6e716-85a4-48d0-85ed-1ac9a77c61ec\",\"type\":\"AdaptiveTicker\"},{\"attributes\":{},\"id\":\"a874ef84-d446-4a5b-bb6d-720094f1e389\",\"type\":\"Selection\"},{\"attributes\":{\"axis_label\":\"Month\",\"formatter\":{\"id\":\"87592c8c-e956-4953-9f76-6ae370696e36\",\"type\":\"DatetimeTickFormatter\"},\"plot\":{\"id\":\"498d8a78-c888-4766-9b00-5044dcbd4ad7\",\"subtype\":\"Figure\",\"type\":\"Plot\"},\"ticker\":{\"id\":\"3af67096-9d42-4137-8330-ee0ffc8c2189\",\"type\":\"DatetimeTicker\"}},\"id\":\"a1497076-e19d-402a-a7aa-d8211f45fecb\",\"type\":\"DatetimeAxis\"},{\"attributes\":{\"active_drag\":\"auto\",\"active_inspect\":\"auto\",\"active_multi\":null,\"active_scroll\":\"auto\",\"active_tap\":\"auto\",\"tools\":[{\"id\":\"3fb599e3-7b4f-41c6-b587-9896b498e1e3\",\"type\":\"PanTool\"},{\"id\":\"21c156ca-9e3c-4940-8458-d183294bef82\",\"type\":\"WheelZoomTool\"},{\"id\":\"2d621597-c011-4177-b3db-c7d110fe0cb2\",\"type\":\"BoxZoomTool\"},{\"id\":\"f1c29dd3-ea66-49cc-b94a-2a6f352d23b2\",\"type\":\"SaveTool\"},{\"id\":\"f6b2cc1f-eec7-46ea-b986-f075d1aebfd7\",\"type\":\"ResetTool\"},{\"id\":\"fb171a8a-9560-4c86-8644-62a481cc34f4\",\"type\":\"HelpTool\"}]},\"id\":\"dcabcfb7-6750-423b-bac8-009dcb670bc3\",\"type\":\"Toolbar\"},{\"attributes\":{\"axis_label\":\"Total Loans\",\"formatter\":{\"id\":\"fb0f7ec8-d32b-43de-9906-f6c2fc0cbb4c\",\"type\":\"BasicTickFormatter\"},\"plot\":{\"id\":\"498d8a78-c888-4766-9b00-5044dcbd4ad7\",\"subtype\":\"Figure\",\"type\":\"Plot\"},\"ticker\":{\"id\":\"b65bdd45-c98b-4185-a2e2-1bdcdb6cd199\",\"type\":\"BasicTicker\"}},\"id\":\"3cab00b9-54e5-4393-94bb-04362f2b60b1\",\"type\":\"LinearAxis\"},{\"attributes\":{},\"id\":\"c1c81f79-e864-4828-88f1-92f454ae1b29\",\"type\":\"UnionRenderers\"},{\"attributes\":{},\"id\":\"ce10d071-f7e7-4096-b545-936e61bbe601\",\"type\":\"LinearScale\"},{\"attributes\":{\"line_alpha\":0.1,\"line_color\":\"#1f77b4\",\"line_width\":2,\"x\":{\"field\":\"Loan Date\"},\"y\":{\"field\":\"Loans (In House + Not In House)\"}},\"id\":\"2cad14f5-42bb-4a67-ba38-f3d07927d635\",\"type\":\"Line\"},{\"attributes\":{},\"id\":\"ade8ab01-b97b-4096-a76d-a107251538d9\",\"type\":\"LinearScale\"},{\"attributes\":{\"callback\":null},\"id\":\"cb4c3eec-38f0-48e5-a701-0339dcd074d4\",\"type\":\"DataRange1d\"},{\"attributes\":{\"plot\":{\"id\":\"498d8a78-c888-4766-9b00-5044dcbd4ad7\",\"subtype\":\"Figure\",\"type\":\"Plot\"},\"ticker\":{\"id\":\"3af67096-9d42-4137-8330-ee0ffc8c2189\",\"type\":\"DatetimeTicker\"}},\"id\":\"0f4022ee-37d2-47f2-b100-dfe85f8d566e\",\"type\":\"Grid\"},{\"attributes\":{},\"id\":\"b65bdd45-c98b-4185-a2e2-1bdcdb6cd199\",\"type\":\"BasicTicker\"},{\"attributes\":{\"dimension\":1,\"plot\":{\"id\":\"498d8a78-c888-4766-9b00-5044dcbd4ad7\",\"subtype\":\"Figure\",\"type\":\"Plot\"},\"ticker\":{\"id\":\"b65bdd45-c98b-4185-a2e2-1bdcdb6cd199\",\"type\":\"BasicTicker\"}},\"id\":\"d7bd541b-60a0-4560-852a-66642ecb3f51\",\"type\":\"Grid\"},{\"attributes\":{\"items\":[{\"id\":\"f995ba0e-bd53-4aa6-8f6b-93190d7ae23f\",\"type\":\"LegendItem\"}],\"location\":\"top_left\",\"plot\":{\"id\":\"498d8a78-c888-4766-9b00-5044dcbd4ad7\",\"subtype\":\"Figure\",\"type\":\"Plot\"}},\"id\":\"4b25f3b0-8cbb-48dd-be90-7d4bcfe251ba\",\"type\":\"Legend\"},{\"attributes\":{\"data_source\":{\"id\":\"e88ef2b5-61f2-4586-a11d-e6e88b9922a3\",\"type\":\"ColumnDataSource\"},\"glyph\":{\"id\":\"753aa49a-fb31-4c03-8a84-2f2a287fa7e3\",\"type\":\"Line\"},\"hover_glyph\":null,\"muted_glyph\":null,\"nonselection_glyph\":{\"id\":\"2cad14f5-42bb-4a67-ba38-f3d07927d635\",\"type\":\"Line\"},\"selection_glyph\":null,\"view\":{\"id\":\"0b96da65-c1e0-48fd-aac0-a7ad64460767\",\"type\":\"CDSView\"}},\"id\":\"c66ffd9c-047f-4430-8e04-aa0be11cf591\",\"type\":\"GlyphRenderer\"},{\"attributes\":{\"line_color\":\"#3288bd\",\"line_width\":2,\"x\":{\"field\":\"Loan Date\"},\"y\":{\"field\":\"Loans (In House + Not In House)\"}},\"id\":\"753aa49a-fb31-4c03-8a84-2f2a287fa7e3\",\"type\":\"Line\"},{\"attributes\":{\"bottom_units\":\"screen\",\"fill_alpha\":{\"value\":0.5},\"fill_color\":{\"value\":\"lightgrey\"},\"left_units\":\"screen\",\"level\":\"overlay\",\"line_alpha\":{\"value\":1.0},\"line_color\":{\"value\":\"black\"},\"line_dash\":[4,4],\"line_width\":{\"value\":2},\"plot\":null,\"render_mode\":\"css\",\"right_units\":\"screen\",\"top_units\":\"screen\"},\"id\":\"7c0520fa-da62-4bc0-bfa2-1abb90df187b\",\"type\":\"BoxAnnotation\"},{\"attributes\":{},\"id\":\"3fb599e3-7b4f-41c6-b587-9896b498e1e3\",\"type\":\"PanTool\"},{\"attributes\":{},\"id\":\"33604dc8-9601-4b00-98d4-10699177a235\",\"type\":\"YearsTicker\"},{\"attributes\":{\"plot\":null,\"text\":\"Iliff Library Loans by Month\"},\"id\":\"3b618713-f69c-4e51-b0d2-4b9658e6ccc3\",\"type\":\"Title\"},{\"attributes\":{\"label\":{\"value\":\"Total Loans\"},\"renderers\":[{\"id\":\"c66ffd9c-047f-4430-8e04-aa0be11cf591\",\"type\":\"GlyphRenderer\"}]},\"id\":\"f995ba0e-bd53-4aa6-8f6b-93190d7ae23f\",\"type\":\"LegendItem\"},{\"attributes\":{\"overlay\":{\"id\":\"7c0520fa-da62-4bc0-bfa2-1abb90df187b\",\"type\":\"BoxAnnotation\"}},\"id\":\"2d621597-c011-4177-b3db-c7d110fe0cb2\",\"type\":\"BoxZoomTool\"}],\"root_ids\":[\"498d8a78-c888-4766-9b00-5044dcbd4ad7\"]},\"title\":\"Bokeh Application\",\"version\":\"0.13.0\"}};\n",
       "  var render_items = [{\"docid\":\"6ba49e9a-b489-4c58-a705-78c44d3a795f\",\"roots\":{\"498d8a78-c888-4766-9b00-5044dcbd4ad7\":\"aabb087d-2348-41cd-bc3c-44463d917f52\"}}];\n",
       "  root.Bokeh.embed.embed_items_notebook(docs_json, render_items);\n",
       "\n",
       "  }\n",
       "  if (root.Bokeh !== undefined) {\n",
       "    embed_document(root);\n",
       "  } else {\n",
       "    var attempts = 0;\n",
       "    var timer = setInterval(function(root) {\n",
       "      if (root.Bokeh !== undefined) {\n",
       "        embed_document(root);\n",
       "        clearInterval(timer);\n",
       "      }\n",
       "      attempts++;\n",
       "      if (attempts > 100) {\n",
       "        console.log(\"Bokeh: ERROR: Unable to run BokehJS code because BokehJS library is missing\")\n",
       "        clearInterval(timer);\n",
       "      }\n",
       "    }, 10, root)\n",
       "  }\n",
       "})(window);"
      ],
      "application/vnd.bokehjs_exec.v0+json": ""
     },
     "metadata": {
      "application/vnd.bokehjs_exec.v0+json": {
       "id": "498d8a78-c888-4766-9b00-5044dcbd4ad7"
      }
     },
     "output_type": "display_data"
    }
   ],
   "source": [
    "source = ColumnDataSource(new_df)\n",
    "# create the 'canvas' for the visualization\n",
    "p = figure(plot_height=500, plot_width=950, x_axis_type='datetime')\n",
    "\n",
    "# create line glyph\n",
    "p.line(x='Loan Date', y='Loans (In House + Not In House)', line_width=2, source=source, color=Spectral7[0],\n",
    "      legend='Total Loans')\n",
    "\n",
    "# add metadata to the visualization\n",
    "p.yaxis.axis_label = 'Total Loans'\n",
    "p.xaxis.axis_label = 'Month'\n",
    "p.title.text = 'Iliff Library Loans by Month'\n",
    "p.legend.location = 'top_left'\n",
    "\n",
    "# display visualization\n",
    "show(p)"
   ]
  },
  {
   "cell_type": "markdown",
   "metadata": {},
   "source": [
    "### Loans by day"
   ]
  },
  {
   "cell_type": "code",
   "execution_count": 24,
   "metadata": {},
   "outputs": [
    {
     "data": {
      "text/html": [
       "\n",
       "\n",
       "\n",
       "\n",
       "\n",
       "\n",
       "  <div class=\"bk-root\" id=\"7d4d2530-78f0-42dd-8e8d-dfe591acf750\"></div>\n"
      ]
     },
     "metadata": {},
     "output_type": "display_data"
    },
    {
     "data": {
      "application/javascript": [
       "(function(root) {\n",
       "  function embed_document(root) {\n",
       "    \n",
       "  var docs_json = {\"8cdb29d2-052a-417b-8049-f4f1d24c5c76\":{\"roots\":{\"references\":[{\"attributes\":{\"base\":24,\"mantissas\":[1,2,4,6,8,12],\"max_interval\":43200000.0,\"min_interval\":3600000.0,\"num_minor_ticks\":0},\"id\":\"b618228d-f362-4f14-8bc7-6e8937926e90\",\"type\":\"AdaptiveTicker\"},{\"attributes\":{},\"id\":\"86973b6a-2bd2-473c-b3ae-8a60c4496ebc\",\"type\":\"YearsTicker\"},{\"attributes\":{\"items\":[{\"id\":\"dcd030e1-dde7-49ed-8ed4-da1fd29139ff\",\"type\":\"LegendItem\"}],\"location\":\"top_left\",\"plot\":{\"id\":\"60aa044c-1d4e-4e9b-9661-1c2c0b947856\",\"subtype\":\"Figure\",\"type\":\"Plot\"}},\"id\":\"55b818e9-95a2-42b1-ac63-f58ada785c2f\",\"type\":\"Legend\"},{\"attributes\":{},\"id\":\"cde700c0-c010-4fed-804d-80f881d47935\",\"type\":\"Selection\"},{\"attributes\":{\"below\":[{\"id\":\"a2d2e69d-70a4-454d-a967-90842880769e\",\"type\":\"DatetimeAxis\"}],\"left\":[{\"id\":\"360e5a6c-5397-4a78-aee5-72d6833f1102\",\"type\":\"LinearAxis\"}],\"plot_height\":500,\"plot_width\":950,\"renderers\":[{\"id\":\"a2d2e69d-70a4-454d-a967-90842880769e\",\"type\":\"DatetimeAxis\"},{\"id\":\"fb2b29db-d6ca-4f80-8a9a-d22e6f733d66\",\"type\":\"Grid\"},{\"id\":\"360e5a6c-5397-4a78-aee5-72d6833f1102\",\"type\":\"LinearAxis\"},{\"id\":\"091fa514-df21-4c4d-8161-19f451445ca4\",\"type\":\"Grid\"},{\"id\":\"91605e78-d53e-4e06-9253-ee78f5bb7e38\",\"type\":\"BoxAnnotation\"},{\"id\":\"55b818e9-95a2-42b1-ac63-f58ada785c2f\",\"type\":\"Legend\"},{\"id\":\"16ad65d2-3538-4bb1-a62c-35a29813fab0\",\"type\":\"GlyphRenderer\"}],\"title\":{\"id\":\"4e6c340d-d856-4556-8604-f0b6cd47ffae\",\"type\":\"Title\"},\"toolbar\":{\"id\":\"b3d5af8f-3a36-44e5-849e-98580f49dfa8\",\"type\":\"Toolbar\"},\"x_range\":{\"id\":\"54f6aa74-8c01-4e81-b7a4-ccb971f62c90\",\"type\":\"DataRange1d\"},\"x_scale\":{\"id\":\"cd8c04c5-5b1c-4e8a-97aa-1340f250d78b\",\"type\":\"LinearScale\"},\"y_range\":{\"id\":\"1519c70a-c1e8-443d-a64c-a66437c48e61\",\"type\":\"DataRange1d\"},\"y_scale\":{\"id\":\"80642410-cdbf-4056-8430-2b8bdfe891c9\",\"type\":\"LinearScale\"}},\"id\":\"60aa044c-1d4e-4e9b-9661-1c2c0b947856\",\"subtype\":\"Figure\",\"type\":\"Plot\"},{\"attributes\":{\"callback\":null,\"data\":{\"Loan Date\":{\"__ndarray__\":\"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\",\"dtype\":\"float64\",\"shape\":[877]},\"Loans (In House + Not In House)\":[41,9,16,6,3,11,2,20,2,5,17,5,9,9,16,9,5,8,10,12,14,26,5,7,19,6,25,7,12,10,26,29,7,7,9,15,5,11,75,2,9,31,4,13,8,9,1,19,6,2,8,11,1,2,27,48,30,8,19,1,3,7,21,9,7,11,21,9,28,19,15,18,11,6,4,1,33,5,23,17,36,36,15,19,25,1,1,38,45,28,16,21,8,38,22,32,11,29,1,50,17,80,134,24,11,23,24,32,52,49,12,27,23,18,34,4,5,2,53,25,51,44,14,12,16,71,22,15,18,4,1,12,40,27,9,11,26,2,14,18,28,26,27,1,33,17,27,37,23,10,17,23,33,14,8,11,15,1,34,12,13,5,23,34,14,6,2,26,25,2,38,1,29,36,54,19,23,6,31,41,18,17,1,1,17,33,38,48,17,23,27,57,11,17,12,4,1,53,31,17,26,12,16,15,44,14,26,48,5,1,43,32,15,10,16,5,27,27,12,22,11,30,30,26,30,32,10,25,20,21,16,44,16,1,35,18,13,16,8,1,37,35,37,15,15,4,14,44,20,20,75,7,1,8,18,19,22,1,29,14,29,15,25,10,85,29,32,47,22,9,3,11,30,7,15,11,9,6,5,15,15,22,13,9,81,25,51,22,10,7,2,14,36,19,33,6,1,1,1,59,13,23,14,2,26,6,4,18,1,8,3,6,10,14,2,22,16,19,11,34,1,14,30,21,34,10,6,5,2,22,13,14,2,5,2,12,75,21,6,16,5,29,19,2,4,11,12,27,44,18,9,42,14,34,169,5,81,32,13,21,18,15,5,1,29,8,18,12,8,11,13,8,13,4,13,15,1,1,1,14,23,16,23,1,22,28,41,33,21,11,20,16,8,11,3,3,20,26,27,10,11,5,13,22,25,15,18,15,18,58,10,24,35,14,14,34,33,19,21,4,22,10,19,21,16,21,24,22,13,9,11,15,27,26,9,16,17,13,1,23,11,5,7,9,1,3,18,18,6,19,19,2,11,40,5,11,5,12,10,18,1,22,10,10,15,30,6,37,23,4,2,2,6,12,13,10,27,3,1,23,27,9,24,30,9,17,10,7,8,8,12,10,13,13,6,14,39,9,9,16,36,7,14,27,15,24,10,4,1,10,12,16,31,3,7,1,15,11,16,13,6,8,18,18,12,14,35,15,8,22,18,25,8,5,24,16,40,57,11,1,12,19,19,12,15,4,1,18,28,6,16,2,26,11,8,9,5,33,17,20,8,7,13,24,9,30,21,12,7,8,21,21,11,19,21,15,22,8,14,11,18,6,18,20,10,35,5,11,6,10,17,3,11,17,1,3,29,7,16,22,8,2,19,30,23,6,1,1,24,7,4,2,3,2,1,20,24,9,9,4,7,7,4,19,10,31,2,1,8,17,9,15,2,3,14,8,1,6,6,6,11,13,4,10,16,2,9,10,2,10,7,17,2,1,12,9,3,8,19,2,24,16,16,18,7,8,11,21,14,10,2,6,9,12,12,5,16,4,2,18,12,17,17,13,11,3,1,39,21,15,35,10,4,1,24,34,15,16,6,4,29,16,14,13,20,22,6,8,8,9,8,1,9,29,11,28,22,18,3,19,16,17,23,5,2,33,17,9,17,2,1,23,17,12,15,14,6,36,7,16,12,17,14,32,10,22,27,15,17,6,31,29,2,25,3,7,4,29,13,6,23,31,10,10,7,4,8,20,7,14,1,1,16,15,18,2,4,11,15,10,20,6,1,30,9,8,12,5,5,13,19,22,12,1,3,15,11,8,9,7,13,3,22,10,15,8,10,7,2,12,36,16,5,35,3,15,8,27,10,7,32,15,11,13,5,2,3,13,18,18,16,5,1,9,19,13,5,2,4,16,9,6,17,1,9,14,13,29,3,7,9,20,6,7,4,3,1,3,20,2,9,7,14,2,11,23,15,3,1,25,5,13,21,3,1,13,5]},\"selected\":{\"id\":\"cde700c0-c010-4fed-804d-80f881d47935\",\"type\":\"Selection\"},\"selection_policy\":{\"id\":\"a006a4ee-ef73-426d-bf9a-c6576cb8ff20\",\"type\":\"UnionRenderers\"}},\"id\":\"83fcb77d-bd25-4d90-b358-36b3a8b52af4\",\"type\":\"ColumnDataSource\"},{\"attributes\":{},\"id\":\"a006a4ee-ef73-426d-bf9a-c6576cb8ff20\",\"type\":\"UnionRenderers\"},{\"attributes\":{\"days\":[1,8,15,22]},\"id\":\"e0f6ba26-1ec8-4bef-bef6-af1916cfb5e2\",\"type\":\"DaysTicker\"},{\"attributes\":{\"days\":[1,4,7,10,13,16,19,22,25,28]},\"id\":\"6524ddf6-901e-4eed-9e5a-09cee26041d6\",\"type\":\"DaysTicker\"},{\"attributes\":{\"source\":{\"id\":\"83fcb77d-bd25-4d90-b358-36b3a8b52af4\",\"type\":\"ColumnDataSource\"}},\"id\":\"bcdb695e-32a5-4b72-ad76-d318c77a9696\",\"type\":\"CDSView\"},{\"attributes\":{\"line_alpha\":0.1,\"line_color\":\"#1f77b4\",\"line_width\":2,\"x\":{\"field\":\"Loan Date\"},\"y\":{\"field\":\"Loans (In House + Not In House)\"}},\"id\":\"1fbd95d0-3128-4c21-b051-ce1cc1b3fe25\",\"type\":\"Line\"},{\"attributes\":{\"callback\":null},\"id\":\"54f6aa74-8c01-4e81-b7a4-ccb971f62c90\",\"type\":\"DataRange1d\"},{\"attributes\":{\"active_drag\":\"auto\",\"active_inspect\":\"auto\",\"active_multi\":null,\"active_scroll\":\"auto\",\"active_tap\":\"auto\",\"tools\":[{\"id\":\"bcb8c7dd-0b8a-41a4-beca-62927cfbdbd0\",\"type\":\"PanTool\"},{\"id\":\"a9cf1ed4-530b-4954-aa51-9dec94fae1cf\",\"type\":\"WheelZoomTool\"},{\"id\":\"32fe1417-bf54-462d-adb0-5c6dca9c3be4\",\"type\":\"BoxZoomTool\"},{\"id\":\"4a78f7c1-72e5-4dc7-be47-d4bb66e04685\",\"type\":\"SaveTool\"},{\"id\":\"174f4eda-a354-4b4d-aa3b-297cb7089139\",\"type\":\"ResetTool\"},{\"id\":\"92713514-8ae3-4c22-ae8d-f3a40d455df5\",\"type\":\"HelpTool\"}]},\"id\":\"b3d5af8f-3a36-44e5-849e-98580f49dfa8\",\"type\":\"Toolbar\"},{\"attributes\":{\"callback\":null},\"id\":\"1519c70a-c1e8-443d-a64c-a66437c48e61\",\"type\":\"DataRange1d\"},{\"attributes\":{},\"id\":\"d4aef79c-23ef-4628-89f4-d3523677c98f\",\"type\":\"DatetimeTickFormatter\"},{\"attributes\":{\"base\":60,\"mantissas\":[1,2,5,10,15,20,30],\"max_interval\":1800000.0,\"min_interval\":1000.0,\"num_minor_ticks\":0},\"id\":\"3c70c70c-fcb1-41bc-9f15-5eef6881b47f\",\"type\":\"AdaptiveTicker\"},{\"attributes\":{},\"id\":\"cd8c04c5-5b1c-4e8a-97aa-1340f250d78b\",\"type\":\"LinearScale\"},{\"attributes\":{\"days\":[1,2,3,4,5,6,7,8,9,10,11,12,13,14,15,16,17,18,19,20,21,22,23,24,25,26,27,28,29,30,31]},\"id\":\"2c4c36ab-b309-4d86-82f4-97f0a47b8954\",\"type\":\"DaysTicker\"},{\"attributes\":{},\"id\":\"80642410-cdbf-4056-8430-2b8bdfe891c9\",\"type\":\"LinearScale\"},{\"attributes\":{\"plot\":{\"id\":\"60aa044c-1d4e-4e9b-9661-1c2c0b947856\",\"subtype\":\"Figure\",\"type\":\"Plot\"},\"ticker\":{\"id\":\"feeb4acb-8d46-4b17-9c97-01c24b8682e4\",\"type\":\"DatetimeTicker\"}},\"id\":\"fb2b29db-d6ca-4f80-8a9a-d22e6f733d66\",\"type\":\"Grid\"},{\"attributes\":{\"axis_label\":\"Day\",\"formatter\":{\"id\":\"d4aef79c-23ef-4628-89f4-d3523677c98f\",\"type\":\"DatetimeTickFormatter\"},\"plot\":{\"id\":\"60aa044c-1d4e-4e9b-9661-1c2c0b947856\",\"subtype\":\"Figure\",\"type\":\"Plot\"},\"ticker\":{\"id\":\"feeb4acb-8d46-4b17-9c97-01c24b8682e4\",\"type\":\"DatetimeTicker\"}},\"id\":\"a2d2e69d-70a4-454d-a967-90842880769e\",\"type\":\"DatetimeAxis\"},{\"attributes\":{\"num_minor_ticks\":5,\"tickers\":[{\"id\":\"d5638506-5d5b-4fbc-b110-f4c477f5a8c9\",\"type\":\"AdaptiveTicker\"},{\"id\":\"3c70c70c-fcb1-41bc-9f15-5eef6881b47f\",\"type\":\"AdaptiveTicker\"},{\"id\":\"b618228d-f362-4f14-8bc7-6e8937926e90\",\"type\":\"AdaptiveTicker\"},{\"id\":\"2c4c36ab-b309-4d86-82f4-97f0a47b8954\",\"type\":\"DaysTicker\"},{\"id\":\"6524ddf6-901e-4eed-9e5a-09cee26041d6\",\"type\":\"DaysTicker\"},{\"id\":\"e0f6ba26-1ec8-4bef-bef6-af1916cfb5e2\",\"type\":\"DaysTicker\"},{\"id\":\"9c15e7c7-06c2-4212-97d7-526f0f313ff0\",\"type\":\"DaysTicker\"},{\"id\":\"c2a183be-f346-42cc-adc1-52b858b6e7f5\",\"type\":\"MonthsTicker\"},{\"id\":\"3db12573-9fb7-471f-a1aa-4df24cd00d79\",\"type\":\"MonthsTicker\"},{\"id\":\"7bef9458-ab83-4256-be43-3acc0d40b76c\",\"type\":\"MonthsTicker\"},{\"id\":\"d2db5be6-d34e-4e46-be52-3a8833b173c4\",\"type\":\"MonthsTicker\"},{\"id\":\"86973b6a-2bd2-473c-b3ae-8a60c4496ebc\",\"type\":\"YearsTicker\"}]},\"id\":\"feeb4acb-8d46-4b17-9c97-01c24b8682e4\",\"type\":\"DatetimeTicker\"},{\"attributes\":{\"axis_label\":\"Total Loans\",\"formatter\":{\"id\":\"cc73bfbb-ad25-407a-8faa-e1e854ef94cc\",\"type\":\"BasicTickFormatter\"},\"plot\":{\"id\":\"60aa044c-1d4e-4e9b-9661-1c2c0b947856\",\"subtype\":\"Figure\",\"type\":\"Plot\"},\"ticker\":{\"id\":\"fa1eed75-4c09-45ab-926e-6067cef11c68\",\"type\":\"BasicTicker\"}},\"id\":\"360e5a6c-5397-4a78-aee5-72d6833f1102\",\"type\":\"LinearAxis\"},{\"attributes\":{},\"id\":\"fa1eed75-4c09-45ab-926e-6067cef11c68\",\"type\":\"BasicTicker\"},{\"attributes\":{\"dimension\":1,\"plot\":{\"id\":\"60aa044c-1d4e-4e9b-9661-1c2c0b947856\",\"subtype\":\"Figure\",\"type\":\"Plot\"},\"ticker\":{\"id\":\"fa1eed75-4c09-45ab-926e-6067cef11c68\",\"type\":\"BasicTicker\"}},\"id\":\"091fa514-df21-4c4d-8161-19f451445ca4\",\"type\":\"Grid\"},{\"attributes\":{},\"id\":\"cc73bfbb-ad25-407a-8faa-e1e854ef94cc\",\"type\":\"BasicTickFormatter\"},{\"attributes\":{\"data_source\":{\"id\":\"83fcb77d-bd25-4d90-b358-36b3a8b52af4\",\"type\":\"ColumnDataSource\"},\"glyph\":{\"id\":\"7aaab3fa-72bf-4a44-85c7-19e2cbc6c2a7\",\"type\":\"Line\"},\"hover_glyph\":null,\"muted_glyph\":null,\"nonselection_glyph\":{\"id\":\"1fbd95d0-3128-4c21-b051-ce1cc1b3fe25\",\"type\":\"Line\"},\"selection_glyph\":null,\"view\":{\"id\":\"bcdb695e-32a5-4b72-ad76-d318c77a9696\",\"type\":\"CDSView\"}},\"id\":\"16ad65d2-3538-4bb1-a62c-35a29813fab0\",\"type\":\"GlyphRenderer\"},{\"attributes\":{\"line_color\":\"#3288bd\",\"line_width\":2,\"x\":{\"field\":\"Loan Date\"},\"y\":{\"field\":\"Loans (In House + Not In House)\"}},\"id\":\"7aaab3fa-72bf-4a44-85c7-19e2cbc6c2a7\",\"type\":\"Line\"},{\"attributes\":{\"mantissas\":[1,2,5],\"max_interval\":500.0,\"num_minor_ticks\":0},\"id\":\"d5638506-5d5b-4fbc-b110-f4c477f5a8c9\",\"type\":\"AdaptiveTicker\"},{\"attributes\":{\"bottom_units\":\"screen\",\"fill_alpha\":{\"value\":0.5},\"fill_color\":{\"value\":\"lightgrey\"},\"left_units\":\"screen\",\"level\":\"overlay\",\"line_alpha\":{\"value\":1.0},\"line_color\":{\"value\":\"black\"},\"line_dash\":[4,4],\"line_width\":{\"value\":2},\"plot\":null,\"render_mode\":\"css\",\"right_units\":\"screen\",\"top_units\":\"screen\"},\"id\":\"91605e78-d53e-4e06-9253-ee78f5bb7e38\",\"type\":\"BoxAnnotation\"},{\"attributes\":{},\"id\":\"bcb8c7dd-0b8a-41a4-beca-62927cfbdbd0\",\"type\":\"PanTool\"},{\"attributes\":{\"plot\":null,\"text\":\"Iliff Library Loans by Day\"},\"id\":\"4e6c340d-d856-4556-8604-f0b6cd47ffae\",\"type\":\"Title\"},{\"attributes\":{},\"id\":\"a9cf1ed4-530b-4954-aa51-9dec94fae1cf\",\"type\":\"WheelZoomTool\"},{\"attributes\":{\"overlay\":{\"id\":\"91605e78-d53e-4e06-9253-ee78f5bb7e38\",\"type\":\"BoxAnnotation\"}},\"id\":\"32fe1417-bf54-462d-adb0-5c6dca9c3be4\",\"type\":\"BoxZoomTool\"},{\"attributes\":{},\"id\":\"4a78f7c1-72e5-4dc7-be47-d4bb66e04685\",\"type\":\"SaveTool\"},{\"attributes\":{},\"id\":\"174f4eda-a354-4b4d-aa3b-297cb7089139\",\"type\":\"ResetTool\"},{\"attributes\":{},\"id\":\"92713514-8ae3-4c22-ae8d-f3a40d455df5\",\"type\":\"HelpTool\"},{\"attributes\":{\"months\":[0,1,2,3,4,5,6,7,8,9,10,11]},\"id\":\"c2a183be-f346-42cc-adc1-52b858b6e7f5\",\"type\":\"MonthsTicker\"},{\"attributes\":{\"label\":{\"value\":\"Number of Loans\"},\"renderers\":[{\"id\":\"16ad65d2-3538-4bb1-a62c-35a29813fab0\",\"type\":\"GlyphRenderer\"}]},\"id\":\"dcd030e1-dde7-49ed-8ed4-da1fd29139ff\",\"type\":\"LegendItem\"},{\"attributes\":{\"days\":[1,15]},\"id\":\"9c15e7c7-06c2-4212-97d7-526f0f313ff0\",\"type\":\"DaysTicker\"},{\"attributes\":{\"months\":[0,2,4,6,8,10]},\"id\":\"3db12573-9fb7-471f-a1aa-4df24cd00d79\",\"type\":\"MonthsTicker\"},{\"attributes\":{\"months\":[0,4,8]},\"id\":\"7bef9458-ab83-4256-be43-3acc0d40b76c\",\"type\":\"MonthsTicker\"},{\"attributes\":{\"months\":[0,6]},\"id\":\"d2db5be6-d34e-4e46-be52-3a8833b173c4\",\"type\":\"MonthsTicker\"}],\"root_ids\":[\"60aa044c-1d4e-4e9b-9661-1c2c0b947856\"]},\"title\":\"Bokeh Application\",\"version\":\"0.13.0\"}};\n",
       "  var render_items = [{\"docid\":\"8cdb29d2-052a-417b-8049-f4f1d24c5c76\",\"roots\":{\"60aa044c-1d4e-4e9b-9661-1c2c0b947856\":\"7d4d2530-78f0-42dd-8e8d-dfe591acf750\"}}];\n",
       "  root.Bokeh.embed.embed_items_notebook(docs_json, render_items);\n",
       "\n",
       "  }\n",
       "  if (root.Bokeh !== undefined) {\n",
       "    embed_document(root);\n",
       "  } else {\n",
       "    var attempts = 0;\n",
       "    var timer = setInterval(function(root) {\n",
       "      if (root.Bokeh !== undefined) {\n",
       "        embed_document(root);\n",
       "        clearInterval(timer);\n",
       "      }\n",
       "      attempts++;\n",
       "      if (attempts > 100) {\n",
       "        console.log(\"Bokeh: ERROR: Unable to run BokehJS code because BokehJS library is missing\")\n",
       "        clearInterval(timer);\n",
       "      }\n",
       "    }, 10, root)\n",
       "  }\n",
       "})(window);"
      ],
      "application/vnd.bokehjs_exec.v0+json": ""
     },
     "metadata": {
      "application/vnd.bokehjs_exec.v0+json": {
       "id": "60aa044c-1d4e-4e9b-9661-1c2c0b947856"
      }
     },
     "output_type": "display_data"
    }
   ],
   "source": [
    "source = ColumnDataSource(df)\n",
    "p = figure(plot_height=500, plot_width=950, x_axis_type='datetime')\n",
    "p.line(x='Loan Date', y='Loans (In House + Not In House)', line_width=2, source=source, color=Spectral7[0],\n",
    "      legend='Number of Loans')\n",
    "\n",
    "# add metadata to the visualization\n",
    "p.yaxis.axis_label = 'Total Loans'\n",
    "p.xaxis.axis_label = 'Day'\n",
    "p.title.text = 'Iliff Library Loans by Day'\n",
    "p.legend.location = 'top_left'\n",
    "\n",
    "# display visualization\n",
    "show(p)"
   ]
  },
  {
   "cell_type": "markdown",
   "metadata": {},
   "source": [
    "## Loans by item"
   ]
  },
  {
   "cell_type": "code",
   "execution_count": 25,
   "metadata": {},
   "outputs": [],
   "source": [
    "items_df = pd.read_csv('alma_loans_by_item.csv')"
   ]
  },
  {
   "cell_type": "code",
   "execution_count": 34,
   "metadata": {},
   "outputs": [],
   "source": [
    "items_df['num_loans'] = pd.cut(items_df['num_loans'], bins=[-1, 0, 1, 3, 6, 9, 118],\n",
    "       labels=['0', '1', '2-3', '4-6', '7-9', '10+'])"
   ]
  },
  {
   "cell_type": "code",
   "execution_count": 40,
   "metadata": {},
   "outputs": [],
   "source": [
    "new_df = items_df.groupby('num_loans').count()"
   ]
  },
  {
   "cell_type": "code",
   "execution_count": 42,
   "metadata": {},
   "outputs": [],
   "source": [
    "new_df.reset_index(inplace=True)"
   ]
  },
  {
   "cell_type": "code",
   "execution_count": 43,
   "metadata": {},
   "outputs": [
    {
     "data": {
      "text/html": [
       "<div>\n",
       "<style scoped>\n",
       "    .dataframe tbody tr th:only-of-type {\n",
       "        vertical-align: middle;\n",
       "    }\n",
       "\n",
       "    .dataframe tbody tr th {\n",
       "        vertical-align: top;\n",
       "    }\n",
       "\n",
       "    .dataframe thead th {\n",
       "        text-align: right;\n",
       "    }\n",
       "</style>\n",
       "<table border=\"1\" class=\"dataframe\">\n",
       "  <thead>\n",
       "    <tr style=\"text-align: right;\">\n",
       "      <th></th>\n",
       "      <th>num_loans</th>\n",
       "      <th>Barcode</th>\n",
       "    </tr>\n",
       "  </thead>\n",
       "  <tbody>\n",
       "    <tr>\n",
       "      <th>0</th>\n",
       "      <td>0</td>\n",
       "      <td>89158</td>\n",
       "    </tr>\n",
       "    <tr>\n",
       "      <th>1</th>\n",
       "      <td>1</td>\n",
       "      <td>23627</td>\n",
       "    </tr>\n",
       "    <tr>\n",
       "      <th>2</th>\n",
       "      <td>2-3</td>\n",
       "      <td>19974</td>\n",
       "    </tr>\n",
       "    <tr>\n",
       "      <th>3</th>\n",
       "      <td>4-6</td>\n",
       "      <td>11343</td>\n",
       "    </tr>\n",
       "    <tr>\n",
       "      <th>4</th>\n",
       "      <td>7-9</td>\n",
       "      <td>4592</td>\n",
       "    </tr>\n",
       "  </tbody>\n",
       "</table>\n",
       "</div>"
      ],
      "text/plain": [
       "  num_loans  Barcode\n",
       "0         0    89158\n",
       "1         1    23627\n",
       "2       2-3    19974\n",
       "3       4-6    11343\n",
       "4       7-9     4592"
      ]
     },
     "execution_count": 43,
     "metadata": {},
     "output_type": "execute_result"
    }
   ],
   "source": [
    "new_df.head()"
   ]
  },
  {
   "cell_type": "code",
   "execution_count": 50,
   "metadata": {},
   "outputs": [
    {
     "data": {
      "text/html": [
       "\n",
       "\n",
       "\n",
       "\n",
       "\n",
       "\n",
       "  <div class=\"bk-root\" id=\"39adc813-ead5-418a-a16a-6af905b6a8b0\"></div>\n"
      ]
     },
     "metadata": {},
     "output_type": "display_data"
    },
    {
     "data": {
      "application/javascript": [
       "(function(root) {\n",
       "  function embed_document(root) {\n",
       "    \n",
       "  var docs_json = {\"b8e2ce67-dae8-46a7-bce2-34fec1a2bff2\":{\"roots\":{\"references\":[{\"attributes\":{\"plot\":{\"id\":\"e8fc040c-6e56-47ec-855b-02061408152f\",\"subtype\":\"Figure\",\"type\":\"Plot\"},\"ticker\":{\"id\":\"81ed6e59-474b-425c-8cf1-1b0c3d318b0b\",\"type\":\"CategoricalTicker\"}},\"id\":\"6746406a-081a-413d-bd58-41138edbbc45\",\"type\":\"Grid\"},{\"attributes\":{},\"id\":\"0958f937-e069-4ac2-ac7b-3084497a35b4\",\"type\":\"Selection\"},{\"attributes\":{\"axis_label\":\"Number of Items\",\"formatter\":{\"id\":\"bcc6bae6-13a8-4502-9d5c-71f0415b88e5\",\"type\":\"BasicTickFormatter\"},\"plot\":{\"id\":\"e8fc040c-6e56-47ec-855b-02061408152f\",\"subtype\":\"Figure\",\"type\":\"Plot\"},\"ticker\":{\"id\":\"f7f8c751-ec02-49f7-98bc-b5c26f297af9\",\"type\":\"BasicTicker\"}},\"id\":\"18a6e9ba-3bb7-43c7-b8a3-0b34dfae99d5\",\"type\":\"LinearAxis\"},{\"attributes\":{},\"id\":\"5ed10721-5280-4875-b4b0-2c9b7474aae9\",\"type\":\"PanTool\"},{\"attributes\":{},\"id\":\"255786c6-95b5-4966-89eb-3f785560c637\",\"type\":\"HelpTool\"},{\"attributes\":{\"fill_color\":{\"value\":\"#1f77b4\"},\"line_color\":{\"value\":\"#1f77b4\"},\"top\":{\"field\":\"Barcode\"},\"width\":{\"value\":0.2},\"x\":{\"field\":\"num_loans\"}},\"id\":\"f8afa212-fe14-4224-82d2-d43bd9d132bc\",\"type\":\"VBar\"},{\"attributes\":{\"data_source\":{\"id\":\"86e08e62-ff57-43bd-add0-2a51d9b69c65\",\"type\":\"ColumnDataSource\"},\"glyph\":{\"id\":\"f8afa212-fe14-4224-82d2-d43bd9d132bc\",\"type\":\"VBar\"},\"hover_glyph\":null,\"muted_glyph\":null,\"nonselection_glyph\":{\"id\":\"300989f6-8a39-459b-a5f4-8f7de4faa2d8\",\"type\":\"VBar\"},\"selection_glyph\":null,\"view\":{\"id\":\"e48e8ae6-659a-4242-acc6-949baf484834\",\"type\":\"CDSView\"}},\"id\":\"8b558e8b-b526-4f8c-9543-a889780e0832\",\"type\":\"GlyphRenderer\"},{\"attributes\":{},\"id\":\"1d445a01-f4c4-4f2d-9335-e058507993b6\",\"type\":\"SaveTool\"},{\"attributes\":{\"bottom_units\":\"screen\",\"fill_alpha\":{\"value\":0.5},\"fill_color\":{\"value\":\"lightgrey\"},\"left_units\":\"screen\",\"level\":\"overlay\",\"line_alpha\":{\"value\":1.0},\"line_color\":{\"value\":\"black\"},\"line_dash\":[4,4],\"line_width\":{\"value\":2},\"plot\":null,\"render_mode\":\"css\",\"right_units\":\"screen\",\"top_units\":\"screen\"},\"id\":\"af585449-02e4-4f1c-a181-4d738658d5d1\",\"type\":\"BoxAnnotation\"},{\"attributes\":{},\"id\":\"f7f8c751-ec02-49f7-98bc-b5c26f297af9\",\"type\":\"BasicTicker\"},{\"attributes\":{},\"id\":\"ef4150ff-af4d-46b8-823f-4880ecdd11e5\",\"type\":\"UnionRenderers\"},{\"attributes\":{\"fill_alpha\":{\"value\":0.1},\"fill_color\":{\"value\":\"#1f77b4\"},\"line_alpha\":{\"value\":0.1},\"line_color\":{\"value\":\"#1f77b4\"},\"top\":{\"field\":\"Barcode\"},\"width\":{\"value\":0.2},\"x\":{\"field\":\"num_loans\"}},\"id\":\"300989f6-8a39-459b-a5f4-8f7de4faa2d8\",\"type\":\"VBar\"},{\"attributes\":{\"source\":{\"id\":\"86e08e62-ff57-43bd-add0-2a51d9b69c65\",\"type\":\"ColumnDataSource\"}},\"id\":\"e48e8ae6-659a-4242-acc6-949baf484834\",\"type\":\"CDSView\"},{\"attributes\":{\"active_drag\":\"auto\",\"active_inspect\":\"auto\",\"active_multi\":null,\"active_scroll\":\"auto\",\"active_tap\":\"auto\",\"tools\":[{\"id\":\"5ed10721-5280-4875-b4b0-2c9b7474aae9\",\"type\":\"PanTool\"},{\"id\":\"cc9e497f-8a2c-4881-8314-88be88892008\",\"type\":\"WheelZoomTool\"},{\"id\":\"854e75fe-6b1e-431f-888a-6301f1e4752c\",\"type\":\"BoxZoomTool\"},{\"id\":\"1d445a01-f4c4-4f2d-9335-e058507993b6\",\"type\":\"SaveTool\"},{\"id\":\"da3107fd-7e68-4234-bb7a-3dee580dcc00\",\"type\":\"ResetTool\"},{\"id\":\"255786c6-95b5-4966-89eb-3f785560c637\",\"type\":\"HelpTool\"}]},\"id\":\"c1f33941-7426-49bf-bdd4-b89298ff37f6\",\"type\":\"Toolbar\"},{\"attributes\":{\"overlay\":{\"id\":\"af585449-02e4-4f1c-a181-4d738658d5d1\",\"type\":\"BoxAnnotation\"}},\"id\":\"854e75fe-6b1e-431f-888a-6301f1e4752c\",\"type\":\"BoxZoomTool\"},{\"attributes\":{\"plot\":null,\"text\":\"Number of Items with Loans\"},\"id\":\"31130c83-7ee5-4e2b-842a-fe149ef9a154\",\"type\":\"Title\"},{\"attributes\":{\"axis_label\":\"Number of Loans\",\"formatter\":{\"id\":\"24d2887e-67fb-452b-b3b6-aba37cf5fd8e\",\"type\":\"CategoricalTickFormatter\"},\"plot\":{\"id\":\"e8fc040c-6e56-47ec-855b-02061408152f\",\"subtype\":\"Figure\",\"type\":\"Plot\"},\"ticker\":{\"id\":\"81ed6e59-474b-425c-8cf1-1b0c3d318b0b\",\"type\":\"CategoricalTicker\"}},\"id\":\"35208315-4d8a-41fa-a45d-5014232a2d95\",\"type\":\"CategoricalAxis\"},{\"attributes\":{},\"id\":\"da3107fd-7e68-4234-bb7a-3dee580dcc00\",\"type\":\"ResetTool\"},{\"attributes\":{},\"id\":\"40dce455-a249-4465-9df1-15e7c8e96bdc\",\"type\":\"LinearScale\"},{\"attributes\":{},\"id\":\"81ed6e59-474b-425c-8cf1-1b0c3d318b0b\",\"type\":\"CategoricalTicker\"},{\"attributes\":{\"below\":[{\"id\":\"35208315-4d8a-41fa-a45d-5014232a2d95\",\"type\":\"CategoricalAxis\"}],\"left\":[{\"id\":\"18a6e9ba-3bb7-43c7-b8a3-0b34dfae99d5\",\"type\":\"LinearAxis\"}],\"plot_height\":500,\"plot_width\":700,\"renderers\":[{\"id\":\"35208315-4d8a-41fa-a45d-5014232a2d95\",\"type\":\"CategoricalAxis\"},{\"id\":\"6746406a-081a-413d-bd58-41138edbbc45\",\"type\":\"Grid\"},{\"id\":\"18a6e9ba-3bb7-43c7-b8a3-0b34dfae99d5\",\"type\":\"LinearAxis\"},{\"id\":\"fe1a54de-8ecb-4003-bde1-5ff0097a385a\",\"type\":\"Grid\"},{\"id\":\"af585449-02e4-4f1c-a181-4d738658d5d1\",\"type\":\"BoxAnnotation\"},{\"id\":\"8b558e8b-b526-4f8c-9543-a889780e0832\",\"type\":\"GlyphRenderer\"}],\"title\":{\"id\":\"31130c83-7ee5-4e2b-842a-fe149ef9a154\",\"type\":\"Title\"},\"toolbar\":{\"id\":\"c1f33941-7426-49bf-bdd4-b89298ff37f6\",\"type\":\"Toolbar\"},\"x_range\":{\"id\":\"c7e94131-1053-44be-bff6-02644065dd00\",\"type\":\"FactorRange\"},\"x_scale\":{\"id\":\"ff4d3975-2aba-4e56-b75b-a0dffcce5254\",\"type\":\"CategoricalScale\"},\"y_range\":{\"id\":\"6ab346c4-66c9-4e6e-ab07-166474b0022f\",\"type\":\"DataRange1d\"},\"y_scale\":{\"id\":\"40dce455-a249-4465-9df1-15e7c8e96bdc\",\"type\":\"LinearScale\"}},\"id\":\"e8fc040c-6e56-47ec-855b-02061408152f\",\"subtype\":\"Figure\",\"type\":\"Plot\"},{\"attributes\":{\"callback\":null,\"factors\":[\"0\",\"1\",\"2-3\",\"4-6\",\"7-9\",\"10+\"]},\"id\":\"c7e94131-1053-44be-bff6-02644065dd00\",\"type\":\"FactorRange\"},{\"attributes\":{\"callback\":null,\"data\":{\"Barcode\":[89158,23627,19974,11343,4592,5451],\"index\":[0,1,2,3,4,5],\"num_loans\":[\"0\",\"1\",\"2-3\",\"4-6\",\"7-9\",\"10+\"]},\"selected\":{\"id\":\"0958f937-e069-4ac2-ac7b-3084497a35b4\",\"type\":\"Selection\"},\"selection_policy\":{\"id\":\"ef4150ff-af4d-46b8-823f-4880ecdd11e5\",\"type\":\"UnionRenderers\"}},\"id\":\"86e08e62-ff57-43bd-add0-2a51d9b69c65\",\"type\":\"ColumnDataSource\"},{\"attributes\":{},\"id\":\"ff4d3975-2aba-4e56-b75b-a0dffcce5254\",\"type\":\"CategoricalScale\"},{\"attributes\":{},\"id\":\"bcc6bae6-13a8-4502-9d5c-71f0415b88e5\",\"type\":\"BasicTickFormatter\"},{\"attributes\":{},\"id\":\"cc9e497f-8a2c-4881-8314-88be88892008\",\"type\":\"WheelZoomTool\"},{\"attributes\":{},\"id\":\"24d2887e-67fb-452b-b3b6-aba37cf5fd8e\",\"type\":\"CategoricalTickFormatter\"},{\"attributes\":{\"callback\":null},\"id\":\"6ab346c4-66c9-4e6e-ab07-166474b0022f\",\"type\":\"DataRange1d\"},{\"attributes\":{\"dimension\":1,\"plot\":{\"id\":\"e8fc040c-6e56-47ec-855b-02061408152f\",\"subtype\":\"Figure\",\"type\":\"Plot\"},\"ticker\":{\"id\":\"f7f8c751-ec02-49f7-98bc-b5c26f297af9\",\"type\":\"BasicTicker\"}},\"id\":\"fe1a54de-8ecb-4003-bde1-5ff0097a385a\",\"type\":\"Grid\"}],\"root_ids\":[\"e8fc040c-6e56-47ec-855b-02061408152f\"]},\"title\":\"Bokeh Application\",\"version\":\"0.13.0\"}};\n",
       "  var render_items = [{\"docid\":\"b8e2ce67-dae8-46a7-bce2-34fec1a2bff2\",\"roots\":{\"e8fc040c-6e56-47ec-855b-02061408152f\":\"39adc813-ead5-418a-a16a-6af905b6a8b0\"}}];\n",
       "  root.Bokeh.embed.embed_items_notebook(docs_json, render_items);\n",
       "\n",
       "  }\n",
       "  if (root.Bokeh !== undefined) {\n",
       "    embed_document(root);\n",
       "  } else {\n",
       "    var attempts = 0;\n",
       "    var timer = setInterval(function(root) {\n",
       "      if (root.Bokeh !== undefined) {\n",
       "        embed_document(root);\n",
       "        clearInterval(timer);\n",
       "      }\n",
       "      attempts++;\n",
       "      if (attempts > 100) {\n",
       "        console.log(\"Bokeh: ERROR: Unable to run BokehJS code because BokehJS library is missing\")\n",
       "        clearInterval(timer);\n",
       "      }\n",
       "    }, 10, root)\n",
       "  }\n",
       "})(window);"
      ],
      "application/vnd.bokehjs_exec.v0+json": ""
     },
     "metadata": {
      "application/vnd.bokehjs_exec.v0+json": {
       "id": "e8fc040c-6e56-47ec-855b-02061408152f"
      }
     },
     "output_type": "display_data"
    }
   ],
   "source": [
    "source = ColumnDataSource(new_df)\n",
    "groupings = source.data['num_loans'].tolist()\n",
    "p = figure(plot_width=700, plot_height=500, x_range=groupings)\n",
    "\n",
    "p.title.text = 'Number of Items with Loans'\n",
    "p.xaxis.axis_label = 'Number of Loans'\n",
    "p.yaxis.axis_label = 'Number of Items'\n",
    "\n",
    "p.vbar(x='num_loans', top='Barcode', source=source, width=0.2)\n",
    "show(p)"
   ]
  },
  {
   "cell_type": "markdown",
   "metadata": {},
   "source": [
    "## 10 Most popular LC categories"
   ]
  },
  {
   "cell_type": "code",
   "execution_count": 51,
   "metadata": {},
   "outputs": [],
   "source": [
    "lc_df = pd.read_csv('loans_by_LC.csv')"
   ]
  },
  {
   "cell_type": "code",
   "execution_count": 54,
   "metadata": {},
   "outputs": [],
   "source": [
    "new_df = lc_df.sort_values(by='num_loans', ascending=False).head(10)"
   ]
  },
  {
   "cell_type": "code",
   "execution_count": 55,
   "metadata": {},
   "outputs": [
    {
     "data": {
      "text/html": [
       "<div>\n",
       "<style scoped>\n",
       "    .dataframe tbody tr th:only-of-type {\n",
       "        vertical-align: middle;\n",
       "    }\n",
       "\n",
       "    .dataframe tbody tr th {\n",
       "        vertical-align: top;\n",
       "    }\n",
       "\n",
       "    .dataframe thead th {\n",
       "        text-align: right;\n",
       "    }\n",
       "</style>\n",
       "<table border=\"1\" class=\"dataframe\">\n",
       "  <thead>\n",
       "    <tr style=\"text-align: right;\">\n",
       "      <th></th>\n",
       "      <th>Classification Code</th>\n",
       "      <th>num_items</th>\n",
       "      <th>num_loans</th>\n",
       "    </tr>\n",
       "  </thead>\n",
       "  <tbody>\n",
       "    <tr>\n",
       "      <th>18</th>\n",
       "      <td>BS</td>\n",
       "      <td>20144</td>\n",
       "      <td>69728</td>\n",
       "    </tr>\n",
       "    <tr>\n",
       "      <th>19</th>\n",
       "      <td>BT</td>\n",
       "      <td>11068</td>\n",
       "      <td>29278</td>\n",
       "    </tr>\n",
       "    <tr>\n",
       "      <th>20</th>\n",
       "      <td>BV</td>\n",
       "      <td>15108</td>\n",
       "      <td>28290</td>\n",
       "    </tr>\n",
       "    <tr>\n",
       "      <th>21</th>\n",
       "      <td>BX</td>\n",
       "      <td>20615</td>\n",
       "      <td>22817</td>\n",
       "    </tr>\n",
       "    <tr>\n",
       "      <th>17</th>\n",
       "      <td>BR</td>\n",
       "      <td>11689</td>\n",
       "      <td>22580</td>\n",
       "    </tr>\n",
       "    <tr>\n",
       "      <th>13</th>\n",
       "      <td>BL</td>\n",
       "      <td>6479</td>\n",
       "      <td>14800</td>\n",
       "    </tr>\n",
       "    <tr>\n",
       "      <th>7</th>\n",
       "      <td>B</td>\n",
       "      <td>4106</td>\n",
       "      <td>6841</td>\n",
       "    </tr>\n",
       "    <tr>\n",
       "      <th>14</th>\n",
       "      <td>BM</td>\n",
       "      <td>2569</td>\n",
       "      <td>6171</td>\n",
       "    </tr>\n",
       "    <tr>\n",
       "      <th>50</th>\n",
       "      <td>E</td>\n",
       "      <td>1959</td>\n",
       "      <td>3452</td>\n",
       "    </tr>\n",
       "    <tr>\n",
       "      <th>10</th>\n",
       "      <td>BF</td>\n",
       "      <td>2389</td>\n",
       "      <td>3432</td>\n",
       "    </tr>\n",
       "  </tbody>\n",
       "</table>\n",
       "</div>"
      ],
      "text/plain": [
       "   Classification Code  num_items  num_loans\n",
       "18                  BS      20144      69728\n",
       "19                  BT      11068      29278\n",
       "20                  BV      15108      28290\n",
       "21                  BX      20615      22817\n",
       "17                  BR      11689      22580\n",
       "13                  BL       6479      14800\n",
       "7                    B       4106       6841\n",
       "14                  BM       2569       6171\n",
       "50                   E       1959       3452\n",
       "10                  BF       2389       3432"
      ]
     },
     "execution_count": 55,
     "metadata": {},
     "output_type": "execute_result"
    }
   ],
   "source": [
    "new_df"
   ]
  },
  {
   "cell_type": "code",
   "execution_count": null,
   "metadata": {},
   "outputs": [],
   "source": []
  }
 ],
 "metadata": {
  "kernelspec": {
   "display_name": "Python 3",
   "language": "python",
   "name": "python3"
  },
  "language_info": {
   "codemirror_mode": {
    "name": "ipython",
    "version": 3
   },
   "file_extension": ".py",
   "mimetype": "text/x-python",
   "name": "python",
   "nbconvert_exporter": "python",
   "pygments_lexer": "ipython3",
   "version": "3.6.7"
  }
 },
 "nbformat": 4,
 "nbformat_minor": 2
}
