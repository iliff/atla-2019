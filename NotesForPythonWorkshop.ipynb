{
  "nbformat": 4,
  "nbformat_minor": 0,
  "metadata": {
    "colab": {
      "name": "NotesForPythonWorkshop.ipynb",
      "version": "0.3.2",
      "provenance": [],
      "include_colab_link": true
    },
    "kernelspec": {
      "name": "python3",
      "display_name": "Python 3"
    }
  },
  "cells": [
    {
      "cell_type": "markdown",
      "metadata": {
        "id": "view-in-github",
        "colab_type": "text"
      },
      "source": [
        "<a href=\"https://colab.research.google.com/github/iliff/atla-2019/blob/master/NotesForPythonWorkshop.ipynb\" target=\"_parent\"><img src=\"https://colab.research.google.com/assets/colab-badge.svg\" alt=\"Open In Colab\"/></a>"
      ]
    },
    {
      "cell_type": "markdown",
      "metadata": {
        "id": "U4rH7DyhB3Q1",
        "colab_type": "text"
      },
      "source": [
        "# Python Pre-conference Workshop\n",
        "\n",
        "Information professionals are increasingly dealing with electronic data, and\n",
        "as this data exponentially increases, more efficient tools and skills need to\n",
        "be implemented. With this in mind, this pre-conference workshop will focus on\n",
        "using Python as one of the important tools for aiding librarians in their work\n",
        "and research.\n",
        "\n",
        "## Why Python and Getting Started \n",
        "\n",
        "Every job has some repetitive tasks that require precision and accuracy. Here\n",
        "are a list of tasks I have been assigned recently that I would like to\n",
        "brainstorm different ways of solving them with you. \n",
        "\n",
        "### Librarian Problems 30 minutes\n",
        "\n",
        "1. A list of ISBNs need to find associated PDFS, ePubs, and JPEGs in three\n",
        "   different drives, and copy them into one folder to share it with a client. \n",
        "2. I have 12 excel workbooks that have 12 months of usage statistics, how does\n",
        "   one collate them into one master sheet? And how long does it take?\n",
        "3. After you collate the workbooks, you realize that there are duplicates of\n",
        "   the same title (they have different ISSN/ISBNs), though some of them are\n",
        "spelled slightly different. How do you merge them?\n",
        "4. You want to compile a list of the books most commonly cited in theses written\n",
        "   at your school that you don't have in your library, to see if it makes sense\n",
        "to purchase the work. How do you go about doing that? \n",
        "5. A student is interested in Carl Schmitt's _Political Theology_, especially\n",
        "   how that concept has developed sense he wrote his book in 1922. But the LC\n",
        "Subject Heading was not created until 1998. How do you find resources that\n",
        "might help the researcher? \n",
        "6. Compare Title lists from two different products like [Proquests Philosophy collection](https://www.proquest.com/products-services/Philosophy-Collection.html) and [EBSCO's Philosophy and Religion](https://www.ebsco.com/products/research-databases/religion-philosophy-collection); comparing eBook collections.\n",
        "7. Update Dublincore Metadata. Its easier to edit a spreadsheet, but how do you get 100s of records from the spreadsheet into XML? \n",
        "\n",
        "### Getting Started with Jupyter Notebooks and Vim 15 minutes\n",
        "\n",
        "1. Signup with a Microsoft Account \n",
        "2. Markdown and annotations \n",
        "3. Doing basic math in the prompt\n",
        "4. Copy the tutorial notebook\n",
        "\n",
        "## 10 Minute break\n",
        "\n",
        "## The Basics Of Python 1hr 15 minutes\n",
        "\n",
        "1. Variables \n",
        "2. Lists, Tuples, and Dictionaries \n",
        "3. Flow Control: if, else, for, try\n",
        "4. Functions \n",
        "5. Reading and writing to texts\n",
        "6. A few key libraries (os, requests, pandas)\n",
        "\n",
        "\n",
        "## Applying Python to real problems 50 min\n",
        "\n",
        "1. Define the Problem \n",
        "2. Define the desired result\n",
        "3. Break the problem down into atomic parts \n",
        "4. Identify the areas that you need to research \n",
        "5. Resources for help\n",
        "\n",
        "## References \n",
        "\n",
        "- [Stanford's Python notebooks](https://notebooks.azure.com/csbailey/libraries/intro-to-python-spring/html/intro_to_python-filled.ipynb)"
      ]
    },
    {
      "cell_type": "markdown",
      "metadata": {
        "id": "ippeeAL7CY92",
        "colab_type": "text"
      },
      "source": [
        "- setup with pycharm community edition\n",
        "- install python 3"
      ]
    },
    {
      "cell_type": "markdown",
      "metadata": {
        "id": "gsR1gt2E0NFS",
        "colab_type": "text"
      },
      "source": [
        "# Outline of Workshop"
      ]
    },
    {
      "cell_type": "markdown",
      "metadata": {
        "id": "hXAruLis4gah",
        "colab_type": "text"
      },
      "source": [
        "## Library Problems 30 min \n",
        "\n",
        "1. A list of ISBNs need to find associated PDFS, ePubs, and JPEGs in three\n",
        "   different drives, and copy them into one folder to share it with a client. \n",
        "2. I have 12 excel workbooks that have 12 months of usage statistics, how does\n",
        "   one collate them into one master sheet? And how long does it take?\n",
        "3. After you collate the workbooks, you realize that there are duplicates of\n",
        "   the same title (they have different ISSN/ISBNs), though some of them are\n",
        "spelled slightly different. How do you merge them?\n",
        "4. You want to compile a list of the books most commonly cited in theses written\n",
        "   at your school that you don't have in your library, to see if it makes sense\n",
        "to purchase the work. How do you go about doing that? \n",
        "5. A student is interested in Carl Schmitt's _Political Theology_, especially\n",
        "   how that concept has developed sense he wrote his book in 1922. But the LC\n",
        "Subject Heading was not created until 1998. How do you find resources that\n",
        "might help the researcher? \n",
        "6. Compare Title lists from two different products like [Proquests Philosophy collection](https://www.proquest.com/products-services/Philosophy-Collection.html) and [EBSCO's Philosophy and Religion](https://www.ebsco.com/products/research-databases/religion-philosophy-collection); comparing eBook collections.\n",
        "7. Update Dublincore Metadata. Its easier to edit a spreadsheet, but how do you get 100s of records from the spreadsheet into XML? \n",
        "8. Compare new eBook package to see if it adds enough value to your current eBook holdings. "
      ]
    },
    {
      "cell_type": "markdown",
      "metadata": {
        "id": "lZRTxXbf42Nn",
        "colab_type": "text"
      },
      "source": [
        "## Getting Set up with Python and PyCharm 1:15 \n",
        "\n",
        "1) [Download Python3.7](https://www.python.org/downloads/). This provides the Python interpreter that will allow us to execute the scripts that we write.\n",
        "\n",
        "2) [Download PyCharm](https://www.jetbrains.com/pycharm/download). \n",
        "\n",
        "3) Linking PyCharm to Python \n",
        "\n",
        "4) Navigation around PyCharm\n",
        "\n",
        "5) ***WHERE SHOULD WE PUT THE LESSON FILES?*** \n",
        " \n",
        " "
      ]
    },
    {
      "cell_type": "markdown",
      "metadata": {
        "id": "rmCSrJY-72HO",
        "colab_type": "text"
      },
      "source": [
        "## DublinCore Metadata \n",
        "\n",
        "How do you turn a spreadsheet into DublinCore XML? "
      ]
    },
    {
      "cell_type": "markdown",
      "metadata": {
        "id": "BMddPKhF-OEk",
        "colab_type": "text"
      },
      "source": [
        "### Getting started by using other peoples code \n",
        "\n",
        "- Python has batteries inlcuded\n",
        "- Additional packages can be installed with `pip`.\n",
        "\n",
        "```\n",
        "pip install pandas \n",
        "pip install dcxml \n",
        "```\n",
        "- [Pandas](http://pandas.pydata.org/) is a library for handeling tabular data \n",
        "- [dcxml](https://github.com/inveniosoftware/dcxml) is a library for handeling DublinCore xml \n",
        "- Notice the different qualities of the project webpages "
      ]
    },
    {
      "cell_type": "markdown",
      "metadata": {
        "id": "ibCoipULBacu",
        "colab_type": "text"
      },
      "source": [
        "After installing the packages they, need to be imported into the code. This is usually done at the beginning of the script. "
      ]
    },
    {
      "cell_type": "code",
      "metadata": {
        "id": "RbVamVA_96sV",
        "colab_type": "code",
        "colab": {}
      },
      "source": [
        "import pandas as pd\n",
        "from dcxml import simpledc"
      ],
      "execution_count": 0,
      "outputs": []
    },
    {
      "cell_type": "markdown",
      "metadata": {
        "id": "dqxVIWRPCdOt",
        "colab_type": "text"
      },
      "source": [
        "\n",
        "### Creating Variables and Using Dataframes\n",
        "\n",
        "- Variables are ways to point to things with a nickname. \n",
        "\n",
        "- A dataframe is the pandas data object for storing data \n",
        "\n",
        "- Objects have different \"methods\". Methods are operations that can be done on the object. "
      ]
    },
    {
      "cell_type": "code",
      "metadata": {
        "id": "R5JllmIN-Dmv",
        "colab_type": "code",
        "colab": {}
      },
      "source": [
        "# pd is the alias that we gave pandas \n",
        "# This is grabing a csv from a url we have set up for this\n",
        "df = pd.read_csv('https://raw.githubusercontent.com/msaxton/atla2019_workshop/master/dc_sample.csv')\n",
        "\n",
        "# fillna() is one of the methods that dataframes have. This one replaces Not A Number \n",
        "# with nothing\n",
        "df = df.fillna('')\n",
        "\n"
      ],
      "execution_count": 0,
      "outputs": []
    },
    {
      "cell_type": "code",
      "metadata": {
        "id": "2yMmDklP1EKr",
        "colab_type": "code",
        "colab": {}
      },
      "source": [
        "# head() is another method, we can use this to explore the dataframe\n",
        "df.head()"
      ],
      "execution_count": 0,
      "outputs": []
    },
    {
      "cell_type": "markdown",
      "metadata": {
        "id": "jJuJm13YD6H_",
        "colab_type": "text"
      },
      "source": [
        "### Lists and dictionaries \n",
        "\n",
        "- Accessing data in data structures \n",
        "- Lists, ordered arrays \n",
        "- dictionaries, key value pairs like json \n",
        "- Dataframes are datastructures, but not basic datastructures "
      ]
    },
    {
      "cell_type": "code",
      "metadata": {
        "id": "JJOCsfIdEKI5",
        "colab_type": "code",
        "colab": {}
      },
      "source": [
        "list_of_dicts = df.to_dict(orient='records')"
      ],
      "execution_count": 0,
      "outputs": []
    },
    {
      "cell_type": "code",
      "metadata": {
        "id": "CVYrl6rZEU65",
        "colab_type": "code",
        "colab": {}
      },
      "source": [
        "# What is in the list? \n",
        "list_of_dicts[:10] # returns the first 10 items of the list"
      ],
      "execution_count": 0,
      "outputs": []
    },
    {
      "cell_type": "code",
      "metadata": {
        "id": "bUY1yLov1S7i",
        "colab_type": "code",
        "colab": {}
      },
      "source": [
        "dict0 = list_of_dicts[0] # lists are 0 indexed \n",
        "\n",
        "print(dict0) # This is a dictionary "
      ],
      "execution_count": 0,
      "outputs": []
    },
    {
      "cell_type": "markdown",
      "metadata": {
        "id": "EV_dMB0fE9WG",
        "colab_type": "text"
      },
      "source": [
        "### Flow control, Iterating through a list\n",
        "\n",
        "For each item in the list that we created (they are each records, each element in the record has a key value pair), we need to manipulate the item in some way. \n",
        "\n",
        "- Iteration \n",
        "- local variables \n",
        "- simpledoc methods \n",
        "- accessing dictionaries \n",
        "- writing files "
      ]
    },
    {
      "cell_type": "code",
      "metadata": {
        "id": "eqtZmkdS-GZY",
        "colab_type": "code",
        "colab": {}
      },
      "source": [
        "# for loops are ways of iterating through data\n",
        "# list_of_dicts has a lot of dictionary items\n",
        "# we are defining a varibale `dict` and reusing that variable for each iteration of the loop\n",
        "for dictionary in list_of_dicts:\n",
        "    new_dict = {}\n",
        "    for key, value in dictionary.items():\n",
        "        list_values = [value]\n",
        "        new_dict[key] = list_values\n",
        "    xml = simpledc.tostring(new_dict)\n",
        "    filename = new_dict['identifiers'][0]\n",
        "\n",
        "    with open(fn + '.xml', mode='w', encoding='utf8') as fp:\n",
        "        fp.write(xml)"
      ],
      "execution_count": 0,
      "outputs": []
    },
    {
      "cell_type": "markdown",
      "metadata": {
        "id": "Ph_vCD5sVN8k",
        "colab_type": "text"
      },
      "source": [
        "### Creating A Reusable Script\n",
        "\n",
        "- `__name__` variables \n",
        "- The `sys` library \n",
        "- Installing `xlrd`\n",
        "- `try` and `except` \n",
        "- Defining and Using functions "
      ]
    },
    {
      "cell_type": "markdown",
      "metadata": {
        "id": "1h2LHMttXRNn",
        "colab_type": "text"
      },
      "source": [
        "The following is a standalone script that works with an argument. \n",
        "\n",
        "Save this script as `xlsx_to_xml.py`\n",
        "\n",
        "- On windows run `xlsx_to_xml.py NameOfExcelFile.xlsx`\n",
        "- On mac/linux `python3 xlsx_to_xml.py NameOfExcelFile.xlsx`\n"
      ]
    },
    {
      "cell_type": "code",
      "metadata": {
        "id": "nvsKVqODViUa",
        "colab_type": "code",
        "colab": {}
      },
      "source": [
        "#!/usr/bin/env python\n",
        "'''Taking the code we wrote, this is creating a script that we can call from the command line to create the xml files\n",
        "per record. The main purpose of this is to see the structure of a python script that can be reused.'''\n",
        "\n",
        "import sys\n",
        "import pandas as pd\n",
        "from dcxml import simpledc\n",
        "# pip install xlrd\n",
        "\n",
        "\n",
        "def dictionary2xml(dictionary):\n",
        "    '''takes a dictionary and creates an xml string from the object, and the file name'''\n",
        "    new_dict = {}\n",
        "    for key, value in dictionary.items():\n",
        "        list_value = [value]\n",
        "        new_dict[key] = list_value\n",
        "    xml = simpledc.tostring(new_dict)\n",
        "    file_name = dictionary['identifiers']\n",
        "    return xml, file_name\n",
        "\n",
        "\n",
        "def main():\n",
        "    '''The main function will hand the file input and output for the script'''\n",
        "    import_file = sys.argv[1]\n",
        "    df = pd.read_excel(import_file)\n",
        "    df = df.fillna('')\n",
        "    try:\n",
        "      os.mkdir('XMLFiles')\n",
        "    except FileExistsError:\n",
        "      pass\n",
        "    list_of_dicts = df.to_dict(orient='records')\n",
        "    for dictionary in list_of_dicts:\n",
        "        xml, file_name = dictionary2xml(dictionary)\n",
        "        with open('XMLFiles/' + file_name + '.xml', mode='w', encoding='utf8') as fp:\n",
        "            fp.write(xml)\n",
        "\n",
        "\n",
        "if __name__ == '__main__':\n",
        "    '''Python tries to limit the boiler plate type code, and this is some of the limited boiler plate we have. \n",
        "    The main purpose for this code is that if the script is imported into another script the main function will not \n",
        "    be called.'''\n",
        "    main() "
      ],
      "execution_count": 0,
      "outputs": []
    },
    {
      "cell_type": "markdown",
      "metadata": {
        "id": "qwOU7JcA2C6b",
        "colab_type": "text"
      },
      "source": [
        "## Comparing eBook Collections \n",
        "\n",
        "Solving a problem together \n",
        "\n",
        "\n",
        "## Two ebook collections:\n",
        "- [collection one](https://raw.githubusercontent.com/msaxton/atla2019_workshop/master/ebooks1.csv)\n",
        "- [collection two](https://raw.githubusercontent.com/msaxton/atla2019_workshop/master/ebooks2.csv)"
      ]
    },
    {
      "cell_type": "markdown",
      "metadata": {
        "id": "gibiq1g7FzQo",
        "colab_type": "text"
      },
      "source": [
        "### Importing Tabular Data"
      ]
    },
    {
      "cell_type": "code",
      "metadata": {
        "id": "WXE-EwzT9x9i",
        "colab_type": "code",
        "colab": {}
      },
      "source": [
        "import pandas as pd "
      ],
      "execution_count": 0,
      "outputs": []
    },
    {
      "cell_type": "code",
      "metadata": {
        "id": "BnlRpo3S9z3A",
        "colab_type": "code",
        "colab": {}
      },
      "source": [
        "ebooks1_df = pd.read_csv('https://raw.githubusercontent.com/msaxton/atla2019_workshop/master/ebooks1.csv')\n",
        "ebooks2_df = pd.read_csv('https://raw.githubusercontent.com/msaxton/atla2019_workshop/master/ebooks2.csv')"
      ],
      "execution_count": 0,
      "outputs": []
    },
    {
      "cell_type": "markdown",
      "metadata": {
        "id": "UEzwneDbF5tx",
        "colab_type": "text"
      },
      "source": [
        "### Exploring the Data \n",
        "\n",
        "- How do we explore the data? \n",
        "- How do we match ebook collections? \n",
        "- What kinds of problems have you had in the past comparing these things? "
      ]
    },
    {
      "cell_type": "code",
      "metadata": {
        "id": "M_cAE2nB97RW",
        "colab_type": "code",
        "outputId": "07911dde-5637-4c4e-c78d-ba4dd21bd743",
        "colab": {
          "base_uri": "https://localhost:8080/",
          "height": 539
        }
      },
      "source": [
        "# See how the records look with .head()\n",
        "ebooks1_df.head()"
      ],
      "execution_count": 0,
      "outputs": [
        {
          "output_type": "execute_result",
          "data": {
            "text/html": [
              "<div>\n",
              "<style scoped>\n",
              "    .dataframe tbody tr th:only-of-type {\n",
              "        vertical-align: middle;\n",
              "    }\n",
              "\n",
              "    .dataframe tbody tr th {\n",
              "        vertical-align: top;\n",
              "    }\n",
              "\n",
              "    .dataframe thead th {\n",
              "        text-align: right;\n",
              "    }\n",
              "</style>\n",
              "<table border=\"1\" class=\"dataframe\">\n",
              "  <thead>\n",
              "    <tr style=\"text-align: right;\">\n",
              "      <th></th>\n",
              "      <th>Product ID</th>\n",
              "      <th>ISBN</th>\n",
              "      <th>eISBN</th>\n",
              "      <th>Title</th>\n",
              "      <th>Author</th>\n",
              "      <th>Publisher</th>\n",
              "      <th>Publication Year</th>\n",
              "      <th>Language</th>\n",
              "      <th>LCC</th>\n",
              "      <th>LC Subject Heading</th>\n",
              "      <th>BISAC</th>\n",
              "      <th>DDC</th>\n",
              "      <th>Downloadable</th>\n",
              "    </tr>\n",
              "  </thead>\n",
              "  <tbody>\n",
              "    <tr>\n",
              "      <th>0</th>\n",
              "      <td>515720</td>\n",
              "      <td>9.788779e+12</td>\n",
              "      <td>9.788779e+12</td>\n",
              "      <td>Religion</td>\n",
              "      <td>Sørensen, Jesper-Hammer, Olav.</td>\n",
              "      <td>Aarhus University Press</td>\n",
              "      <td>2010</td>\n",
              "      <td>dan</td>\n",
              "      <td>BD215 .S663 2010eb</td>\n",
              "      <td>Belief and doubt.,Religion.</td>\n",
              "      <td>PHILOSOPHY / Epistemology</td>\n",
              "      <td>121/.6</td>\n",
              "      <td>Y</td>\n",
              "    </tr>\n",
              "    <tr>\n",
              "      <th>1</th>\n",
              "      <td>515586</td>\n",
              "      <td>9.788779e+12</td>\n",
              "      <td>9.788779e+12</td>\n",
              "      <td>Property and Virginity</td>\n",
              "      <td>Agnes S. Arnórsdóttir.</td>\n",
              "      <td>Aarhus University Press</td>\n",
              "      <td>2010</td>\n",
              "      <td>eng</td>\n",
              "      <td>HQ643 .A36 2010</td>\n",
              "      <td>Marital property--Iceland--History.,Marriage (...</td>\n",
              "      <td>SOCIAL SCIENCE / Sociology / Marriage &amp; Family</td>\n",
              "      <td>306.8</td>\n",
              "      <td>Y</td>\n",
              "    </tr>\n",
              "    <tr>\n",
              "      <th>2</th>\n",
              "      <td>515721</td>\n",
              "      <td>9.788779e+12</td>\n",
              "      <td>9.788779e+12</td>\n",
              "      <td>Religion, Politics, and Law</td>\n",
              "      <td>Lodberg, Peter.</td>\n",
              "      <td>Aarhus University Press</td>\n",
              "      <td>2009</td>\n",
              "      <td>eng</td>\n",
              "      <td>BL65.P7 R44 2009</td>\n",
              "      <td>Democracy--Religious aspects.,Globalization.,R...</td>\n",
              "      <td>RELIGION / Reference</td>\n",
              "      <td>200</td>\n",
              "      <td>Y</td>\n",
              "    </tr>\n",
              "    <tr>\n",
              "      <th>3</th>\n",
              "      <td>515692</td>\n",
              "      <td>9.788779e+12</td>\n",
              "      <td>9.788779e+12</td>\n",
              "      <td>Alexandria</td>\n",
              "      <td>Krasilnikoff, Jens A.-Hinge, George.</td>\n",
              "      <td>Aarhus University Press</td>\n",
              "      <td>2009</td>\n",
              "      <td>eng</td>\n",
              "      <td>DT154.A4 A449 2009</td>\n",
              "      <td>NaN</td>\n",
              "      <td>HISTORY / Middle East / Egypt</td>\n",
              "      <td>962</td>\n",
              "      <td>Y</td>\n",
              "    </tr>\n",
              "    <tr>\n",
              "      <th>4</th>\n",
              "      <td>515644</td>\n",
              "      <td>9.788779e+12</td>\n",
              "      <td>9.788779e+12</td>\n",
              "      <td>The Discursive Fight Over Religious Texts in A...</td>\n",
              "      <td>Jacobsen, Anders-Christian.</td>\n",
              "      <td>Aarhus University Press</td>\n",
              "      <td>2009</td>\n",
              "      <td>eng</td>\n",
              "      <td>BS1135 .D57 2009</td>\n",
              "      <td>Christianity and other religions--Judaism.,Chr...</td>\n",
              "      <td>RELIGION / Christian Theology / Ethics</td>\n",
              "      <td>241.2</td>\n",
              "      <td>Y</td>\n",
              "    </tr>\n",
              "  </tbody>\n",
              "</table>\n",
              "</div>"
            ],
            "text/plain": [
              "   Product ID          ISBN  ...     DDC Downloadable\n",
              "0      515720  9.788779e+12  ...  121/.6            Y\n",
              "1      515586  9.788779e+12  ...   306.8            Y\n",
              "2      515721  9.788779e+12  ...     200            Y\n",
              "3      515692  9.788779e+12  ...     962            Y\n",
              "4      515644  9.788779e+12  ...   241.2            Y\n",
              "\n",
              "[5 rows x 13 columns]"
            ]
          },
          "metadata": {
            "tags": []
          },
          "execution_count": 115
        }
      ]
    },
    {
      "cell_type": "code",
      "metadata": {
        "id": "30zTQil5GozQ",
        "colab_type": "code",
        "outputId": "bd50651e-7d22-4c1f-e4e1-120bbf941943",
        "colab": {
          "base_uri": "https://localhost:8080/",
          "height": 626
        }
      },
      "source": [
        "ebooks2_df.head()"
      ],
      "execution_count": 0,
      "outputs": [
        {
          "output_type": "execute_result",
          "data": {
            "text/html": [
              "<div>\n",
              "<style scoped>\n",
              "    .dataframe tbody tr th:only-of-type {\n",
              "        vertical-align: middle;\n",
              "    }\n",
              "\n",
              "    .dataframe tbody tr th {\n",
              "        vertical-align: top;\n",
              "    }\n",
              "\n",
              "    .dataframe thead th {\n",
              "        text-align: right;\n",
              "    }\n",
              "</style>\n",
              "<table border=\"1\" class=\"dataframe\">\n",
              "  <thead>\n",
              "    <tr style=\"text-align: right;\">\n",
              "      <th></th>\n",
              "      <th>Title</th>\n",
              "      <th>Publisher</th>\n",
              "      <th>Imprint</th>\n",
              "      <th>Publication Year</th>\n",
              "      <th>Editor/ Author</th>\n",
              "      <th>ISBN</th>\n",
              "      <th>Awards</th>\n",
              "      <th>Subject</th>\n",
              "      <th>Description</th>\n",
              "      <th>USD List Price</th>\n",
              "      <th>Single-User Restriction</th>\n",
              "      <th>Title Phase</th>\n",
              "      <th>Predicted Release Quarter</th>\n",
              "      <th>Multi-Site Sales Restricted</th>\n",
              "      <th>Geographic Sales Regions</th>\n",
              "      <th>Corp URL</th>\n",
              "      <th>Edition ID#</th>\n",
              "    </tr>\n",
              "  </thead>\n",
              "  <tbody>\n",
              "    <tr>\n",
              "      <th>0</th>\n",
              "      <td>A Biblical-Theological Introduction to the New...</td>\n",
              "      <td>Crossway</td>\n",
              "      <td>Crossway</td>\n",
              "      <td>2016</td>\n",
              "      <td>Editor: Van Pelt, Miles V.</td>\n",
              "      <td>978-1-4335-3676-2</td>\n",
              "      <td>NaN</td>\n",
              "      <td>Religion &amp; Theology - Christianity</td>\n",
              "      <td>Featuring contributions from respected evangel...</td>\n",
              "      <td>$75</td>\n",
              "      <td>False</td>\n",
              "      <td>Live</td>\n",
              "      <td>NaN</td>\n",
              "      <td>No Restrictions</td>\n",
              "      <td>No Restrictions</td>\n",
              "      <td>corp.credoreference.com/component/booktracker/...</td>\n",
              "      <td>12245</td>\n",
              "    </tr>\n",
              "    <tr>\n",
              "      <th>1</th>\n",
              "      <td>A Biblical-Theological Introduction to the Old...</td>\n",
              "      <td>Crossway</td>\n",
              "      <td>Crossway</td>\n",
              "      <td>2016</td>\n",
              "      <td>Editor: Van Pelt, Miles V.</td>\n",
              "      <td>978-1-4335-3346-4</td>\n",
              "      <td>NaN</td>\n",
              "      <td>Religion &amp; Theology - Christianity</td>\n",
              "      <td>Covering each book in the Old Testament, this ...</td>\n",
              "      <td>$75</td>\n",
              "      <td>False</td>\n",
              "      <td>Live</td>\n",
              "      <td>NaN</td>\n",
              "      <td>No Restrictions</td>\n",
              "      <td>No Restrictions</td>\n",
              "      <td>corp.credoreference.com/component/booktracker/...</td>\n",
              "      <td>12244</td>\n",
              "    </tr>\n",
              "    <tr>\n",
              "      <th>2</th>\n",
              "      <td>A Complete Handbook of Literary Forms in the B...</td>\n",
              "      <td>Crossway</td>\n",
              "      <td>Crossway</td>\n",
              "      <td>2014</td>\n",
              "      <td>Ryken, Leland</td>\n",
              "      <td>978-1-4335-4114-8</td>\n",
              "      <td>NaN</td>\n",
              "      <td>Religion &amp; Theology - Christianity</td>\n",
              "      <td>Whether examining genre, motifs, figures of sp...</td>\n",
              "      <td>$30</td>\n",
              "      <td>False</td>\n",
              "      <td>Live</td>\n",
              "      <td>NaN</td>\n",
              "      <td>No Restrictions</td>\n",
              "      <td>No Restrictions</td>\n",
              "      <td>corp.credoreference.com/component/booktracker/...</td>\n",
              "      <td>9857</td>\n",
              "    </tr>\n",
              "    <tr>\n",
              "      <th>3</th>\n",
              "      <td>A Family Guide to the Bible</td>\n",
              "      <td>Crossway</td>\n",
              "      <td>Crossway</td>\n",
              "      <td>2009</td>\n",
              "      <td>Ditchfield, Christin</td>\n",
              "      <td>978-1-58-134891-0</td>\n",
              "      <td>NaN</td>\n",
              "      <td>Religion &amp; Theology - Christianity</td>\n",
              "      <td>A Family Guide to the Bible takes readers on a...</td>\n",
              "      <td>$39</td>\n",
              "      <td>False</td>\n",
              "      <td>Live</td>\n",
              "      <td>NaN</td>\n",
              "      <td>No Restrictions</td>\n",
              "      <td>No Restrictions</td>\n",
              "      <td>corp.credoreference.com/component/booktracker/...</td>\n",
              "      <td>7961</td>\n",
              "    </tr>\n",
              "    <tr>\n",
              "      <th>4</th>\n",
              "      <td>Blackwell Guides to Global Christianity: A New...</td>\n",
              "      <td>Wiley</td>\n",
              "      <td>Wiley</td>\n",
              "      <td>2011</td>\n",
              "      <td>Bays, Daniel H.</td>\n",
              "      <td>978-1-4051-5954-8</td>\n",
              "      <td>Rated Essential by Choice</td>\n",
              "      <td>Religion &amp; Theology - Christianity</td>\n",
              "      <td>A New History of Christianity in China, writte...</td>\n",
              "      <td>$154</td>\n",
              "      <td>False</td>\n",
              "      <td>Live</td>\n",
              "      <td>NaN</td>\n",
              "      <td>No Restrictions</td>\n",
              "      <td>No Restrictions</td>\n",
              "      <td>corp.credoreference.com/component/booktracker/...</td>\n",
              "      <td>5018</td>\n",
              "    </tr>\n",
              "  </tbody>\n",
              "</table>\n",
              "</div>"
            ],
            "text/plain": [
              "                                               Title  ... Edition ID#\n",
              "0  A Biblical-Theological Introduction to the New...  ...       12245\n",
              "1  A Biblical-Theological Introduction to the Old...  ...       12244\n",
              "2  A Complete Handbook of Literary Forms in the B...  ...        9857\n",
              "3                        A Family Guide to the Bible  ...        7961\n",
              "4  Blackwell Guides to Global Christianity: A New...  ...        5018\n",
              "\n",
              "[5 rows x 17 columns]"
            ]
          },
          "metadata": {
            "tags": []
          },
          "execution_count": 116
        }
      ]
    },
    {
      "cell_type": "code",
      "metadata": {
        "id": "--A7ZmGAGqje",
        "colab_type": "code",
        "outputId": "94d071ba-a809-4f11-8a48-839cadebb2ad",
        "colab": {
          "base_uri": "https://localhost:8080/",
          "height": 34
        }
      },
      "source": [
        "# Get the shape of the dataframes with .shape\n",
        "# shape is property and not a method \n",
        "ebooks1_df.shape"
      ],
      "execution_count": 0,
      "outputs": [
        {
          "output_type": "execute_result",
          "data": {
            "text/plain": [
              "(7894, 13)"
            ]
          },
          "metadata": {
            "tags": []
          },
          "execution_count": 117
        }
      ]
    },
    {
      "cell_type": "code",
      "metadata": {
        "id": "vuLSVSsuHz9a",
        "colab_type": "code",
        "outputId": "5ddfcf4c-a9f6-4951-b3e1-6f9afd3d8bad",
        "colab": {
          "base_uri": "https://localhost:8080/",
          "height": 34
        }
      },
      "source": [
        "ebooks2_df.shape "
      ],
      "execution_count": 0,
      "outputs": [
        {
          "output_type": "execute_result",
          "data": {
            "text/plain": [
              "(91, 17)"
            ]
          },
          "metadata": {
            "tags": []
          },
          "execution_count": 118
        }
      ]
    },
    {
      "cell_type": "markdown",
      "metadata": {
        "id": "71WeCFSJH3nW",
        "colab_type": "text"
      },
      "source": [
        "### Finding a Point of Comparison \n",
        "\n",
        "- A column in each of them is ISBN \n",
        "\n",
        "- ```ebooks1_df['ISBN'].dtypes == ebooks2_df['ISBN'].dtypes```\n",
        "- But these aren't the same datatypes. \n",
        "- How do we make them the same datatype?"
      ]
    },
    {
      "cell_type": "code",
      "metadata": {
        "id": "0TuHQnxJNeQY",
        "colab_type": "code",
        "colab": {}
      },
      "source": [
        "ebooks2_df['ISBN'] = ebooks2_df['ISBN'].str.replace('-', '') # remove dashes from ebooks2 data "
      ],
      "execution_count": 0,
      "outputs": []
    },
    {
      "cell_type": "code",
      "metadata": {
        "id": "eZnxcyqHNxoZ",
        "colab_type": "code",
        "colab": {}
      },
      "source": [
        "ebooks2_df['ISBN'] = ebooks2_df['ISBN'].astype('float64') # change the datatype to match ebooks1 data "
      ],
      "execution_count": 0,
      "outputs": []
    },
    {
      "cell_type": "code",
      "metadata": {
        "id": "vFi2G5lCOHu8",
        "colab_type": "code",
        "colab": {}
      },
      "source": [
        "duplicate = pd.merge(ebooks1_df, ebooks2_df, on='ISBN')"
      ],
      "execution_count": 0,
      "outputs": []
    },
    {
      "cell_type": "code",
      "metadata": {
        "id": "EZcZno3APxAs",
        "colab_type": "code",
        "outputId": "9ccde98f-fcff-4c8f-c537-fd67e35b68d4",
        "colab": {
          "base_uri": "https://localhost:8080/",
          "height": 980
        }
      },
      "source": [
        "duplicate"
      ],
      "execution_count": 0,
      "outputs": [
        {
          "output_type": "execute_result",
          "data": {
            "text/html": [
              "<div>\n",
              "<style scoped>\n",
              "    .dataframe tbody tr th:only-of-type {\n",
              "        vertical-align: middle;\n",
              "    }\n",
              "\n",
              "    .dataframe tbody tr th {\n",
              "        vertical-align: top;\n",
              "    }\n",
              "\n",
              "    .dataframe thead th {\n",
              "        text-align: right;\n",
              "    }\n",
              "</style>\n",
              "<table border=\"1\" class=\"dataframe\">\n",
              "  <thead>\n",
              "    <tr style=\"text-align: right;\">\n",
              "      <th></th>\n",
              "      <th>Product ID</th>\n",
              "      <th>ISBN</th>\n",
              "      <th>eISBN</th>\n",
              "      <th>Title_x</th>\n",
              "      <th>Author</th>\n",
              "      <th>Publisher_x</th>\n",
              "      <th>Publication Year_x</th>\n",
              "      <th>Language</th>\n",
              "      <th>LCC</th>\n",
              "      <th>LC Subject Heading</th>\n",
              "      <th>BISAC</th>\n",
              "      <th>DDC</th>\n",
              "      <th>Downloadable</th>\n",
              "      <th>Title_y</th>\n",
              "      <th>Publisher_y</th>\n",
              "      <th>Imprint</th>\n",
              "      <th>Publication Year_y</th>\n",
              "      <th>Editor/ Author</th>\n",
              "      <th>Awards</th>\n",
              "      <th>Subject</th>\n",
              "      <th>Description</th>\n",
              "      <th>USD List Price</th>\n",
              "      <th>Single-User Restriction</th>\n",
              "      <th>Title Phase</th>\n",
              "      <th>Predicted Release Quarter</th>\n",
              "      <th>Multi-Site Sales Restricted</th>\n",
              "      <th>Geographic Sales Regions</th>\n",
              "      <th>Corp URL</th>\n",
              "      <th>Edition ID#</th>\n",
              "    </tr>\n",
              "  </thead>\n",
              "  <tbody>\n",
              "    <tr>\n",
              "      <th>0</th>\n",
              "      <td>989239</td>\n",
              "      <td>9.780831e+12</td>\n",
              "      <td>9.780831e+12</td>\n",
              "      <td>Commentary on John</td>\n",
              "      <td>Cyril-Maxwell, David R.-Elowsky, Joel C.</td>\n",
              "      <td>Inter-Varsity Press</td>\n",
              "      <td>2015</td>\n",
              "      <td>eng</td>\n",
              "      <td>BR65.C953 I413 2015</td>\n",
              "      <td>NaN</td>\n",
              "      <td>RELIGION / Biblical Commentary / New Testament</td>\n",
              "      <td>226.5/07;226.507</td>\n",
              "      <td>Y</td>\n",
              "      <td>Ancient Christian Texts: Commentary on John: V...</td>\n",
              "      <td>InterVarsity Press</td>\n",
              "      <td>InterVarsity Press</td>\n",
              "      <td>2015</td>\n",
              "      <td>Editor: Elowsky, Joel C.</td>\n",
              "      <td>NaN</td>\n",
              "      <td>Religion &amp; Theology - Christianity</td>\n",
              "      <td>In the latest addition to the Ancient Christia...</td>\n",
              "      <td>$90</td>\n",
              "      <td>False</td>\n",
              "      <td>Live</td>\n",
              "      <td>NaN</td>\n",
              "      <td>No Restrictions</td>\n",
              "      <td>No Restrictions</td>\n",
              "      <td>corp.credoreference.com/component/booktracker/...</td>\n",
              "      <td>11497</td>\n",
              "    </tr>\n",
              "    <tr>\n",
              "      <th>1</th>\n",
              "      <td>684985</td>\n",
              "      <td>9.780831e+12</td>\n",
              "      <td>9.780831e+12</td>\n",
              "      <td>Commentary on Isaiah</td>\n",
              "      <td>Eusebius-Elowsky, Joel C.-Armstrong, Jonathan J.</td>\n",
              "      <td>Inter-Varsity Press</td>\n",
              "      <td>2013</td>\n",
              "      <td>eng</td>\n",
              "      <td>BS1515.53 .E9713 2013eb</td>\n",
              "      <td>NaN</td>\n",
              "      <td>RELIGION / Biblical Studies / Old Testament</td>\n",
              "      <td>224/.107</td>\n",
              "      <td>Y</td>\n",
              "      <td>Ancient Christian Texts: Commentary on Isaiah</td>\n",
              "      <td>InterVarsity Press</td>\n",
              "      <td>InterVarsity Press</td>\n",
              "      <td>2013</td>\n",
              "      <td>Eusebius of Caesarea</td>\n",
              "      <td>NaN</td>\n",
              "      <td>Religion &amp; Theology - Christianity</td>\n",
              "      <td>A first-ever English translation of Eusebius's...</td>\n",
              "      <td>$90</td>\n",
              "      <td>False</td>\n",
              "      <td>Live</td>\n",
              "      <td>NaN</td>\n",
              "      <td>No Restrictions</td>\n",
              "      <td>No Restrictions</td>\n",
              "      <td>corp.credoreference.com/component/booktracker/...</td>\n",
              "      <td>8129</td>\n",
              "    </tr>\n",
              "    <tr>\n",
              "      <th>2</th>\n",
              "      <td>684457</td>\n",
              "      <td>9.780831e+12</td>\n",
              "      <td>9.780831e+12</td>\n",
              "      <td>Commentary on John</td>\n",
              "      <td>Cyril-Elowsky, Joel C.-Maxwell, David R.</td>\n",
              "      <td>Inter-Varsity Press</td>\n",
              "      <td>2013</td>\n",
              "      <td>eng</td>\n",
              "      <td>BR65.C953 I413 2013eb</td>\n",
              "      <td>NaN</td>\n",
              "      <td>RELIGION / Biblical Commentary / New Testament</td>\n",
              "      <td>226.5/07</td>\n",
              "      <td>Y</td>\n",
              "      <td>Ancient Christian Texts: Commentary on John: V...</td>\n",
              "      <td>InterVarsity Press</td>\n",
              "      <td>InterVarsity Press</td>\n",
              "      <td>2013</td>\n",
              "      <td>Cyril of Alexandria</td>\n",
              "      <td>NaN</td>\n",
              "      <td>Religion &amp; Theology - Christianity</td>\n",
              "      <td>David Maxwell renders a service to students of...</td>\n",
              "      <td>$90</td>\n",
              "      <td>False</td>\n",
              "      <td>Live</td>\n",
              "      <td>NaN</td>\n",
              "      <td>No Restrictions</td>\n",
              "      <td>No Restrictions</td>\n",
              "      <td>corp.credoreference.com/component/booktracker/...</td>\n",
              "      <td>8131</td>\n",
              "    </tr>\n",
              "    <tr>\n",
              "      <th>3</th>\n",
              "      <td>650443</td>\n",
              "      <td>9.780831e+12</td>\n",
              "      <td>9.780831e+12</td>\n",
              "      <td>Dictionary of Biblical Imagery</td>\n",
              "      <td>Duriez, Colin.-Penney, Douglas-Reid, Daniel G....</td>\n",
              "      <td>Inter-Varsity Press</td>\n",
              "      <td>1998</td>\n",
              "      <td>eng</td>\n",
              "      <td>BS537 .D48 1998</td>\n",
              "      <td>Symbolism in the Bible--Dictionaries.</td>\n",
              "      <td>RELIGION / Biblical Reference / Dictionaries &amp;...</td>\n",
              "      <td>220.3</td>\n",
              "      <td>Y</td>\n",
              "      <td>Dictionary of Biblical Imagery</td>\n",
              "      <td>InterVarsity Press</td>\n",
              "      <td>InterVarsity Press</td>\n",
              "      <td>2010</td>\n",
              "      <td>Editors: Ryken, Leland, Wilhoit, James C. and ...</td>\n",
              "      <td>NaN</td>\n",
              "      <td>Religion &amp; Theology - Christianity</td>\n",
              "      <td>The Dictionary of Biblical Imagery is the firs...</td>\n",
              "      <td>$83</td>\n",
              "      <td>False</td>\n",
              "      <td>Live</td>\n",
              "      <td>NaN</td>\n",
              "      <td>No Restrictions</td>\n",
              "      <td>No Restrictions</td>\n",
              "      <td>corp.credoreference.com/component/booktracker/...</td>\n",
              "      <td>12205</td>\n",
              "    </tr>\n",
              "    <tr>\n",
              "      <th>4</th>\n",
              "      <td>439323</td>\n",
              "      <td>9.780691e+12</td>\n",
              "      <td>9.781401e+12</td>\n",
              "      <td>The \"Book of Mormon\"</td>\n",
              "      <td>Gutjahr, Paul C.</td>\n",
              "      <td>Princeton University Press</td>\n",
              "      <td>2012</td>\n",
              "      <td>eng</td>\n",
              "      <td>BX8627 .G88 2012</td>\n",
              "      <td>NaN</td>\n",
              "      <td>RELIGION / Christianity / Church of Jesus Chri...</td>\n",
              "      <td>289.3/22;289.322</td>\n",
              "      <td>Y</td>\n",
              "      <td>Lives of Great Religious Books: The Book of Mo...</td>\n",
              "      <td>Princeton University Press</td>\n",
              "      <td>Princeton University Press</td>\n",
              "      <td>2012</td>\n",
              "      <td>Gutjahr, Paul C.</td>\n",
              "      <td>RCL recipient</td>\n",
              "      <td>Religion &amp; Theology - Christianity</td>\n",
              "      <td>Gutjahr shows how Smith's influential book lau...</td>\n",
              "      <td>$70</td>\n",
              "      <td>False</td>\n",
              "      <td>Live</td>\n",
              "      <td>NaN</td>\n",
              "      <td>No Restrictions</td>\n",
              "      <td>No Restrictions</td>\n",
              "      <td>corp.credoreference.com/component/booktracker/...</td>\n",
              "      <td>4119</td>\n",
              "    </tr>\n",
              "    <tr>\n",
              "      <th>5</th>\n",
              "      <td>356475</td>\n",
              "      <td>9.780691e+12</td>\n",
              "      <td>9.781401e+12</td>\n",
              "      <td>Dietrich Bonhoeffer's \"Letters and Papers From...</td>\n",
              "      <td>Marty, Martin E.</td>\n",
              "      <td>Princeton University Press</td>\n",
              "      <td>2011</td>\n",
              "      <td>eng</td>\n",
              "      <td>BX4827.B57 M359 2011eb</td>\n",
              "      <td>Prisoners of war--Germany--Correspondence.,The...</td>\n",
              "      <td>RELIGION / Christianity / History</td>\n",
              "      <td>230/.044092</td>\n",
              "      <td>Y</td>\n",
              "      <td>Lives of Great Religious Books: Dietrich Bonho...</td>\n",
              "      <td>Princeton University Press</td>\n",
              "      <td>Princeton University Press</td>\n",
              "      <td>2011</td>\n",
              "      <td>Marty, Martin E.</td>\n",
              "      <td>RCL recipient</td>\n",
              "      <td>Religion &amp; Theology - Christianity</td>\n",
              "      <td>For fascination, influence, inspiration, and c...</td>\n",
              "      <td>$70</td>\n",
              "      <td>False</td>\n",
              "      <td>Live</td>\n",
              "      <td>NaN</td>\n",
              "      <td>No Restrictions</td>\n",
              "      <td>No Restrictions</td>\n",
              "      <td>corp.credoreference.com/component/booktracker/...</td>\n",
              "      <td>4117</td>\n",
              "    </tr>\n",
              "    <tr>\n",
              "      <th>6</th>\n",
              "      <td>356016</td>\n",
              "      <td>9.780691e+12</td>\n",
              "      <td>9.781401e+12</td>\n",
              "      <td>Augustine's \"Confessions\"</td>\n",
              "      <td>Wills, Garry</td>\n",
              "      <td>Princeton University Press</td>\n",
              "      <td>2011</td>\n",
              "      <td>eng</td>\n",
              "      <td>BR65.A62 W55 2011eb</td>\n",
              "      <td>Christian saints--Algeria--Hippo (Extinct city...</td>\n",
              "      <td>RELIGION / Christianity / History</td>\n",
              "      <td>270.2092</td>\n",
              "      <td>Y</td>\n",
              "      <td>Lives of Great Religious Books: Augustine's Co...</td>\n",
              "      <td>Princeton University Press</td>\n",
              "      <td>Princeton University Press</td>\n",
              "      <td>2011</td>\n",
              "      <td>Wills, Gary</td>\n",
              "      <td>RCL recipient</td>\n",
              "      <td>Religion &amp; Theology - Christianity</td>\n",
              "      <td>In this brief and incisive book, Pulitzer Priz...</td>\n",
              "      <td>$56</td>\n",
              "      <td>False</td>\n",
              "      <td>Live</td>\n",
              "      <td>NaN</td>\n",
              "      <td>No Restrictions</td>\n",
              "      <td>No Restrictions</td>\n",
              "      <td>corp.credoreference.com/component/booktracker/...</td>\n",
              "      <td>3424</td>\n",
              "    </tr>\n",
              "    <tr>\n",
              "      <th>7</th>\n",
              "      <td>479267</td>\n",
              "      <td>9.781409e+12</td>\n",
              "      <td>9.781352e+12</td>\n",
              "      <td>The Ashgate Research Companion to John Owen's ...</td>\n",
              "      <td>Jones, Mark-Kapic, Kelly M.</td>\n",
              "      <td>Taylor &amp; Francis (CAM)</td>\n",
              "      <td>2012</td>\n",
              "      <td>eng</td>\n",
              "      <td>BX5207.O88 A84 2012</td>\n",
              "      <td>NaN</td>\n",
              "      <td>RELIGION / Theology</td>\n",
              "      <td>230/.59092</td>\n",
              "      <td>Y</td>\n",
              "      <td>Ashgate Research Companions: The Ashgate Resea...</td>\n",
              "      <td>Taylor &amp; Francis</td>\n",
              "      <td>Ashgate Publishing</td>\n",
              "      <td>2012</td>\n",
              "      <td>Kapic, Kelly M. and Jones, Mark</td>\n",
              "      <td>RCL Recipient</td>\n",
              "      <td>Religion &amp; Theology - Christianity</td>\n",
              "      <td>As a revival in Owen studies and reprints has ...</td>\n",
              "      <td>$67</td>\n",
              "      <td>False</td>\n",
              "      <td>Live</td>\n",
              "      <td>NaN</td>\n",
              "      <td>No Restrictions</td>\n",
              "      <td>No Restrictions</td>\n",
              "      <td>corp.credoreference.com/component/booktracker/...</td>\n",
              "      <td>4487</td>\n",
              "    </tr>\n",
              "  </tbody>\n",
              "</table>\n",
              "</div>"
            ],
            "text/plain": [
              "   Product ID  ...  Edition ID#\n",
              "0      989239  ...        11497\n",
              "1      684985  ...         8129\n",
              "2      684457  ...         8131\n",
              "3      650443  ...        12205\n",
              "4      439323  ...         4119\n",
              "5      356475  ...         4117\n",
              "6      356016  ...         3424\n",
              "7      479267  ...         4487\n",
              "\n",
              "[8 rows x 29 columns]"
            ]
          },
          "metadata": {
            "tags": []
          },
          "execution_count": 122
        }
      ]
    },
    {
      "cell_type": "code",
      "metadata": {
        "id": "lvErohipQB6s",
        "colab_type": "code",
        "colab": {}
      },
      "source": [
        "unique = ebooks2_df.loc[~ebooks2_df['ISBN'].isin(duplicate['ISBN'])]"
      ],
      "execution_count": 0,
      "outputs": []
    },
    {
      "cell_type": "code",
      "metadata": {
        "id": "2ElCxKeqTQ8a",
        "colab_type": "code",
        "outputId": "4b07c1b8-670c-4462-c00a-ca32790d5e85",
        "colab": {
          "base_uri": "https://localhost:8080/",
          "height": 34
        }
      },
      "source": [
        "ebooks2_df.shape"
      ],
      "execution_count": 0,
      "outputs": [
        {
          "output_type": "execute_result",
          "data": {
            "text/plain": [
              "(91, 17)"
            ]
          },
          "metadata": {
            "tags": []
          },
          "execution_count": 124
        }
      ]
    },
    {
      "cell_type": "code",
      "metadata": {
        "id": "qlp9Fo3bTcY7",
        "colab_type": "code",
        "outputId": "18d6308d-fd95-4a18-e6cc-29cdb3643d8f",
        "colab": {
          "base_uri": "https://localhost:8080/",
          "height": 34
        }
      },
      "source": [
        "unique.shape"
      ],
      "execution_count": 0,
      "outputs": [
        {
          "output_type": "execute_result",
          "data": {
            "text/plain": [
              "(83, 17)"
            ]
          },
          "metadata": {
            "tags": []
          },
          "execution_count": 44
        }
      ]
    },
    {
      "cell_type": "markdown",
      "metadata": {
        "id": "nsnDlI4nUimH",
        "colab_type": "text"
      },
      "source": [
        "### Advanced Matching \n",
        "\n"
      ]
    },
    {
      "cell_type": "markdown",
      "metadata": {
        "id": "YAlwJt5sm4rQ",
        "colab_type": "text"
      },
      "source": [
        "Spell checks and suggested typing work with [Levenshtein distance](https://en.wikipedia.org/wiki/Levenshtein_distance).  \n",
        "\n",
        "This algorithm can also be applied to matching text strings. "
      ]
    },
    {
      "cell_type": "code",
      "metadata": {
        "id": "1s3cn-wPVKFL",
        "colab_type": "code",
        "outputId": "09c79d22-ff03-4d46-ceb8-1e87b14bdcaa",
        "colab": {
          "base_uri": "https://localhost:8080/",
          "height": 34
        }
      },
      "source": [
        "!pip install fuzzywuzzy"
      ],
      "execution_count": 0,
      "outputs": [
        {
          "output_type": "stream",
          "text": [
            "Requirement already satisfied: fuzzywuzzy in /usr/local/lib/python3.6/dist-packages (0.17.0)\n"
          ],
          "name": "stdout"
        }
      ]
    },
    {
      "cell_type": "code",
      "metadata": {
        "id": "w4R-ccAgVMcY",
        "colab_type": "code",
        "colab": {}
      },
      "source": [
        "from fuzzywuzzy import fuzz\n",
        "title_dict_list = ebooks1_df[['ISBN', 'Title']].to_dict(orient='record')\n",
        "title_dict = {}\n",
        "for title in title_dict_list:\n",
        "  title_dict[title['ISBN']] = title\n",
        "\n",
        "\n",
        "def title_matcher(row, title_dict_list, title_dict):\n",
        "  matches = []\n",
        "  try:\n",
        "    title_match = title_dict[row['ISBN']]\n",
        "    return title_match['Title']\n",
        "  except KeyError:\n",
        "    pass\n",
        "  for title in title_dict_list:\n",
        "    fuzzratio = fuzz.ratio(row['Title'].lower(), title['Title'].lower())\n",
        "    if fuzzratio > 90:\n",
        "      matches.append((title['ISBN'], title['Title']))\n",
        "  titles = '; '.join(m[1] for m in matches)\n",
        "  return titles"
      ],
      "execution_count": 0,
      "outputs": []
    },
    {
      "cell_type": "code",
      "metadata": {
        "id": "PAblUrOlc_SU",
        "colab_type": "code",
        "colab": {}
      },
      "source": [
        "ebooks2_df['Title_Match'] = ebooks2_df.apply(lambda x: title_matcher(x, title_dict_list, title_dict), axis=1)  #, axis=1)"
      ],
      "execution_count": 0,
      "outputs": []
    },
    {
      "cell_type": "code",
      "metadata": {
        "id": "oMSUWJTKjDIc",
        "colab_type": "code",
        "colab": {}
      },
      "source": [
        "match_df = ebooks2_df[ebooks2_df['Title_Match'] != '']"
      ],
      "execution_count": 0,
      "outputs": []
    },
    {
      "cell_type": "code",
      "metadata": {
        "id": "ERdBtDHftIs2",
        "colab_type": "code",
        "outputId": "6c3a5ab4-0f16-46e2-b7d5-aca3408c7f8f",
        "colab": {
          "base_uri": "https://localhost:8080/",
          "height": 332
        }
      },
      "source": [
        "match_df[['Title', 'Title_Match', 'ISBN']]"
      ],
      "execution_count": 0,
      "outputs": [
        {
          "output_type": "execute_result",
          "data": {
            "text/html": [
              "<div>\n",
              "<style scoped>\n",
              "    .dataframe tbody tr th:only-of-type {\n",
              "        vertical-align: middle;\n",
              "    }\n",
              "\n",
              "    .dataframe tbody tr th {\n",
              "        vertical-align: top;\n",
              "    }\n",
              "\n",
              "    .dataframe thead th {\n",
              "        text-align: right;\n",
              "    }\n",
              "</style>\n",
              "<table border=\"1\" class=\"dataframe\">\n",
              "  <thead>\n",
              "    <tr style=\"text-align: right;\">\n",
              "      <th></th>\n",
              "      <th>Title</th>\n",
              "      <th>Title_Match</th>\n",
              "      <th>ISBN</th>\n",
              "    </tr>\n",
              "  </thead>\n",
              "  <tbody>\n",
              "    <tr>\n",
              "      <th>6</th>\n",
              "      <td>Lives of Great Religious Books: Augustine's Co...</td>\n",
              "      <td>Augustine's \"Confessions\"</td>\n",
              "      <td>9.780691e+12</td>\n",
              "    </tr>\n",
              "    <tr>\n",
              "      <th>10</th>\n",
              "      <td>Christian Theology</td>\n",
              "      <td>Christian Theology; Christian Theology</td>\n",
              "      <td>9.780801e+12</td>\n",
              "    </tr>\n",
              "    <tr>\n",
              "      <th>17</th>\n",
              "      <td>Ancient Christian Texts: Commentary on Isaiah</td>\n",
              "      <td>Commentary on Isaiah</td>\n",
              "      <td>9.780831e+12</td>\n",
              "    </tr>\n",
              "    <tr>\n",
              "      <th>19</th>\n",
              "      <td>Ancient Christian Texts: Commentary on John: V...</td>\n",
              "      <td>Commentary on John</td>\n",
              "      <td>9.780831e+12</td>\n",
              "    </tr>\n",
              "    <tr>\n",
              "      <th>20</th>\n",
              "      <td>Ancient Christian Texts: Commentary on John: V...</td>\n",
              "      <td>Commentary on John</td>\n",
              "      <td>9.780831e+12</td>\n",
              "    </tr>\n",
              "    <tr>\n",
              "      <th>24</th>\n",
              "      <td>Dictionary of Biblical Imagery</td>\n",
              "      <td>Dictionary of Biblical Imagery</td>\n",
              "      <td>9.780831e+12</td>\n",
              "    </tr>\n",
              "    <tr>\n",
              "      <th>31</th>\n",
              "      <td>Lives of Great Religious Books: Dietrich Bonho...</td>\n",
              "      <td>Dietrich Bonhoeffer's \"Letters and Papers From...</td>\n",
              "      <td>9.780691e+12</td>\n",
              "    </tr>\n",
              "    <tr>\n",
              "      <th>63</th>\n",
              "      <td>Ashgate Research Companions: The Ashgate Resea...</td>\n",
              "      <td>The Ashgate Research Companion to John Owen's ...</td>\n",
              "      <td>9.781409e+12</td>\n",
              "    </tr>\n",
              "    <tr>\n",
              "      <th>78</th>\n",
              "      <td>Lives of Great Religious Books: The Book of Mo...</td>\n",
              "      <td>The \"Book of Mormon\"</td>\n",
              "      <td>9.780691e+12</td>\n",
              "    </tr>\n",
              "  </tbody>\n",
              "</table>\n",
              "</div>"
            ],
            "text/plain": [
              "                                                Title  ...          ISBN\n",
              "6   Lives of Great Religious Books: Augustine's Co...  ...  9.780691e+12\n",
              "10                                 Christian Theology  ...  9.780801e+12\n",
              "17      Ancient Christian Texts: Commentary on Isaiah  ...  9.780831e+12\n",
              "19  Ancient Christian Texts: Commentary on John: V...  ...  9.780831e+12\n",
              "20  Ancient Christian Texts: Commentary on John: V...  ...  9.780831e+12\n",
              "24                     Dictionary of Biblical Imagery  ...  9.780831e+12\n",
              "31  Lives of Great Religious Books: Dietrich Bonho...  ...  9.780691e+12\n",
              "63  Ashgate Research Companions: The Ashgate Resea...  ...  9.781409e+12\n",
              "78  Lives of Great Religious Books: The Book of Mo...  ...  9.780691e+12\n",
              "\n",
              "[9 rows x 3 columns]"
            ]
          },
          "metadata": {
            "tags": []
          },
          "execution_count": 131
        }
      ]
    },
    {
      "cell_type": "code",
      "metadata": {
        "id": "gGn4a_Y60X0f",
        "colab_type": "code",
        "outputId": "1344a75a-f2e5-439b-ce9b-56c76e780a17",
        "colab": {
          "base_uri": "https://localhost:8080/",
          "height": 300
        }
      },
      "source": [
        "duplicate[['Title_x', 'Title_y']]"
      ],
      "execution_count": 0,
      "outputs": [
        {
          "output_type": "execute_result",
          "data": {
            "text/html": [
              "<div>\n",
              "<style scoped>\n",
              "    .dataframe tbody tr th:only-of-type {\n",
              "        vertical-align: middle;\n",
              "    }\n",
              "\n",
              "    .dataframe tbody tr th {\n",
              "        vertical-align: top;\n",
              "    }\n",
              "\n",
              "    .dataframe thead th {\n",
              "        text-align: right;\n",
              "    }\n",
              "</style>\n",
              "<table border=\"1\" class=\"dataframe\">\n",
              "  <thead>\n",
              "    <tr style=\"text-align: right;\">\n",
              "      <th></th>\n",
              "      <th>Title_x</th>\n",
              "      <th>Title_y</th>\n",
              "    </tr>\n",
              "  </thead>\n",
              "  <tbody>\n",
              "    <tr>\n",
              "      <th>0</th>\n",
              "      <td>Commentary on John</td>\n",
              "      <td>Ancient Christian Texts: Commentary on John: V...</td>\n",
              "    </tr>\n",
              "    <tr>\n",
              "      <th>1</th>\n",
              "      <td>Commentary on Isaiah</td>\n",
              "      <td>Ancient Christian Texts: Commentary on Isaiah</td>\n",
              "    </tr>\n",
              "    <tr>\n",
              "      <th>2</th>\n",
              "      <td>Commentary on John</td>\n",
              "      <td>Ancient Christian Texts: Commentary on John: V...</td>\n",
              "    </tr>\n",
              "    <tr>\n",
              "      <th>3</th>\n",
              "      <td>Dictionary of Biblical Imagery</td>\n",
              "      <td>Dictionary of Biblical Imagery</td>\n",
              "    </tr>\n",
              "    <tr>\n",
              "      <th>4</th>\n",
              "      <td>The \"Book of Mormon\"</td>\n",
              "      <td>Lives of Great Religious Books: The Book of Mo...</td>\n",
              "    </tr>\n",
              "    <tr>\n",
              "      <th>5</th>\n",
              "      <td>Dietrich Bonhoeffer's \"Letters and Papers From...</td>\n",
              "      <td>Lives of Great Religious Books: Dietrich Bonho...</td>\n",
              "    </tr>\n",
              "    <tr>\n",
              "      <th>6</th>\n",
              "      <td>Augustine's \"Confessions\"</td>\n",
              "      <td>Lives of Great Religious Books: Augustine's Co...</td>\n",
              "    </tr>\n",
              "    <tr>\n",
              "      <th>7</th>\n",
              "      <td>The Ashgate Research Companion to John Owen's ...</td>\n",
              "      <td>Ashgate Research Companions: The Ashgate Resea...</td>\n",
              "    </tr>\n",
              "  </tbody>\n",
              "</table>\n",
              "</div>"
            ],
            "text/plain": [
              "                                             Title_x                                            Title_y\n",
              "0                                 Commentary on John  Ancient Christian Texts: Commentary on John: V...\n",
              "1                               Commentary on Isaiah      Ancient Christian Texts: Commentary on Isaiah\n",
              "2                                 Commentary on John  Ancient Christian Texts: Commentary on John: V...\n",
              "3                     Dictionary of Biblical Imagery                     Dictionary of Biblical Imagery\n",
              "4                               The \"Book of Mormon\"  Lives of Great Religious Books: The Book of Mo...\n",
              "5  Dietrich Bonhoeffer's \"Letters and Papers From...  Lives of Great Religious Books: Dietrich Bonho...\n",
              "6                          Augustine's \"Confessions\"  Lives of Great Religious Books: Augustine's Co...\n",
              "7  The Ashgate Research Companion to John Owen's ...  Ashgate Research Companions: The Ashgate Resea..."
            ]
          },
          "metadata": {
            "tags": []
          },
          "execution_count": 136
        }
      ]
    },
    {
      "cell_type": "code",
      "metadata": {
        "id": "rH91Nh381CPS",
        "colab_type": "code",
        "outputId": "1b761b13-023b-464e-8f01-6a84bc80e757",
        "colab": {
          "base_uri": "https://localhost:8080/",
          "height": 347
        }
      },
      "source": [
        "ebooks2_df.iloc[10]"
      ],
      "execution_count": 0,
      "outputs": [
        {
          "output_type": "execute_result",
          "data": {
            "text/plain": [
              "Title                                                         Christian Theology\n",
              "Publisher                                                 Baker Publishing Group\n",
              "Imprint                                                   Baker Publishing Group\n",
              "Publication Year                                                            2013\n",
              "Editor/ Author                                              Erickson, Millard J.\n",
              "ISBN                                                                  9.7808e+12\n",
              "Awards                                                                       NaN\n",
              "Subject                                       Religion & Theology - Christianity\n",
              "Description                    Leading evangelical scholar Millard Erickson o...\n",
              "USD List Price                                                              $50 \n",
              "Single-User Restriction                                                     True\n",
              "Title Phase                                                                 Live\n",
              "Predicted Release Quarter                                                    NaN\n",
              "Multi-Site Sales Restricted                                      No Restrictions\n",
              "Geographic Sales Regions                                         No Restrictions\n",
              "Corp URL                       corp.credoreference.com/component/booktracker/...\n",
              "Edition ID#                                                                10528\n",
              "Title_Match                               Christian Theology; Christian Theology\n",
              "Name: 10, dtype: object"
            ]
          },
          "metadata": {
            "tags": []
          },
          "execution_count": 139
        }
      ]
    },
    {
      "cell_type": "code",
      "metadata": {
        "id": "TxSGDSEy1Pqk",
        "colab_type": "code",
        "outputId": "672844f9-dc39-4b5a-98cd-8b0e6ed02bcf",
        "colab": {
          "base_uri": "https://localhost:8080/",
          "height": 1057
        }
      },
      "source": [
        "# Finding the duplicate\n",
        "ebooks1_df[ebooks1_df['Title'].str.contains('Christian Theology')]"
      ],
      "execution_count": 0,
      "outputs": [
        {
          "output_type": "execute_result",
          "data": {
            "text/html": [
              "<div>\n",
              "<style scoped>\n",
              "    .dataframe tbody tr th:only-of-type {\n",
              "        vertical-align: middle;\n",
              "    }\n",
              "\n",
              "    .dataframe tbody tr th {\n",
              "        vertical-align: top;\n",
              "    }\n",
              "\n",
              "    .dataframe thead th {\n",
              "        text-align: right;\n",
              "    }\n",
              "</style>\n",
              "<table border=\"1\" class=\"dataframe\">\n",
              "  <thead>\n",
              "    <tr style=\"text-align: right;\">\n",
              "      <th></th>\n",
              "      <th>Product ID</th>\n",
              "      <th>ISBN</th>\n",
              "      <th>eISBN</th>\n",
              "      <th>Title</th>\n",
              "      <th>Author</th>\n",
              "      <th>Publisher</th>\n",
              "      <th>Publication Year</th>\n",
              "      <th>Language</th>\n",
              "      <th>LCC</th>\n",
              "      <th>LC Subject Heading</th>\n",
              "      <th>BISAC</th>\n",
              "      <th>DDC</th>\n",
              "      <th>Downloadable</th>\n",
              "    </tr>\n",
              "  </thead>\n",
              "  <tbody>\n",
              "    <tr>\n",
              "      <th>2628</th>\n",
              "      <td>519991</td>\n",
              "      <td>NaN</td>\n",
              "      <td>9.780834e+12</td>\n",
              "      <td>Christian Theology</td>\n",
              "      <td>Wiley, H. Orton</td>\n",
              "      <td>Foundry Publishing</td>\n",
              "      <td>1952</td>\n",
              "      <td>eng</td>\n",
              "      <td>BT75.2 .W55 1952eb</td>\n",
              "      <td>Theology, Doctrinal.</td>\n",
              "      <td>RELIGION / Christian Theology / Systematic</td>\n",
              "      <td>230</td>\n",
              "      <td>Y</td>\n",
              "    </tr>\n",
              "    <tr>\n",
              "      <th>2629</th>\n",
              "      <td>561520</td>\n",
              "      <td>9.780834e+12</td>\n",
              "      <td>9.780834e+12</td>\n",
              "      <td>Introduction to Christian Theology</td>\n",
              "      <td>Wiley, H. Orton-Culbertson, Paul T.</td>\n",
              "      <td>Foundry Publishing</td>\n",
              "      <td>1946</td>\n",
              "      <td>eng</td>\n",
              "      <td>BT65 .W55 1946eb</td>\n",
              "      <td>Theology, Doctrinal.,Theology.</td>\n",
              "      <td>RELIGION / Christian Church / Administration</td>\n",
              "      <td>254</td>\n",
              "      <td>Y</td>\n",
              "    </tr>\n",
              "    <tr>\n",
              "      <th>2631</th>\n",
              "      <td>519992</td>\n",
              "      <td>NaN</td>\n",
              "      <td>9.780834e+12</td>\n",
              "      <td>Christian Theology</td>\n",
              "      <td>Wiley, H. Orton</td>\n",
              "      <td>Foundry Publishing</td>\n",
              "      <td>1943</td>\n",
              "      <td>eng</td>\n",
              "      <td>BT75 .W55 1943</td>\n",
              "      <td>Theology, Doctrinal.</td>\n",
              "      <td>RELIGION / Christianity / General</td>\n",
              "      <td>230.01</td>\n",
              "      <td>Y</td>\n",
              "    </tr>\n",
              "    <tr>\n",
              "      <th>2991</th>\n",
              "      <td>1164261</td>\n",
              "      <td>9.780831e+12</td>\n",
              "      <td>9.780831e+12</td>\n",
              "      <td>An Invitation to Analytic Christian Theology</td>\n",
              "      <td>McCall, Thomas H.</td>\n",
              "      <td>Inter-Varsity Press</td>\n",
              "      <td>2015</td>\n",
              "      <td>eng</td>\n",
              "      <td>BR118</td>\n",
              "      <td>Analysis (Philosophy),Philosophical theology.,...</td>\n",
              "      <td>RELIGION / Christian Theology / General</td>\n",
              "      <td>230/.046</td>\n",
              "      <td>Y</td>\n",
              "    </tr>\n",
              "    <tr>\n",
              "      <th>3454</th>\n",
              "      <td>920466</td>\n",
              "      <td>9.780227e+12</td>\n",
              "      <td>9.780228e+12</td>\n",
              "      <td>Content and Method in Christian Theology</td>\n",
              "      <td>Sell, Alan P. F.</td>\n",
              "      <td>James Clarke &amp; Co</td>\n",
              "      <td>2014</td>\n",
              "      <td>eng</td>\n",
              "      <td>BT21.2 .S455 2014eb</td>\n",
              "      <td>Theology, Doctrinal--History.</td>\n",
              "      <td>RELIGION / Theology</td>\n",
              "      <td>230.092</td>\n",
              "      <td>Y</td>\n",
              "    </tr>\n",
              "    <tr>\n",
              "      <th>3469</th>\n",
              "      <td>852849</td>\n",
              "      <td>9.780227e+12</td>\n",
              "      <td>9.780228e+12</td>\n",
              "      <td>Christian Theology and Islam</td>\n",
              "      <td>Root, Michael-Buckley, James Joseph</td>\n",
              "      <td>James Clarke &amp; Co</td>\n",
              "      <td>2014</td>\n",
              "      <td>eng</td>\n",
              "      <td>BP172 .C438 2014</td>\n",
              "      <td>Christianity and other religions--Islam.,Islam...</td>\n",
              "      <td>RELIGION / Comparative Religion</td>\n",
              "      <td>261.27</td>\n",
              "      <td>Y</td>\n",
              "    </tr>\n",
              "    <tr>\n",
              "      <th>3497</th>\n",
              "      <td>814364</td>\n",
              "      <td>9.780228e+12</td>\n",
              "      <td>9.780228e+12</td>\n",
              "      <td>Christian Theology and Religious Pluralism</td>\n",
              "      <td>Nah, David S.</td>\n",
              "      <td>James Clarke &amp; Co</td>\n",
              "      <td>2013</td>\n",
              "      <td>eng</td>\n",
              "      <td>BR127 .N34 2013eb</td>\n",
              "      <td>Christianity and other religions.,Incarnation-...</td>\n",
              "      <td>RELIGION / Christian Life / Social Issues</td>\n",
              "      <td>261.2</td>\n",
              "      <td>Y</td>\n",
              "    </tr>\n",
              "    <tr>\n",
              "      <th>5708</th>\n",
              "      <td>398365</td>\n",
              "      <td>9.780755e+12</td>\n",
              "      <td>9.781317e+12</td>\n",
              "      <td>Christian Theology and Tragedy</td>\n",
              "      <td>Waller, Giles.-Taylor, T. Kevin.</td>\n",
              "      <td>Taylor &amp; Francis (CAM)</td>\n",
              "      <td>2011</td>\n",
              "      <td>eng</td>\n",
              "      <td>BR115.T73 C47 2011eb</td>\n",
              "      <td>Theology.,Tragedy--History and criticism.,Trag...</td>\n",
              "      <td>RELIGION / Christianity / General</td>\n",
              "      <td>261.5/8</td>\n",
              "      <td>Y</td>\n",
              "    </tr>\n",
              "    <tr>\n",
              "      <th>6037</th>\n",
              "      <td>813783</td>\n",
              "      <td>9.780719e+12</td>\n",
              "      <td>9.780719e+12</td>\n",
              "      <td>Christian Theology and African Traditions</td>\n",
              "      <td>Michael, Matthew.</td>\n",
              "      <td>The Lutterworth Press</td>\n",
              "      <td>2013</td>\n",
              "      <td>eng</td>\n",
              "      <td>BR1360 .M53 2013eb</td>\n",
              "      <td>Christianity--Africa.,Theology.</td>\n",
              "      <td>HISTORY / Africa / General</td>\n",
              "      <td>230.1</td>\n",
              "      <td>Y</td>\n",
              "    </tr>\n",
              "    <tr>\n",
              "      <th>7610</th>\n",
              "      <td>612511</td>\n",
              "      <td>9.781611e+12</td>\n",
              "      <td>9.781622e+12</td>\n",
              "      <td>Christian Theology and African Traditions</td>\n",
              "      <td>Michael, Matthew.</td>\n",
              "      <td>Wipf &amp; Stock Publishers</td>\n",
              "      <td>2013</td>\n",
              "      <td>eng</td>\n",
              "      <td>BR1360 .M53 2013eb</td>\n",
              "      <td>Christianity and culture--Africa.,Religion and...</td>\n",
              "      <td>RELIGION / Christian Theology / History</td>\n",
              "      <td>230.096</td>\n",
              "      <td>Y</td>\n",
              "    </tr>\n",
              "    <tr>\n",
              "      <th>7645</th>\n",
              "      <td>833504</td>\n",
              "      <td>9.781609e+12</td>\n",
              "      <td>9.781622e+12</td>\n",
              "      <td>Christian Theology and Religious Pluralism</td>\n",
              "      <td>Nah, David S.</td>\n",
              "      <td>Wipf &amp; Stock Publishers</td>\n",
              "      <td>2012</td>\n",
              "      <td>eng</td>\n",
              "      <td>BR127 .N334 2012eb</td>\n",
              "      <td>Christianity and other religions.,Incarnation-...</td>\n",
              "      <td>RELIGION / Christianity / General</td>\n",
              "      <td>261.2</td>\n",
              "      <td>Y</td>\n",
              "    </tr>\n",
              "  </tbody>\n",
              "</table>\n",
              "</div>"
            ],
            "text/plain": [
              "      Product ID          ISBN  ...       DDC Downloadable\n",
              "2628      519991           NaN  ...       230            Y\n",
              "2629      561520  9.780834e+12  ...       254            Y\n",
              "2631      519992           NaN  ...    230.01            Y\n",
              "2991     1164261  9.780831e+12  ...  230/.046            Y\n",
              "3454      920466  9.780227e+12  ...   230.092            Y\n",
              "3469      852849  9.780227e+12  ...    261.27            Y\n",
              "3497      814364  9.780228e+12  ...     261.2            Y\n",
              "5708      398365  9.780755e+12  ...   261.5/8            Y\n",
              "6037      813783  9.780719e+12  ...     230.1            Y\n",
              "7610      612511  9.781611e+12  ...   230.096            Y\n",
              "7645      833504  9.781609e+12  ...     261.2            Y\n",
              "\n",
              "[11 rows x 13 columns]"
            ]
          },
          "metadata": {
            "tags": []
          },
          "execution_count": 149
        }
      ]
    },
    {
      "cell_type": "markdown",
      "metadata": {
        "id": "L2RXq4AdJuzR",
        "colab_type": "text"
      },
      "source": [
        "## Finding Files \n",
        "\n",
        "System administration and automation are also one of the key uses for python. "
      ]
    },
    {
      "cell_type": "markdown",
      "metadata": {
        "id": "My0O8qWf1B8J",
        "colab_type": "text"
      },
      "source": [
        "### Imports and systemsetup"
      ]
    },
    {
      "cell_type": "code",
      "metadata": {
        "id": "9pwM-Cq-w8GY",
        "colab_type": "code",
        "colab": {}
      },
      "source": [
        "from shutil import copy2 \n",
        "import os \n",
        "\n",
        "#macOS directories\n",
        "JPEGS_DIR = r'sample_directory/jpegs/'\n",
        "PDFS_DIR = r'sample_directory/sub_dir/pdfs/'\n",
        "EBOOKS_DIR = r'sample_directory/ebooks/'\n",
        "'''\n",
        "#windowes directories \n",
        "JPEGS_DIR = r'sample_directory\\jpegs\\'\n",
        "PDFS_DIR = r'sample_directory\\sub_dir\\pdfs\\'\n",
        "EBOOKS_DIR = r'sample_directory\\ebooks\\'\n",
        "'''\n",
        "# SLASH = r'\\' # For Windows\n",
        "SLASH = r'/' # For Mac"
      ],
      "execution_count": 0,
      "outputs": []
    },
    {
      "cell_type": "markdown",
      "metadata": {
        "id": "ogCkdBPm1IsF",
        "colab_type": "text"
      },
      "source": [
        "### Walking Directory Paths \n"
      ]
    },
    {
      "cell_type": "code",
      "metadata": {
        "id": "CRk1Y6R-2OnG",
        "colab_type": "code",
        "colab": {}
      },
      "source": [
        "\n",
        "def get_path_names(ext, path='sample_directory'):\n",
        "    path_dict = {}\n",
        "    for dirpath, _, fnames in os.walk(path):\n",
        "        for f in fnames:\n",
        "            ftup = os.path.splitext(f)\n",
        "            if ftup[1] == ext:\n",
        "                path_dict[ftup[0]] = dirpath\n",
        "    return path_dict"
      ],
      "execution_count": 0,
      "outputs": []
    },
    {
      "cell_type": "markdown",
      "metadata": {
        "id": "hELqfEdg2gSV",
        "colab_type": "text"
      },
      "source": [
        "### Copying files \n",
        "\n"
      ]
    },
    {
      "cell_type": "code",
      "metadata": {
        "id": "VYcZ6Y4k2ivd",
        "colab_type": "code",
        "colab": {}
      },
      "source": [
        "def file_copier(file_name, dir_dict, ext):\n",
        "  try:\n",
        "    copy2('{}{}{}.{}'.format(dir_loc[file_name], SLASH, file_name, ext))\n",
        "  except (FileNotFoundError, KeyError):\n",
        "    print('File Not Found: {}.{}'.format(file_name, ext))\n",
        "    "
      ],
      "execution_count": 0,
      "outputs": []
    },
    {
      "cell_type": "markdown",
      "metadata": {
        "id": "PoxqAXR6_eZq",
        "colab_type": "text"
      },
      "source": [
        "### Putting it all together\n",
        "\n",
        "Now that we have the pieces of the code, we can put it together to run through all of the functions. "
      ]
    },
    {
      "cell_type": "code",
      "metadata": {
        "id": "E7jqSei__lng",
        "colab_type": "code",
        "colab": {}
      },
      "source": [
        "def main():\n",
        "  files_dir = {\n",
        "      'pdf': get_path_names('pdf', path='sample_directory'+SLASH+'sub_dir'+SLASH+'pdfs'),\n",
        "      'jpeg': get_path_names('jpeg', path='sample_directory'+SLASH+'jpegs'), \n",
        "      'ebook': get_path_names('ebook', path='sample_directory'+SLASH+'ebooks')\n",
        "  } \n",
        "  with open(sys.argv[1]) as files:\n",
        "    for fn in files:\n",
        "      fn = fn.strip() # removing whitespace around the file name \n",
        "      for ext, dir_dict in files_dir.items():\n",
        "        file_copier(fn, dir_dict, ext)\n",
        "  print('Finished')"
      ],
      "execution_count": 0,
      "outputs": []
    },
    {
      "cell_type": "code",
      "metadata": {
        "id": "HAZlqpYfCgPw",
        "colab_type": "code",
        "colab": {}
      },
      "source": [
        ""
      ],
      "execution_count": 0,
      "outputs": []
    },
    {
      "cell_type": "markdown",
      "metadata": {
        "id": "m9H11nJcCg5T",
        "colab_type": "text"
      },
      "source": [
        "### References "
      ]
    },
    {
      "cell_type": "markdown",
      "metadata": {
        "id": "NMIFxOcwKFnW",
        "colab_type": "text"
      },
      "source": [
        "This is the original code, I wrote for moving files. "
      ]
    },
    {
      "cell_type": "code",
      "metadata": {
        "id": "3AFxr03wJ8_R",
        "colab_type": "code",
        "colab": {}
      },
      "source": [
        "#!/usr/bin/env python3\n",
        "'''\n",
        "To use this type:\n",
        "file_finder_and_copy ISBNFILE NEWDIRECTORYNAME. The user needs to supply\n",
        "ISBNFILE and NEWDIRECTORYNAME\n",
        "And it will go line by line through ISBNFILE and copy the files to the\n",
        "specified\n",
        "new directory on your desktop. This directory must be created as new\n",
        "'''\n",
        "\n",
        "from shutil import copy2 # copy2 copies with the metadata to a directory\n",
        "# this takes a standard library and and only imports one of the methods\n",
        "# of the  library\n",
        "import sys # sys is a file that handles some system commands, here it is only\n",
        "# used for importaning the system argument\n",
        "import os # os is Operating System specifics\n",
        "import stat \n",
        "# These are constants that you should change to where you have your\n",
        "# remote directories mounted on your system\n",
        "JPEG_SERVER = r'O:\\Graphic Resources\\Cover Images\\HiRes JPEGs' # you will need to change This\n",
        "# These need be searched within subdirectories\n",
        "EBOOK_SERVER = r'G:\\Digital Library'\n",
        "\n",
        "\n",
        "#This is where you want the temporary directory to be stored\n",
        "PATH_TO_FOLDER = r'C:\\Users\\bgoodwin\\Downloads\\Telegram Desktop' #This is the directory\n",
        "    #for the new files\n",
        "\n",
        "def get_path_names(ext, path=EBOOK_SERVER):\n",
        "    path_dict = {}\n",
        "    for dirpath, _, fnames in os.walk(path):\n",
        "        for f in fnames:\n",
        "            ftup = os.path.splitext(f)\n",
        "            if ftup[1] == ext:\n",
        "                path_dict[ftup[0]] = dirpath\n",
        "    return path_dict\n",
        "\n",
        "\n",
        "def main():\n",
        "    new_dir = PATH_TO_FOLDER + '\\\\' + sys.argv[2] # sys.argv[2] is the\n",
        "        #second item mentioned in the command prompt\n",
        "    os.makedirs(new_dir)\n",
        "    os.chmod(new_dir, stat.S_IWRITE)\n",
        "    # sys.argv[1] is the first argument listed in the command prompt,\n",
        "    # this is the file that you have the isbns stored in\n",
        "    epub_dict = get_path_names('.epub')\n",
        "    pdf_dict = get_path_names('.pdf')\n",
        "\n",
        "\n",
        "    with open(sys.argv[1]) as isbnfile: # This opens files in a way\n",
        "        #that is cleaner for the garbage collector\n",
        "        for isbn in isbnfile:\n",
        "            # copy2 takes two arguments the first is the source files\n",
        "            # the second is the destination where you want to copy it to\n",
        "            isbn = isbn.strip() # This will strip the new line from the\n",
        "                #isbn file\n",
        "            try:\n",
        "                #'somestring{}'.format() will replace the {} with\n",
        "                #whatever is in\n",
        "                # the format function\n",
        "                copy2('{}\\\\{}.jpg'.format(JPEG_SERVER, isbn), new_dir)\n",
        "            except FileNotFoundError:\n",
        "                print('File Not Found: {}.jpg'.format(isbn))\n",
        "            try:\n",
        "                copy2('{}\\\\{}.epub'.format(epub_dict[isbn], isbn), new_dir)\n",
        "            except (KeyError, FileNotFoundError) as e:\n",
        "                print('File Not Found: {}.epub'.format(isbn))\n",
        "            try:\n",
        "                copy2('{}\\\\{}.pdf'.format(pdf_dict[isbn], isbn), new_dir)\n",
        "            except (KeyError, FileNotFoundError) as e:\n",
        "                print('File Not Found: {}.pdf'.format(isbn))\n",
        "\n",
        "\n",
        "if __name__ == '__main__':\n",
        "    main()"
      ],
      "execution_count": 0,
      "outputs": []
    }
  ]
}