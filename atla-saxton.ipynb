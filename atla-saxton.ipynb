{
 "cells": [
  {
   "cell_type": "markdown",
   "metadata": {},
   "source": [
    "# Python Uses for Atla Librarians"
   ]
  },
  {
   "cell_type": "markdown",
   "metadata": {},
   "source": [
    "## Generate Dublin Core XML Records from a Spreadsheet\n",
    "XML (eXtensible Markup Language) is a useful format for ingesting Dublin Core records into a digital reposotry (such as Islandora). However, it is far easier to enter metadata into something like a spreadsheet rather than an xml file. Python allows users to enter metadata into a spreadsheet and then automatically convert each row to an xml file for ingest."
   ]
  },
  {
   "cell_type": "markdown",
   "metadata": {},
   "source": [
    "### Install and Import the Python Libraries you will use"
   ]
  },
  {
   "cell_type": "code",
   "execution_count": null,
   "metadata": {},
   "outputs": [],
   "source": [
    "!pip install dcxml"
   ]
  },
  {
   "cell_type": "code",
   "execution_count": 1,
   "metadata": {},
   "outputs": [],
   "source": [
    "import pandas as pd  # pd is an alias for pandas (coders are lazy and don't want to type too much)\n",
    "from dcxml import simpledc"
   ]
  },
  {
   "cell_type": "markdown",
   "metadata": {},
   "source": [
    "### Load the data"
   ]
  },
  {
   "cell_type": "code",
   "execution_count": null,
   "metadata": {},
   "outputs": [],
   "source": [
    "df = pd.read_csv('https://raw.githubusercontent.com/msaxton/atla2019_workshop/master/dc_sample.csv')"
   ]
  },
  {
   "cell_type": "markdown",
   "metadata": {},
   "source": [
    "Note: The column names MUST be as follows (thought the order doesn't matter): titles, dates, creators, contributors, descriptions, coverage, subject, types, formats, identifiers, languages, publishers, relations, rights, sources."
   ]
  },
  {
   "cell_type": "code",
   "execution_count": null,
   "metadata": {},
   "outputs": [],
   "source": [
    "# inspect data\n",
    "df.head()"
   ]
  },
  {
   "cell_type": "markdown",
   "metadata": {},
   "source": [
    "### Process data"
   ]
  },
  {
   "cell_type": "code",
   "execution_count": null,
   "metadata": {},
   "outputs": [],
   "source": [
    "# replace NaN with and empty string\n",
    "df = df.fillna('')"
   ]
  },
  {
   "cell_type": "markdown",
   "metadata": {},
   "source": [
    "`simpledc` requires that each record be in the form of a Python dictionary, so we will frist convert each row of the dataframe to a dictionary"
   ]
  },
  {
   "cell_type": "code",
   "execution_count": null,
   "metadata": {},
   "outputs": [],
   "source": [
    "# change each row to a Python dictionary\n",
    "list_of_dicts = df.to_dict(orient='records')"
   ]
  },
  {
   "cell_type": "code",
   "execution_count": null,
   "metadata": {},
   "outputs": [],
   "source": [
    "# check data\n",
    "print(list_of_dicts[0])"
   ]
  },
  {
   "cell_type": "markdown",
   "metadata": {},
   "source": [
    "Additionaly, `simpledc` expects that the values of the dictionary will be a Python list, even if the list only has one item. Therefore we will put each of the values in a list."
   ]
  },
  {
   "cell_type": "code",
   "execution_count": null,
   "metadata": {},
   "outputs": [],
   "source": [
    "for dict_ in list_of_dicts:  # iterate through the list of dictionaries\n",
    "    for key, value in dict_.items():  # iterate through each key-value pair in the dictionary\n",
    "        list_values = [value]  # change the value to a list\n",
    "        dict_[key] = list_values  # pair the list of values with the key\n",
    "    xml = simpledc.tostring(dict_) # make each dictionary a dublin core xml string\n",
    "    fn = dict_['identifiers'][0]  # set the idendifier as the file name\n",
    "    with open(fn + '.xml', mode='w', encoding='utf8') as f:\n",
    "        f.write(xml)"
   ]
  },
  {
   "cell_type": "markdown",
   "metadata": {},
   "source": [
    "## Compare Large Ebook Collections\n",
    "Python can be useful when you need to compare a potential new ebook collection with an ebook collection you already own in order to identify duplicates. "
   ]
  },
  {
   "cell_type": "markdown",
   "metadata": {},
   "source": [
    "### Load the data"
   ]
  },
  {
   "cell_type": "code",
   "execution_count": 2,
   "metadata": {},
   "outputs": [],
   "source": [
    "ebooks1_df = pd.read_csv('https://raw.githubusercontent.com/msaxton/atla2019_workshop/master/ebooks1.csv')\n",
    "ebooks2_df = pd.read_csv('https://raw.githubusercontent.com/msaxton/atla2019_workshop/master/ebooks2.csv')"
   ]
  },
  {
   "cell_type": "code",
   "execution_count": 3,
   "metadata": {},
   "outputs": [
    {
     "data": {
      "text/html": [
       "<div>\n",
       "<style scoped>\n",
       "    .dataframe tbody tr th:only-of-type {\n",
       "        vertical-align: middle;\n",
       "    }\n",
       "\n",
       "    .dataframe tbody tr th {\n",
       "        vertical-align: top;\n",
       "    }\n",
       "\n",
       "    .dataframe thead th {\n",
       "        text-align: right;\n",
       "    }\n",
       "</style>\n",
       "<table border=\"1\" class=\"dataframe\">\n",
       "  <thead>\n",
       "    <tr style=\"text-align: right;\">\n",
       "      <th></th>\n",
       "      <th>Product ID</th>\n",
       "      <th>ISBN</th>\n",
       "      <th>eISBN</th>\n",
       "      <th>Title</th>\n",
       "      <th>Author</th>\n",
       "      <th>Publisher</th>\n",
       "      <th>Publication Year</th>\n",
       "      <th>Language</th>\n",
       "      <th>LCC</th>\n",
       "      <th>LC Subject Heading</th>\n",
       "      <th>BISAC</th>\n",
       "      <th>DDC</th>\n",
       "      <th>Downloadable</th>\n",
       "    </tr>\n",
       "  </thead>\n",
       "  <tbody>\n",
       "    <tr>\n",
       "      <th>0</th>\n",
       "      <td>515720</td>\n",
       "      <td>9.788779e+12</td>\n",
       "      <td>9.788779e+12</td>\n",
       "      <td>Religion</td>\n",
       "      <td>Sørensen, Jesper-Hammer, Olav.</td>\n",
       "      <td>Aarhus University Press</td>\n",
       "      <td>2010</td>\n",
       "      <td>dan</td>\n",
       "      <td>BD215 .S663 2010eb</td>\n",
       "      <td>Belief and doubt.,Religion.</td>\n",
       "      <td>PHILOSOPHY / Epistemology</td>\n",
       "      <td>121/.6</td>\n",
       "      <td>Y</td>\n",
       "    </tr>\n",
       "    <tr>\n",
       "      <th>1</th>\n",
       "      <td>515586</td>\n",
       "      <td>9.788779e+12</td>\n",
       "      <td>9.788779e+12</td>\n",
       "      <td>Property and Virginity</td>\n",
       "      <td>Agnes S. Arnórsdóttir.</td>\n",
       "      <td>Aarhus University Press</td>\n",
       "      <td>2010</td>\n",
       "      <td>eng</td>\n",
       "      <td>HQ643 .A36 2010</td>\n",
       "      <td>Marital property--Iceland--History.,Marriage (...</td>\n",
       "      <td>SOCIAL SCIENCE / Sociology / Marriage &amp; Family</td>\n",
       "      <td>306.8</td>\n",
       "      <td>Y</td>\n",
       "    </tr>\n",
       "    <tr>\n",
       "      <th>2</th>\n",
       "      <td>515721</td>\n",
       "      <td>9.788779e+12</td>\n",
       "      <td>9.788779e+12</td>\n",
       "      <td>Religion, Politics, and Law</td>\n",
       "      <td>Lodberg, Peter.</td>\n",
       "      <td>Aarhus University Press</td>\n",
       "      <td>2009</td>\n",
       "      <td>eng</td>\n",
       "      <td>BL65.P7 R44 2009</td>\n",
       "      <td>Democracy--Religious aspects.,Globalization.,R...</td>\n",
       "      <td>RELIGION / Reference</td>\n",
       "      <td>200</td>\n",
       "      <td>Y</td>\n",
       "    </tr>\n",
       "    <tr>\n",
       "      <th>3</th>\n",
       "      <td>515692</td>\n",
       "      <td>9.788779e+12</td>\n",
       "      <td>9.788779e+12</td>\n",
       "      <td>Alexandria</td>\n",
       "      <td>Krasilnikoff, Jens A.-Hinge, George.</td>\n",
       "      <td>Aarhus University Press</td>\n",
       "      <td>2009</td>\n",
       "      <td>eng</td>\n",
       "      <td>DT154.A4 A449 2009</td>\n",
       "      <td>NaN</td>\n",
       "      <td>HISTORY / Middle East / Egypt</td>\n",
       "      <td>962</td>\n",
       "      <td>Y</td>\n",
       "    </tr>\n",
       "    <tr>\n",
       "      <th>4</th>\n",
       "      <td>515644</td>\n",
       "      <td>9.788779e+12</td>\n",
       "      <td>9.788779e+12</td>\n",
       "      <td>The Discursive Fight Over Religious Texts in A...</td>\n",
       "      <td>Jacobsen, Anders-Christian.</td>\n",
       "      <td>Aarhus University Press</td>\n",
       "      <td>2009</td>\n",
       "      <td>eng</td>\n",
       "      <td>BS1135 .D57 2009</td>\n",
       "      <td>Christianity and other religions--Judaism.,Chr...</td>\n",
       "      <td>RELIGION / Christian Theology / Ethics</td>\n",
       "      <td>241.2</td>\n",
       "      <td>Y</td>\n",
       "    </tr>\n",
       "  </tbody>\n",
       "</table>\n",
       "</div>"
      ],
      "text/plain": [
       "   Product ID          ISBN         eISBN  \\\n",
       "0      515720  9.788779e+12  9.788779e+12   \n",
       "1      515586  9.788779e+12  9.788779e+12   \n",
       "2      515721  9.788779e+12  9.788779e+12   \n",
       "3      515692  9.788779e+12  9.788779e+12   \n",
       "4      515644  9.788779e+12  9.788779e+12   \n",
       "\n",
       "                                               Title  \\\n",
       "0                                           Religion   \n",
       "1                             Property and Virginity   \n",
       "2                        Religion, Politics, and Law   \n",
       "3                                         Alexandria   \n",
       "4  The Discursive Fight Over Religious Texts in A...   \n",
       "\n",
       "                                 Author                Publisher  \\\n",
       "0        Sørensen, Jesper-Hammer, Olav.  Aarhus University Press   \n",
       "1              Agnes S. Arnórsdóttir.  Aarhus University Press   \n",
       "2                       Lodberg, Peter.  Aarhus University Press   \n",
       "3  Krasilnikoff, Jens A.-Hinge, George.  Aarhus University Press   \n",
       "4           Jacobsen, Anders-Christian.  Aarhus University Press   \n",
       "\n",
       "   Publication Year Language                 LCC  \\\n",
       "0              2010      dan  BD215 .S663 2010eb   \n",
       "1              2010      eng     HQ643 .A36 2010   \n",
       "2              2009      eng    BL65.P7 R44 2009   \n",
       "3              2009      eng  DT154.A4 A449 2009   \n",
       "4              2009      eng    BS1135 .D57 2009   \n",
       "\n",
       "                                  LC Subject Heading  \\\n",
       "0                        Belief and doubt.,Religion.   \n",
       "1  Marital property--Iceland--History.,Marriage (...   \n",
       "2  Democracy--Religious aspects.,Globalization.,R...   \n",
       "3                                                NaN   \n",
       "4  Christianity and other religions--Judaism.,Chr...   \n",
       "\n",
       "                                            BISAC     DDC Downloadable  \n",
       "0                       PHILOSOPHY / Epistemology  121/.6            Y  \n",
       "1  SOCIAL SCIENCE / Sociology / Marriage & Family   306.8            Y  \n",
       "2                            RELIGION / Reference     200            Y  \n",
       "3                   HISTORY / Middle East / Egypt     962            Y  \n",
       "4          RELIGION / Christian Theology / Ethics   241.2            Y  "
      ]
     },
     "execution_count": 3,
     "metadata": {},
     "output_type": "execute_result"
    }
   ],
   "source": [
    "# inspect data\n",
    "ebooks1_df.head()"
   ]
  },
  {
   "cell_type": "code",
   "execution_count": 4,
   "metadata": {},
   "outputs": [
    {
     "data": {
      "text/plain": [
       "(7894, 13)"
      ]
     },
     "execution_count": 4,
     "metadata": {},
     "output_type": "execute_result"
    }
   ],
   "source": [
    "# inspect data\n",
    "ebooks1_df.shape"
   ]
  },
  {
   "cell_type": "code",
   "execution_count": 5,
   "metadata": {},
   "outputs": [
    {
     "data": {
      "text/html": [
       "<div>\n",
       "<style scoped>\n",
       "    .dataframe tbody tr th:only-of-type {\n",
       "        vertical-align: middle;\n",
       "    }\n",
       "\n",
       "    .dataframe tbody tr th {\n",
       "        vertical-align: top;\n",
       "    }\n",
       "\n",
       "    .dataframe thead th {\n",
       "        text-align: right;\n",
       "    }\n",
       "</style>\n",
       "<table border=\"1\" class=\"dataframe\">\n",
       "  <thead>\n",
       "    <tr style=\"text-align: right;\">\n",
       "      <th></th>\n",
       "      <th>Title</th>\n",
       "      <th>Publisher</th>\n",
       "      <th>Imprint</th>\n",
       "      <th>Publication Year</th>\n",
       "      <th>Editor/ Author</th>\n",
       "      <th>ISBN</th>\n",
       "      <th>Awards</th>\n",
       "      <th>Subject</th>\n",
       "      <th>Description</th>\n",
       "      <th>USD List Price</th>\n",
       "      <th>Single-User Restriction</th>\n",
       "      <th>Title Phase</th>\n",
       "      <th>Predicted Release Quarter</th>\n",
       "      <th>Multi-Site Sales Restricted</th>\n",
       "      <th>Geographic Sales Regions</th>\n",
       "      <th>Corp URL</th>\n",
       "      <th>Edition ID#</th>\n",
       "    </tr>\n",
       "  </thead>\n",
       "  <tbody>\n",
       "    <tr>\n",
       "      <th>0</th>\n",
       "      <td>A Biblical-Theological Introduction to the New...</td>\n",
       "      <td>Crossway</td>\n",
       "      <td>Crossway</td>\n",
       "      <td>2016</td>\n",
       "      <td>Editor: Van Pelt, Miles V.</td>\n",
       "      <td>978-1-4335-3676-2</td>\n",
       "      <td>NaN</td>\n",
       "      <td>Religion &amp; Theology - Christianity</td>\n",
       "      <td>Featuring contributions from respected evangel...</td>\n",
       "      <td>$75</td>\n",
       "      <td>False</td>\n",
       "      <td>Live</td>\n",
       "      <td>NaN</td>\n",
       "      <td>No Restrictions</td>\n",
       "      <td>No Restrictions</td>\n",
       "      <td>corp.credoreference.com/component/booktracker/...</td>\n",
       "      <td>12245</td>\n",
       "    </tr>\n",
       "    <tr>\n",
       "      <th>1</th>\n",
       "      <td>A Biblical-Theological Introduction to the Old...</td>\n",
       "      <td>Crossway</td>\n",
       "      <td>Crossway</td>\n",
       "      <td>2016</td>\n",
       "      <td>Editor: Van Pelt, Miles V.</td>\n",
       "      <td>978-1-4335-3346-4</td>\n",
       "      <td>NaN</td>\n",
       "      <td>Religion &amp; Theology - Christianity</td>\n",
       "      <td>Covering each book in the Old Testament, this ...</td>\n",
       "      <td>$75</td>\n",
       "      <td>False</td>\n",
       "      <td>Live</td>\n",
       "      <td>NaN</td>\n",
       "      <td>No Restrictions</td>\n",
       "      <td>No Restrictions</td>\n",
       "      <td>corp.credoreference.com/component/booktracker/...</td>\n",
       "      <td>12244</td>\n",
       "    </tr>\n",
       "    <tr>\n",
       "      <th>2</th>\n",
       "      <td>A Complete Handbook of Literary Forms in the B...</td>\n",
       "      <td>Crossway</td>\n",
       "      <td>Crossway</td>\n",
       "      <td>2014</td>\n",
       "      <td>Ryken, Leland</td>\n",
       "      <td>978-1-4335-4114-8</td>\n",
       "      <td>NaN</td>\n",
       "      <td>Religion &amp; Theology - Christianity</td>\n",
       "      <td>Whether examining genre, motifs, figures of sp...</td>\n",
       "      <td>$30</td>\n",
       "      <td>False</td>\n",
       "      <td>Live</td>\n",
       "      <td>NaN</td>\n",
       "      <td>No Restrictions</td>\n",
       "      <td>No Restrictions</td>\n",
       "      <td>corp.credoreference.com/component/booktracker/...</td>\n",
       "      <td>9857</td>\n",
       "    </tr>\n",
       "    <tr>\n",
       "      <th>3</th>\n",
       "      <td>A Family Guide to the Bible</td>\n",
       "      <td>Crossway</td>\n",
       "      <td>Crossway</td>\n",
       "      <td>2009</td>\n",
       "      <td>Ditchfield, Christin</td>\n",
       "      <td>978-1-58-134891-0</td>\n",
       "      <td>NaN</td>\n",
       "      <td>Religion &amp; Theology - Christianity</td>\n",
       "      <td>A Family Guide to the Bible takes readers on a...</td>\n",
       "      <td>$39</td>\n",
       "      <td>False</td>\n",
       "      <td>Live</td>\n",
       "      <td>NaN</td>\n",
       "      <td>No Restrictions</td>\n",
       "      <td>No Restrictions</td>\n",
       "      <td>corp.credoreference.com/component/booktracker/...</td>\n",
       "      <td>7961</td>\n",
       "    </tr>\n",
       "    <tr>\n",
       "      <th>4</th>\n",
       "      <td>Blackwell Guides to Global Christianity: A New...</td>\n",
       "      <td>Wiley</td>\n",
       "      <td>Wiley</td>\n",
       "      <td>2011</td>\n",
       "      <td>Bays, Daniel H.</td>\n",
       "      <td>978-1-4051-5954-8</td>\n",
       "      <td>Rated Essential by Choice</td>\n",
       "      <td>Religion &amp; Theology - Christianity</td>\n",
       "      <td>A New History of Christianity in China, writte...</td>\n",
       "      <td>$154</td>\n",
       "      <td>False</td>\n",
       "      <td>Live</td>\n",
       "      <td>NaN</td>\n",
       "      <td>No Restrictions</td>\n",
       "      <td>No Restrictions</td>\n",
       "      <td>corp.credoreference.com/component/booktracker/...</td>\n",
       "      <td>5018</td>\n",
       "    </tr>\n",
       "  </tbody>\n",
       "</table>\n",
       "</div>"
      ],
      "text/plain": [
       "                                               Title Publisher   Imprint  \\\n",
       "0  A Biblical-Theological Introduction to the New...  Crossway  Crossway   \n",
       "1  A Biblical-Theological Introduction to the Old...  Crossway  Crossway   \n",
       "2  A Complete Handbook of Literary Forms in the B...  Crossway  Crossway   \n",
       "3                        A Family Guide to the Bible  Crossway  Crossway   \n",
       "4  Blackwell Guides to Global Christianity: A New...     Wiley     Wiley   \n",
       "\n",
       "   Publication Year              Editor/ Author               ISBN  \\\n",
       "0              2016  Editor: Van Pelt, Miles V.  978-1-4335-3676-2   \n",
       "1              2016  Editor: Van Pelt, Miles V.  978-1-4335-3346-4   \n",
       "2              2014               Ryken, Leland  978-1-4335-4114-8   \n",
       "3              2009        Ditchfield, Christin  978-1-58-134891-0   \n",
       "4              2011             Bays, Daniel H.  978-1-4051-5954-8   \n",
       "\n",
       "                      Awards                             Subject  \\\n",
       "0                        NaN  Religion & Theology - Christianity   \n",
       "1                        NaN  Religion & Theology - Christianity   \n",
       "2                        NaN  Religion & Theology - Christianity   \n",
       "3                        NaN  Religion & Theology - Christianity   \n",
       "4  Rated Essential by Choice  Religion & Theology - Christianity   \n",
       "\n",
       "                                         Description USD List Price  \\\n",
       "0  Featuring contributions from respected evangel...           $75    \n",
       "1  Covering each book in the Old Testament, this ...           $75    \n",
       "2  Whether examining genre, motifs, figures of sp...           $30    \n",
       "3  A Family Guide to the Bible takes readers on a...           $39    \n",
       "4  A New History of Christianity in China, writte...          $154    \n",
       "\n",
       "   Single-User Restriction Title Phase Predicted Release Quarter  \\\n",
       "0                    False        Live                       NaN   \n",
       "1                    False        Live                       NaN   \n",
       "2                    False        Live                       NaN   \n",
       "3                    False        Live                       NaN   \n",
       "4                    False        Live                       NaN   \n",
       "\n",
       "  Multi-Site Sales Restricted Geographic Sales Regions  \\\n",
       "0             No Restrictions          No Restrictions   \n",
       "1             No Restrictions          No Restrictions   \n",
       "2             No Restrictions          No Restrictions   \n",
       "3             No Restrictions          No Restrictions   \n",
       "4             No Restrictions          No Restrictions   \n",
       "\n",
       "                                            Corp URL  Edition ID#  \n",
       "0  corp.credoreference.com/component/booktracker/...        12245  \n",
       "1  corp.credoreference.com/component/booktracker/...        12244  \n",
       "2  corp.credoreference.com/component/booktracker/...         9857  \n",
       "3  corp.credoreference.com/component/booktracker/...         7961  \n",
       "4  corp.credoreference.com/component/booktracker/...         5018  "
      ]
     },
     "execution_count": 5,
     "metadata": {},
     "output_type": "execute_result"
    }
   ],
   "source": [
    "# inspect data\n",
    "ebooks2_df.head()"
   ]
  },
  {
   "cell_type": "code",
   "execution_count": 6,
   "metadata": {},
   "outputs": [
    {
     "data": {
      "text/plain": [
       "(91, 17)"
      ]
     },
     "execution_count": 6,
     "metadata": {},
     "output_type": "execute_result"
    }
   ],
   "source": [
    "# isnspect data\n",
    "ebooks2_df.shape"
   ]
  },
  {
   "cell_type": "markdown",
   "metadata": {},
   "source": [
    "### Point of comparison\n",
    "In order to compare these dataframes, we need a column that contains common infomration. ISBN is probably the best best, but we need to make sure that the ISBN columns are formatted the same way"
   ]
  },
  {
   "cell_type": "code",
   "execution_count": 7,
   "metadata": {},
   "outputs": [
    {
     "data": {
      "text/plain": [
       "False"
      ]
     },
     "execution_count": 7,
     "metadata": {},
     "output_type": "execute_result"
    }
   ],
   "source": [
    "ebooks1_df['ISBN'].dtypes == ebooks2_df['ISBN'].dtypes"
   ]
  },
  {
   "cell_type": "code",
   "execution_count": 8,
   "metadata": {},
   "outputs": [],
   "source": [
    "ebooks2_df['ISBN'] = ebooks2_df['ISBN'].str.replace('-', '')  # remove dashes from ebooks2 data\n",
    "ebooks2_df['ISBN'] = ebooks2_df['ISBN'].astype('float64')  # change the datatype to match ebooks1 data"
   ]
  },
  {
   "cell_type": "code",
   "execution_count": 9,
   "metadata": {},
   "outputs": [
    {
     "data": {
      "text/plain": [
       "True"
      ]
     },
     "execution_count": 9,
     "metadata": {},
     "output_type": "execute_result"
    }
   ],
   "source": [
    "ebooks1_df['ISBN'].dtypes == ebooks2_df['ISBN'].dtypes"
   ]
  },
  {
   "cell_type": "code",
   "execution_count": 12,
   "metadata": {},
   "outputs": [],
   "source": [
    "ebooks2_unique_df = ebooks2_df.loc[~ebooks2_df['ISBN'].isin(ebooks1_df['ISBN'])]\n",
    "ebooks2_duplicate_df = ebooks2_df.loc[ebooks2_df['ISBN'].isin(ebooks1_df['ISBN'])]"
   ]
  },
  {
   "cell_type": "code",
   "execution_count": 11,
   "metadata": {},
   "outputs": [
    {
     "data": {
      "text/plain": [
       "(83, 17)"
      ]
     },
     "execution_count": 11,
     "metadata": {},
     "output_type": "execute_result"
    }
   ],
   "source": [
    "ebooks2_unique_df.shape"
   ]
  },
  {
   "cell_type": "code",
   "execution_count": 13,
   "metadata": {},
   "outputs": [
    {
     "data": {
      "text/plain": [
       "(8, 17)"
      ]
     },
     "execution_count": 13,
     "metadata": {},
     "output_type": "execute_result"
    }
   ],
   "source": [
    "ebooks2_duplicate_df.shape"
   ]
  },
  {
   "cell_type": "code",
   "execution_count": 15,
   "metadata": {},
   "outputs": [
    {
     "data": {
      "text/html": [
       "<div>\n",
       "<style scoped>\n",
       "    .dataframe tbody tr th:only-of-type {\n",
       "        vertical-align: middle;\n",
       "    }\n",
       "\n",
       "    .dataframe tbody tr th {\n",
       "        vertical-align: top;\n",
       "    }\n",
       "\n",
       "    .dataframe thead th {\n",
       "        text-align: right;\n",
       "    }\n",
       "</style>\n",
       "<table border=\"1\" class=\"dataframe\">\n",
       "  <thead>\n",
       "    <tr style=\"text-align: right;\">\n",
       "      <th></th>\n",
       "      <th>Title</th>\n",
       "      <th>Publisher</th>\n",
       "      <th>Imprint</th>\n",
       "      <th>Publication Year</th>\n",
       "      <th>Editor/ Author</th>\n",
       "      <th>ISBN</th>\n",
       "      <th>Awards</th>\n",
       "      <th>Subject</th>\n",
       "      <th>Description</th>\n",
       "      <th>USD List Price</th>\n",
       "      <th>Single-User Restriction</th>\n",
       "      <th>Title Phase</th>\n",
       "      <th>Predicted Release Quarter</th>\n",
       "      <th>Multi-Site Sales Restricted</th>\n",
       "      <th>Geographic Sales Regions</th>\n",
       "      <th>Corp URL</th>\n",
       "      <th>Edition ID#</th>\n",
       "    </tr>\n",
       "  </thead>\n",
       "  <tbody>\n",
       "    <tr>\n",
       "      <th>6</th>\n",
       "      <td>Lives of Great Religious Books: Augustine's Co...</td>\n",
       "      <td>Princeton University Press</td>\n",
       "      <td>Princeton University Press</td>\n",
       "      <td>2011</td>\n",
       "      <td>Wills, Gary</td>\n",
       "      <td>9.780691e+12</td>\n",
       "      <td>RCL recipient</td>\n",
       "      <td>Religion &amp; Theology - Christianity</td>\n",
       "      <td>In this brief and incisive book, Pulitzer Priz...</td>\n",
       "      <td>$56</td>\n",
       "      <td>False</td>\n",
       "      <td>Live</td>\n",
       "      <td>NaN</td>\n",
       "      <td>No Restrictions</td>\n",
       "      <td>No Restrictions</td>\n",
       "      <td>corp.credoreference.com/component/booktracker/...</td>\n",
       "      <td>3424</td>\n",
       "    </tr>\n",
       "    <tr>\n",
       "      <th>17</th>\n",
       "      <td>Ancient Christian Texts: Commentary on Isaiah</td>\n",
       "      <td>InterVarsity Press</td>\n",
       "      <td>InterVarsity Press</td>\n",
       "      <td>2013</td>\n",
       "      <td>Eusebius of Caesarea</td>\n",
       "      <td>9.780831e+12</td>\n",
       "      <td>NaN</td>\n",
       "      <td>Religion &amp; Theology - Christianity</td>\n",
       "      <td>A first-ever English translation of Eusebius's...</td>\n",
       "      <td>$90</td>\n",
       "      <td>False</td>\n",
       "      <td>Live</td>\n",
       "      <td>NaN</td>\n",
       "      <td>No Restrictions</td>\n",
       "      <td>No Restrictions</td>\n",
       "      <td>corp.credoreference.com/component/booktracker/...</td>\n",
       "      <td>8129</td>\n",
       "    </tr>\n",
       "    <tr>\n",
       "      <th>19</th>\n",
       "      <td>Ancient Christian Texts: Commentary on John: V...</td>\n",
       "      <td>InterVarsity Press</td>\n",
       "      <td>InterVarsity Press</td>\n",
       "      <td>2013</td>\n",
       "      <td>Cyril of Alexandria</td>\n",
       "      <td>9.780831e+12</td>\n",
       "      <td>NaN</td>\n",
       "      <td>Religion &amp; Theology - Christianity</td>\n",
       "      <td>David Maxwell renders a service to students of...</td>\n",
       "      <td>$90</td>\n",
       "      <td>False</td>\n",
       "      <td>Live</td>\n",
       "      <td>NaN</td>\n",
       "      <td>No Restrictions</td>\n",
       "      <td>No Restrictions</td>\n",
       "      <td>corp.credoreference.com/component/booktracker/...</td>\n",
       "      <td>8131</td>\n",
       "    </tr>\n",
       "    <tr>\n",
       "      <th>20</th>\n",
       "      <td>Ancient Christian Texts: Commentary on John: V...</td>\n",
       "      <td>InterVarsity Press</td>\n",
       "      <td>InterVarsity Press</td>\n",
       "      <td>2015</td>\n",
       "      <td>Editor: Elowsky, Joel C.</td>\n",
       "      <td>9.780831e+12</td>\n",
       "      <td>NaN</td>\n",
       "      <td>Religion &amp; Theology - Christianity</td>\n",
       "      <td>In the latest addition to the Ancient Christia...</td>\n",
       "      <td>$90</td>\n",
       "      <td>False</td>\n",
       "      <td>Live</td>\n",
       "      <td>NaN</td>\n",
       "      <td>No Restrictions</td>\n",
       "      <td>No Restrictions</td>\n",
       "      <td>corp.credoreference.com/component/booktracker/...</td>\n",
       "      <td>11497</td>\n",
       "    </tr>\n",
       "    <tr>\n",
       "      <th>24</th>\n",
       "      <td>Dictionary of Biblical Imagery</td>\n",
       "      <td>InterVarsity Press</td>\n",
       "      <td>InterVarsity Press</td>\n",
       "      <td>2010</td>\n",
       "      <td>Editors: Ryken, Leland, Wilhoit, James C. and ...</td>\n",
       "      <td>9.780831e+12</td>\n",
       "      <td>NaN</td>\n",
       "      <td>Religion &amp; Theology - Christianity</td>\n",
       "      <td>The Dictionary of Biblical Imagery is the firs...</td>\n",
       "      <td>$83</td>\n",
       "      <td>False</td>\n",
       "      <td>Live</td>\n",
       "      <td>NaN</td>\n",
       "      <td>No Restrictions</td>\n",
       "      <td>No Restrictions</td>\n",
       "      <td>corp.credoreference.com/component/booktracker/...</td>\n",
       "      <td>12205</td>\n",
       "    </tr>\n",
       "    <tr>\n",
       "      <th>31</th>\n",
       "      <td>Lives of Great Religious Books: Dietrich Bonho...</td>\n",
       "      <td>Princeton University Press</td>\n",
       "      <td>Princeton University Press</td>\n",
       "      <td>2011</td>\n",
       "      <td>Marty, Martin E.</td>\n",
       "      <td>9.780691e+12</td>\n",
       "      <td>RCL recipient</td>\n",
       "      <td>Religion &amp; Theology - Christianity</td>\n",
       "      <td>For fascination, influence, inspiration, and c...</td>\n",
       "      <td>$70</td>\n",
       "      <td>False</td>\n",
       "      <td>Live</td>\n",
       "      <td>NaN</td>\n",
       "      <td>No Restrictions</td>\n",
       "      <td>No Restrictions</td>\n",
       "      <td>corp.credoreference.com/component/booktracker/...</td>\n",
       "      <td>4117</td>\n",
       "    </tr>\n",
       "    <tr>\n",
       "      <th>63</th>\n",
       "      <td>Ashgate Research Companions: The Ashgate Resea...</td>\n",
       "      <td>Taylor &amp; Francis</td>\n",
       "      <td>Ashgate Publishing</td>\n",
       "      <td>2012</td>\n",
       "      <td>Kapic, Kelly M. and Jones, Mark</td>\n",
       "      <td>9.781409e+12</td>\n",
       "      <td>RCL Recipient</td>\n",
       "      <td>Religion &amp; Theology - Christianity</td>\n",
       "      <td>As a revival in Owen studies and reprints has ...</td>\n",
       "      <td>$67</td>\n",
       "      <td>False</td>\n",
       "      <td>Live</td>\n",
       "      <td>NaN</td>\n",
       "      <td>No Restrictions</td>\n",
       "      <td>No Restrictions</td>\n",
       "      <td>corp.credoreference.com/component/booktracker/...</td>\n",
       "      <td>4487</td>\n",
       "    </tr>\n",
       "    <tr>\n",
       "      <th>78</th>\n",
       "      <td>Lives of Great Religious Books: The Book of Mo...</td>\n",
       "      <td>Princeton University Press</td>\n",
       "      <td>Princeton University Press</td>\n",
       "      <td>2012</td>\n",
       "      <td>Gutjahr, Paul C.</td>\n",
       "      <td>9.780691e+12</td>\n",
       "      <td>RCL recipient</td>\n",
       "      <td>Religion &amp; Theology - Christianity</td>\n",
       "      <td>Gutjahr shows how Smith's influential book lau...</td>\n",
       "      <td>$70</td>\n",
       "      <td>False</td>\n",
       "      <td>Live</td>\n",
       "      <td>NaN</td>\n",
       "      <td>No Restrictions</td>\n",
       "      <td>No Restrictions</td>\n",
       "      <td>corp.credoreference.com/component/booktracker/...</td>\n",
       "      <td>4119</td>\n",
       "    </tr>\n",
       "  </tbody>\n",
       "</table>\n",
       "</div>"
      ],
      "text/plain": [
       "                                                Title  \\\n",
       "6   Lives of Great Religious Books: Augustine's Co...   \n",
       "17      Ancient Christian Texts: Commentary on Isaiah   \n",
       "19  Ancient Christian Texts: Commentary on John: V...   \n",
       "20  Ancient Christian Texts: Commentary on John: V...   \n",
       "24                     Dictionary of Biblical Imagery   \n",
       "31  Lives of Great Religious Books: Dietrich Bonho...   \n",
       "63  Ashgate Research Companions: The Ashgate Resea...   \n",
       "78  Lives of Great Religious Books: The Book of Mo...   \n",
       "\n",
       "                     Publisher                     Imprint  Publication Year  \\\n",
       "6   Princeton University Press  Princeton University Press              2011   \n",
       "17          InterVarsity Press          InterVarsity Press              2013   \n",
       "19          InterVarsity Press          InterVarsity Press              2013   \n",
       "20          InterVarsity Press          InterVarsity Press              2015   \n",
       "24          InterVarsity Press          InterVarsity Press              2010   \n",
       "31  Princeton University Press  Princeton University Press              2011   \n",
       "63            Taylor & Francis          Ashgate Publishing              2012   \n",
       "78  Princeton University Press  Princeton University Press              2012   \n",
       "\n",
       "                                       Editor/ Author          ISBN  \\\n",
       "6                                         Wills, Gary  9.780691e+12   \n",
       "17                               Eusebius of Caesarea  9.780831e+12   \n",
       "19                                Cyril of Alexandria  9.780831e+12   \n",
       "20                           Editor: Elowsky, Joel C.  9.780831e+12   \n",
       "24  Editors: Ryken, Leland, Wilhoit, James C. and ...  9.780831e+12   \n",
       "31                                   Marty, Martin E.  9.780691e+12   \n",
       "63                    Kapic, Kelly M. and Jones, Mark  9.781409e+12   \n",
       "78                                   Gutjahr, Paul C.  9.780691e+12   \n",
       "\n",
       "           Awards                             Subject  \\\n",
       "6   RCL recipient  Religion & Theology - Christianity   \n",
       "17            NaN  Religion & Theology - Christianity   \n",
       "19            NaN  Religion & Theology - Christianity   \n",
       "20            NaN  Religion & Theology - Christianity   \n",
       "24            NaN  Religion & Theology - Christianity   \n",
       "31  RCL recipient  Religion & Theology - Christianity   \n",
       "63  RCL Recipient  Religion & Theology - Christianity   \n",
       "78  RCL recipient  Religion & Theology - Christianity   \n",
       "\n",
       "                                          Description USD List Price  \\\n",
       "6   In this brief and incisive book, Pulitzer Priz...           $56    \n",
       "17  A first-ever English translation of Eusebius's...           $90    \n",
       "19  David Maxwell renders a service to students of...           $90    \n",
       "20  In the latest addition to the Ancient Christia...           $90    \n",
       "24  The Dictionary of Biblical Imagery is the firs...           $83    \n",
       "31  For fascination, influence, inspiration, and c...           $70    \n",
       "63  As a revival in Owen studies and reprints has ...           $67    \n",
       "78  Gutjahr shows how Smith's influential book lau...           $70    \n",
       "\n",
       "    Single-User Restriction Title Phase Predicted Release Quarter  \\\n",
       "6                     False        Live                       NaN   \n",
       "17                    False        Live                       NaN   \n",
       "19                    False        Live                       NaN   \n",
       "20                    False        Live                       NaN   \n",
       "24                    False        Live                       NaN   \n",
       "31                    False        Live                       NaN   \n",
       "63                    False        Live                       NaN   \n",
       "78                    False        Live                       NaN   \n",
       "\n",
       "   Multi-Site Sales Restricted Geographic Sales Regions  \\\n",
       "6              No Restrictions          No Restrictions   \n",
       "17             No Restrictions          No Restrictions   \n",
       "19             No Restrictions          No Restrictions   \n",
       "20             No Restrictions          No Restrictions   \n",
       "24             No Restrictions          No Restrictions   \n",
       "31             No Restrictions          No Restrictions   \n",
       "63             No Restrictions          No Restrictions   \n",
       "78             No Restrictions          No Restrictions   \n",
       "\n",
       "                                             Corp URL  Edition ID#  \n",
       "6   corp.credoreference.com/component/booktracker/...         3424  \n",
       "17  corp.credoreference.com/component/booktracker/...         8129  \n",
       "19  corp.credoreference.com/component/booktracker/...         8131  \n",
       "20  corp.credoreference.com/component/booktracker/...        11497  \n",
       "24  corp.credoreference.com/component/booktracker/...        12205  \n",
       "31  corp.credoreference.com/component/booktracker/...         4117  \n",
       "63  corp.credoreference.com/component/booktracker/...         4487  \n",
       "78  corp.credoreference.com/component/booktracker/...         4119  "
      ]
     },
     "execution_count": 15,
     "metadata": {},
     "output_type": "execute_result"
    }
   ],
   "source": [
    "ebooks2_duplicate_df"
   ]
  }
 ],
 "metadata": {
  "kernelspec": {
   "display_name": "Python 3",
   "language": "python",
   "name": "python3"
  },
  "language_info": {
   "codemirror_mode": {
    "name": "ipython",
    "version": 3
   },
   "file_extension": ".py",
   "mimetype": "text/x-python",
   "name": "python",
   "nbconvert_exporter": "python",
   "pygments_lexer": "ipython3",
   "version": "3.6.7"
  }
 },
 "nbformat": 4,
 "nbformat_minor": 2
}

